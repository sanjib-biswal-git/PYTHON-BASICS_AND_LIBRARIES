{
  "nbformat": 4,
  "nbformat_minor": 0,
  "metadata": {
    "colab": {
      "provenance": [],
      "authorship_tag": "ABX9TyMN4gMgQhMu+yajIHJRn491",
      "include_colab_link": true
    },
    "kernelspec": {
      "name": "python3",
      "display_name": "Python 3"
    },
    "language_info": {
      "name": "python"
    }
  },
  "cells": [
    {
      "cell_type": "markdown",
      "metadata": {
        "id": "view-in-github",
        "colab_type": "text"
      },
      "source": [
        "<a href=\"https://colab.research.google.com/github/sanjib-biswal-git/PYTHON-BASICS_AND_LIBRARIES/blob/main/Pandas.ipynb\" target=\"_parent\"><img src=\"https://colab.research.google.com/assets/colab-badge.svg\" alt=\"Open In Colab\"/></a>"
      ]
    },
    {
      "cell_type": "markdown",
      "source": [
        "                                     ** Pandas**\n",
        "\n",
        "\n",
        "📊 What is Pandas?\n",
        "\n",
        "Pandas (Python Data Analysis Library) is a Python library for data manipulation and analysis.\n",
        "\n",
        "It’s built on top of NumPy, but adds tabular (Excel/SQL-like) capabilities.\n",
        "\n",
        "The main idea: work with data in rows & columns, not just arrays.                                     "
      ],
      "metadata": {
        "id": "TiW8JnzRofxo"
      }
    },
    {
      "cell_type": "code",
      "source": [
        "# 1. Series (1D labeled array)\n",
        "# Think of it as a column in Excel.\n",
        "\n",
        "import pandas as pd\n",
        "s=pd.Series([10,20,30,40,50],index=[\"a\",\"b\",\"c\",\"d\",\"e\"])\n",
        "print(s)"
      ],
      "metadata": {
        "colab": {
          "base_uri": "https://localhost:8080/"
        },
        "id": "NDuSrO5YpBaY",
        "outputId": "6fc448cf-54bf-4eba-eb44-809769167545"
      },
      "execution_count": 3,
      "outputs": [
        {
          "output_type": "stream",
          "name": "stdout",
          "text": [
            "a    10\n",
            "b    20\n",
            "c    30\n",
            "d    40\n",
            "e    50\n",
            "dtype: int64\n"
          ]
        }
      ]
    },
    {
      "cell_type": "code",
      "source": [
        "# 2. DataFrame (2D labeled data structure)\n",
        "# Think of it as a full Excel sheet or SQL table.\n",
        "\n",
        "import pandas as pd\n",
        "data={\n",
        "    \"Name\":[\"Sanjib\",\"Nitin\",\"Rajesh\"],\n",
        "    \"Age\":[20,21,22],\n",
        "    \"City\":[\"Delhi\",\"Hyderabad\",\"Bangalore\"]\n",
        "}\n",
        "df = pd.DataFrame(data);\n",
        "print(df)"
      ],
      "metadata": {
        "colab": {
          "base_uri": "https://localhost:8080/"
        },
        "id": "FAsabGUxpzVc",
        "outputId": "b77549b1-e590-4831-a5de-46b0404329eb"
      },
      "execution_count": 5,
      "outputs": [
        {
          "output_type": "stream",
          "name": "stdout",
          "text": [
            "     Name  Age       City\n",
            "0  Sanjib   20      Delhi\n",
            "1   Nitin   21  Hyderabad\n",
            "2  Rajesh   22  Bangalore\n"
          ]
        }
      ]
    }
  ]
}