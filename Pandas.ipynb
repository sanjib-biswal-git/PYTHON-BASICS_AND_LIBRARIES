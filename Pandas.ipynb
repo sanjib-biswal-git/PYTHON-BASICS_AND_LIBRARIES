{
  "nbformat": 4,
  "nbformat_minor": 0,
  "metadata": {
    "colab": {
      "provenance": [],
      "authorship_tag": "ABX9TyP5mLU7/UKxG5nCpCCPh8mq",
      "include_colab_link": true
    },
    "kernelspec": {
      "name": "python3",
      "display_name": "Python 3"
    },
    "language_info": {
      "name": "python"
    }
  },
  "cells": [
    {
      "cell_type": "markdown",
      "metadata": {
        "id": "view-in-github",
        "colab_type": "text"
      },
      "source": [
        "<a href=\"https://colab.research.google.com/github/sanjib-biswal-git/PYTHON-BASICS_AND_LIBRARIES/blob/main/Pandas.ipynb\" target=\"_parent\"><img src=\"https://colab.research.google.com/assets/colab-badge.svg\" alt=\"Open In Colab\"/></a>"
      ]
    },
    {
      "cell_type": "markdown",
      "source": [
        "# PANDAS - INTRODUCTION"
      ],
      "metadata": {
        "id": "XQEJJQKo0T8a"
      }
    },
    {
      "cell_type": "markdown",
      "source": [
        "📊 What is Pandas?\n",
        "\n",
        "Pandas (Python Data Analysis Library) is a Python library for data manipulation and analysis.\n",
        "\n",
        "It’s built on top of NumPy, but adds tabular (Excel/SQL-like) capabilities.\n",
        "\n",
        "The main idea: work with data in rows & columns, not just arrays.                                     "
      ],
      "metadata": {
        "id": "TiW8JnzRofxo"
      }
    },
    {
      "cell_type": "code",
      "source": [
        "# 1. Series (1D labeled array)\n",
        "# Think of it as a column in Excel.\n",
        "\n",
        "import pandas as pd\n",
        "s=pd.Series([10,20,30,40,50],index=[\"a\",\"b\",\"c\",\"d\",\"e\"])\n",
        "print(s)"
      ],
      "metadata": {
        "colab": {
          "base_uri": "https://localhost:8080/"
        },
        "id": "NDuSrO5YpBaY",
        "outputId": "6fc448cf-54bf-4eba-eb44-809769167545"
      },
      "execution_count": null,
      "outputs": [
        {
          "output_type": "stream",
          "name": "stdout",
          "text": [
            "a    10\n",
            "b    20\n",
            "c    30\n",
            "d    40\n",
            "e    50\n",
            "dtype: int64\n"
          ]
        }
      ]
    },
    {
      "cell_type": "code",
      "source": [
        "# 2. DataFrame (2D labeled data structure)\n",
        "# Think of it as a full Excel sheet or SQL table.\n",
        "\n",
        "import pandas as pd\n",
        "data={\n",
        "    \"Name\":[\"Sanjib\",\"Nitin\",\"Rajesh\"],\n",
        "    \"Age\":[20,21,22],\n",
        "    \"City\":[\"Delhi\",\"Hyderabad\",\"Bangalore\"]\n",
        "}\n",
        "df = pd.DataFrame(data);\n",
        "print(df)"
      ],
      "metadata": {
        "colab": {
          "base_uri": "https://localhost:8080/"
        },
        "id": "FAsabGUxpzVc",
        "outputId": "b77549b1-e590-4831-a5de-46b0404329eb"
      },
      "execution_count": null,
      "outputs": [
        {
          "output_type": "stream",
          "name": "stdout",
          "text": [
            "     Name  Age       City\n",
            "0  Sanjib   20      Delhi\n",
            "1   Nitin   21  Hyderabad\n",
            "2  Rajesh   22  Bangalore\n"
          ]
        }
      ]
    },
    {
      "cell_type": "markdown",
      "source": [
        "# DATA ANALYSIS"
      ],
      "metadata": {
        "id": "lml-FUsdbjiw"
      }
    },
    {
      "cell_type": "markdown",
      "source": [
        ">Data analysis is a process of inspecting , cleansing , transforming and modelling data with the goal of discovering useful information , informing conclusions and supporting decision-making."
      ],
      "metadata": {
        "id": "ywMZi6l4bsEi"
      }
    },
    {
      "cell_type": "markdown",
      "source": [
        "# PYTHON LIBRARIES FOR DATA ANALYSIS"
      ],
      "metadata": {
        "id": "BFKv0MwBchNQ"
      }
    },
    {
      "cell_type": "markdown",
      "source": [
        "1.NUMPY\n",
        "2.STATSMODEL\n",
        "3.MATPLOTLIB\n",
        "4.SCIPY\n",
        "5.SCIKIT LEARN\n",
        "6.PANDAS\n",
        "7.SEABORN"
      ],
      "metadata": {
        "id": "4lJZLWxQcmKZ"
      }
    },
    {
      "cell_type": "markdown",
      "source": [
        "# WHAT IS PANDAS?"
      ],
      "metadata": {
        "id": "oZVrkDZvfGsw"
      }
    },
    {
      "cell_type": "markdown",
      "source": [
        ">The name \"pandas\" has a reference to both \"panel data\" and \"python data analysis\" and was created by wes mckinney in 2008.\n",
        "\n",
        ">Pandas is a python library used for working with data sets.\n",
        "\n",
        ">It has functions for analyzing,cleaning,exploring and manipulating data.\n",
        "\n",
        ">Read and write data structures and diff. formats: csv , JSON , ZIP , XML , txt etc."
      ],
      "metadata": {
        "id": "T8TJo4F6fLSP"
      }
    },
    {
      "cell_type": "markdown",
      "source": [
        "# PANDAS DATA STRUCTURE"
      ],
      "metadata": {
        "id": "OilK4peAgthQ"
      }
    },
    {
      "cell_type": "markdown",
      "source": [
        "1.Series - 1D LABELED ARRAYS | pd.Series(data)\n",
        "\n",
        "2.DataFrames - 2D DS with columns | Much like a table\n",
        "\n",
        "3.Panel - 3D container of data.*italicized text*"
      ],
      "metadata": {
        "id": "L6oeAqRNgy6C"
      }
    },
    {
      "cell_type": "markdown",
      "source": [
        "# IMPORTANCE OF PANDAS"
      ],
      "metadata": {
        "id": "Bu4_FbH6heva"
      }
    },
    {
      "cell_type": "markdown",
      "source": [
        ">Pandas allows us to analyze big data and make conclusions based on statistical theories.\n",
        "\n",
        ">Pandas can clean messy data sets, and make them readable and relevant.\n",
        "\n",
        ">Easy handling of missing data (represented as NaN) in floating point as well as non-floating point data\n",
        "\n",
        ">Size mutability: columns can be inserted and deleted from DataFrame and higher dimensional objects\n",
        "\n",
        ">Data set merging and joining. Flexible reshaping and pivoting of data sets Provide time-series functionality."
      ],
      "metadata": {
        "id": "RSiwXjZYhx-v"
      }
    },
    {
      "cell_type": "markdown",
      "source": [],
      "metadata": {
        "id": "i74QKtgViLyk"
      }
    },
    {
      "cell_type": "markdown",
      "source": [
        "# **PANDAS SERIES**"
      ],
      "metadata": {
        "id": "nQP9YCVijF6n"
      }
    },
    {
      "cell_type": "code",
      "source": [
        "import pandas as pd\n",
        "x=[3,4,5,6,7,8]\n",
        "var = pd.Series(x)\n",
        "print(var)\n",
        "print(var[3]) #6\n",
        "print(type(var))"
      ],
      "metadata": {
        "colab": {
          "base_uri": "https://localhost:8080/"
        },
        "id": "ej5FHL9UjKel",
        "outputId": "7131f7b1-744e-41d9-9570-aa4555487526"
      },
      "execution_count": 4,
      "outputs": [
        {
          "output_type": "stream",
          "name": "stdout",
          "text": [
            "0    3\n",
            "1    4\n",
            "2    5\n",
            "3    6\n",
            "4    7\n",
            "5    8\n",
            "dtype: int64\n",
            "6\n",
            "<class 'pandas.core.series.Series'>\n"
          ]
        }
      ]
    },
    {
      "cell_type": "code",
      "source": [
        "import pandas as pd\n",
        "x=[3,4,5,6,7,8]\n",
        "var = pd.Series(x , index=['a','b','c','d','e','f'], dtype=\"float\" , name=\"Data_Name\")\n",
        "print(var)"
      ],
      "metadata": {
        "colab": {
          "base_uri": "https://localhost:8080/"
        },
        "id": "JWamt1ymj9pm",
        "outputId": "65f57e45-86c6-4bf8-e1b4-76ed7d10b97b"
      },
      "execution_count": 8,
      "outputs": [
        {
          "output_type": "stream",
          "name": "stdout",
          "text": [
            "a    3.0\n",
            "b    4.0\n",
            "c    5.0\n",
            "d    6.0\n",
            "e    7.0\n",
            "f    8.0\n",
            "Name: Data_Name, dtype: float64\n"
          ]
        }
      ]
    },
    {
      "cell_type": "code",
      "source": [
        "#Passing a dict\n",
        "dic={\"name\":[\"Python\",\"C\",\"C++\",\"Java\"],\n",
        "     \"popularity\":[12,13,14,15],\n",
        "     \"rank\":[1,2,3,4]\n",
        "     }\n",
        "\n",
        "var1 = pd.Series(dic)\n",
        "print(var1)"
      ],
      "metadata": {
        "colab": {
          "base_uri": "https://localhost:8080/"
        },
        "id": "NhWiK7gQkw_g",
        "outputId": "80584626-c44a-45a3-97fd-13542613df9b"
      },
      "execution_count": 12,
      "outputs": [
        {
          "output_type": "stream",
          "name": "stdout",
          "text": [
            "name          [Python, C, C++, Java]\n",
            "popularity          [12, 13, 14, 15]\n",
            "rank                    [1, 2, 3, 4]\n",
            "dtype: object\n"
          ]
        }
      ]
    },
    {
      "cell_type": "code",
      "source": [
        "import pandas as pd\n",
        "#repeating the same data\n",
        "var = pd.Series(12,index=[1,2,3,4,5])\n",
        "print(var)"
      ],
      "metadata": {
        "colab": {
          "base_uri": "https://localhost:8080/"
        },
        "id": "LdI0t0IkloUK",
        "outputId": "c2c9f543-71ef-4765-82a7-0f0f09ec6775"
      },
      "execution_count": 14,
      "outputs": [
        {
          "output_type": "stream",
          "name": "stdout",
          "text": [
            "1    12\n",
            "2    12\n",
            "3    12\n",
            "4    12\n",
            "5    12\n",
            "dtype: int64\n"
          ]
        }
      ]
    },
    {
      "cell_type": "code",
      "source": [
        "#Adding two Series\n",
        "s1 = pd.Series(12,index=[1,2,3,4,5,6,7])\n",
        "s2 = pd.Series(12,index=[1,2,3,4])\n",
        "print(s1+s2)\n",
        "#Numpy will give an error if we do the same thing. (Broadcast error)\n",
        "#Works fine with missing data."
      ],
      "metadata": {
        "colab": {
          "base_uri": "https://localhost:8080/"
        },
        "id": "3izXAJgBmKZH",
        "outputId": "75cf0a06-bd81-488b-e096-aa5f469f0111"
      },
      "execution_count": 16,
      "outputs": [
        {
          "output_type": "stream",
          "name": "stdout",
          "text": [
            "1    24.0\n",
            "2    24.0\n",
            "3    24.0\n",
            "4    24.0\n",
            "5     NaN\n",
            "6     NaN\n",
            "7     NaN\n",
            "dtype: float64\n"
          ]
        }
      ]
    },
    {
      "cell_type": "markdown",
      "source": [
        "# Basics of DataFrames in Pandas\n"
      ],
      "metadata": {
        "id": "H2784y7pnDqw"
      }
    },
    {
      "cell_type": "code",
      "source": [
        "# >>DataFrame\n",
        "l=[1,2,3,4,5,6]\n",
        "var =pd.DataFrame(l)\n",
        "print(var)\n",
        "print(type(var))"
      ],
      "metadata": {
        "colab": {
          "base_uri": "https://localhost:8080/"
        },
        "id": "mVIoRvEPnLO7",
        "outputId": "9b3db331-c017-4091-d712-7868c66f0efa"
      },
      "execution_count": 19,
      "outputs": [
        {
          "output_type": "stream",
          "name": "stdout",
          "text": [
            "   0\n",
            "0  1\n",
            "1  2\n",
            "2  3\n",
            "3  4\n",
            "4  5\n",
            "5  6\n",
            "<class 'pandas.core.frame.DataFrame'>\n"
          ]
        }
      ]
    },
    {
      "cell_type": "code",
      "source": [
        "#Passing a dict\n",
        "dic={\"name\":[\"Python\",\"C\",\"C++\",\"Java\"],\n",
        "     \"popularity\":[12,13,14,15],\n",
        "     \"rank\":[1,2,3,4]\n",
        "     }\n",
        "#lengths must be same for DataFrame or it'll give error.\n",
        "var1 = pd.DataFrame(dic)\n",
        "print(var1)"
      ],
      "metadata": {
        "colab": {
          "base_uri": "https://localhost:8080/"
        },
        "id": "Pq1UghzYoM4l",
        "outputId": "af70fbcc-daa2-4881-be6e-01f2b628ed0e"
      },
      "execution_count": 21,
      "outputs": [
        {
          "output_type": "stream",
          "name": "stdout",
          "text": [
            "     name  popularity  rank\n",
            "0  Python          12     1\n",
            "1       C          13     2\n",
            "2     C++          14     3\n",
            "3    Java          15     4\n"
          ]
        }
      ]
    },
    {
      "cell_type": "code",
      "source": [
        "# Passing column attribute\n",
        "d={\"a\":[1,2,3,4,5,6] , \"s\":[1,2,3,4,5,6], \"k\":[1,2,3,4,5,6]}\n",
        "var =pd.DataFrame(d,columns=[\"a\",\"k\"])\n",
        "print(var)\n",
        "print(var[\"a\"][3])  #4"
      ],
      "metadata": {
        "colab": {
          "base_uri": "https://localhost:8080/"
        },
        "id": "MoVhZp4spEBY",
        "outputId": "72a1dec1-b9e8-4715-9bff-3863a55c3e53"
      },
      "execution_count": 32,
      "outputs": [
        {
          "output_type": "stream",
          "name": "stdout",
          "text": [
            "   a  k\n",
            "0  1  1\n",
            "1  2  2\n",
            "2  3  3\n",
            "3  4  4\n",
            "4  5  5\n",
            "5  6  6\n",
            "4\n"
          ]
        }
      ]
    },
    {
      "cell_type": "code",
      "source": [
        "list=[[1,2,3,4,5],[11,12,13,14,15]]\n",
        "var2 = pd.DataFrame(list)\n",
        "print(var2)"
      ],
      "metadata": {
        "colab": {
          "base_uri": "https://localhost:8080/"
        },
        "id": "1AE2dMtQqf7n",
        "outputId": "f9c327f8-37c7-4c37-b4ee-9ae44a64ddce"
      },
      "execution_count": 34,
      "outputs": [
        {
          "output_type": "stream",
          "name": "stdout",
          "text": [
            "    0   1   2   3   4\n",
            "0   1   2   3   4   5\n",
            "1  11  12  13  14  15\n"
          ]
        }
      ]
    },
    {
      "cell_type": "code",
      "source": [
        "#DataFrames using Series\n",
        "sr = {\"s\":pd.Series([1,2,3,4]) , \"r\":pd.Series([1,2,3,4])}\n",
        "var3 = pd.DataFrame(sr)\n",
        "print(var3)"
      ],
      "metadata": {
        "colab": {
          "base_uri": "https://localhost:8080/"
        },
        "id": "6YQvNfDFqzFt",
        "outputId": "093ca798-d38a-44f9-c7c3-31ca069fe73e"
      },
      "execution_count": 36,
      "outputs": [
        {
          "output_type": "stream",
          "name": "stdout",
          "text": [
            "   s  r\n",
            "0  1  1\n",
            "1  2  2\n",
            "2  3  3\n",
            "3  4  4\n"
          ]
        }
      ]
    },
    {
      "cell_type": "markdown",
      "source": [
        "# ARITHMETIC OPERATORS IN PANDAS\n"
      ],
      "metadata": {
        "id": "VhB6AHjLrY6g"
      }
    },
    {
      "cell_type": "code",
      "source": [
        "# Something interesting\n",
        "\n",
        "var = pd.DataFrame({\"A\":[1,2,3,4] , \"B\":[5,6,7,8]})\n",
        "var"
      ],
      "metadata": {
        "colab": {
          "base_uri": "https://localhost:8080/",
          "height": 175
        },
        "id": "N8piKe2Ps2We",
        "outputId": "5ab8d682-5546-4878-9ed5-30b0d2434ecf"
      },
      "execution_count": 41,
      "outputs": [
        {
          "output_type": "execute_result",
          "data": {
            "text/plain": [
              "   A  B\n",
              "0  1  5\n",
              "1  2  6\n",
              "2  3  7\n",
              "3  4  8"
            ],
            "text/html": [
              "\n",
              "  <div id=\"df-9f9e463c-d89a-4dab-a66e-70d2e0a5b7b9\" class=\"colab-df-container\">\n",
              "    <div>\n",
              "<style scoped>\n",
              "    .dataframe tbody tr th:only-of-type {\n",
              "        vertical-align: middle;\n",
              "    }\n",
              "\n",
              "    .dataframe tbody tr th {\n",
              "        vertical-align: top;\n",
              "    }\n",
              "\n",
              "    .dataframe thead th {\n",
              "        text-align: right;\n",
              "    }\n",
              "</style>\n",
              "<table border=\"1\" class=\"dataframe\">\n",
              "  <thead>\n",
              "    <tr style=\"text-align: right;\">\n",
              "      <th></th>\n",
              "      <th>A</th>\n",
              "      <th>B</th>\n",
              "    </tr>\n",
              "  </thead>\n",
              "  <tbody>\n",
              "    <tr>\n",
              "      <th>0</th>\n",
              "      <td>1</td>\n",
              "      <td>5</td>\n",
              "    </tr>\n",
              "    <tr>\n",
              "      <th>1</th>\n",
              "      <td>2</td>\n",
              "      <td>6</td>\n",
              "    </tr>\n",
              "    <tr>\n",
              "      <th>2</th>\n",
              "      <td>3</td>\n",
              "      <td>7</td>\n",
              "    </tr>\n",
              "    <tr>\n",
              "      <th>3</th>\n",
              "      <td>4</td>\n",
              "      <td>8</td>\n",
              "    </tr>\n",
              "  </tbody>\n",
              "</table>\n",
              "</div>\n",
              "    <div class=\"colab-df-buttons\">\n",
              "\n",
              "  <div class=\"colab-df-container\">\n",
              "    <button class=\"colab-df-convert\" onclick=\"convertToInteractive('df-9f9e463c-d89a-4dab-a66e-70d2e0a5b7b9')\"\n",
              "            title=\"Convert this dataframe to an interactive table.\"\n",
              "            style=\"display:none;\">\n",
              "\n",
              "  <svg xmlns=\"http://www.w3.org/2000/svg\" height=\"24px\" viewBox=\"0 -960 960 960\">\n",
              "    <path d=\"M120-120v-720h720v720H120Zm60-500h600v-160H180v160Zm220 220h160v-160H400v160Zm0 220h160v-160H400v160ZM180-400h160v-160H180v160Zm440 0h160v-160H620v160ZM180-180h160v-160H180v160Zm440 0h160v-160H620v160Z\"/>\n",
              "  </svg>\n",
              "    </button>\n",
              "\n",
              "  <style>\n",
              "    .colab-df-container {\n",
              "      display:flex;\n",
              "      gap: 12px;\n",
              "    }\n",
              "\n",
              "    .colab-df-convert {\n",
              "      background-color: #E8F0FE;\n",
              "      border: none;\n",
              "      border-radius: 50%;\n",
              "      cursor: pointer;\n",
              "      display: none;\n",
              "      fill: #1967D2;\n",
              "      height: 32px;\n",
              "      padding: 0 0 0 0;\n",
              "      width: 32px;\n",
              "    }\n",
              "\n",
              "    .colab-df-convert:hover {\n",
              "      background-color: #E2EBFA;\n",
              "      box-shadow: 0px 1px 2px rgba(60, 64, 67, 0.3), 0px 1px 3px 1px rgba(60, 64, 67, 0.15);\n",
              "      fill: #174EA6;\n",
              "    }\n",
              "\n",
              "    .colab-df-buttons div {\n",
              "      margin-bottom: 4px;\n",
              "    }\n",
              "\n",
              "    [theme=dark] .colab-df-convert {\n",
              "      background-color: #3B4455;\n",
              "      fill: #D2E3FC;\n",
              "    }\n",
              "\n",
              "    [theme=dark] .colab-df-convert:hover {\n",
              "      background-color: #434B5C;\n",
              "      box-shadow: 0px 1px 3px 1px rgba(0, 0, 0, 0.15);\n",
              "      filter: drop-shadow(0px 1px 2px rgba(0, 0, 0, 0.3));\n",
              "      fill: #FFFFFF;\n",
              "    }\n",
              "  </style>\n",
              "\n",
              "    <script>\n",
              "      const buttonEl =\n",
              "        document.querySelector('#df-9f9e463c-d89a-4dab-a66e-70d2e0a5b7b9 button.colab-df-convert');\n",
              "      buttonEl.style.display =\n",
              "        google.colab.kernel.accessAllowed ? 'block' : 'none';\n",
              "\n",
              "      async function convertToInteractive(key) {\n",
              "        const element = document.querySelector('#df-9f9e463c-d89a-4dab-a66e-70d2e0a5b7b9');\n",
              "        const dataTable =\n",
              "          await google.colab.kernel.invokeFunction('convertToInteractive',\n",
              "                                                    [key], {});\n",
              "        if (!dataTable) return;\n",
              "\n",
              "        const docLinkHtml = 'Like what you see? Visit the ' +\n",
              "          '<a target=\"_blank\" href=https://colab.research.google.com/notebooks/data_table.ipynb>data table notebook</a>'\n",
              "          + ' to learn more about interactive tables.';\n",
              "        element.innerHTML = '';\n",
              "        dataTable['output_type'] = 'display_data';\n",
              "        await google.colab.output.renderOutput(dataTable, element);\n",
              "        const docLink = document.createElement('div');\n",
              "        docLink.innerHTML = docLinkHtml;\n",
              "        element.appendChild(docLink);\n",
              "      }\n",
              "    </script>\n",
              "  </div>\n",
              "\n",
              "\n",
              "    <div id=\"df-0dda54cd-078c-4544-9332-e0323ad67389\">\n",
              "      <button class=\"colab-df-quickchart\" onclick=\"quickchart('df-0dda54cd-078c-4544-9332-e0323ad67389')\"\n",
              "                title=\"Suggest charts\"\n",
              "                style=\"display:none;\">\n",
              "\n",
              "<svg xmlns=\"http://www.w3.org/2000/svg\" height=\"24px\"viewBox=\"0 0 24 24\"\n",
              "     width=\"24px\">\n",
              "    <g>\n",
              "        <path d=\"M19 3H5c-1.1 0-2 .9-2 2v14c0 1.1.9 2 2 2h14c1.1 0 2-.9 2-2V5c0-1.1-.9-2-2-2zM9 17H7v-7h2v7zm4 0h-2V7h2v10zm4 0h-2v-4h2v4z\"/>\n",
              "    </g>\n",
              "</svg>\n",
              "      </button>\n",
              "\n",
              "<style>\n",
              "  .colab-df-quickchart {\n",
              "      --bg-color: #E8F0FE;\n",
              "      --fill-color: #1967D2;\n",
              "      --hover-bg-color: #E2EBFA;\n",
              "      --hover-fill-color: #174EA6;\n",
              "      --disabled-fill-color: #AAA;\n",
              "      --disabled-bg-color: #DDD;\n",
              "  }\n",
              "\n",
              "  [theme=dark] .colab-df-quickchart {\n",
              "      --bg-color: #3B4455;\n",
              "      --fill-color: #D2E3FC;\n",
              "      --hover-bg-color: #434B5C;\n",
              "      --hover-fill-color: #FFFFFF;\n",
              "      --disabled-bg-color: #3B4455;\n",
              "      --disabled-fill-color: #666;\n",
              "  }\n",
              "\n",
              "  .colab-df-quickchart {\n",
              "    background-color: var(--bg-color);\n",
              "    border: none;\n",
              "    border-radius: 50%;\n",
              "    cursor: pointer;\n",
              "    display: none;\n",
              "    fill: var(--fill-color);\n",
              "    height: 32px;\n",
              "    padding: 0;\n",
              "    width: 32px;\n",
              "  }\n",
              "\n",
              "  .colab-df-quickchart:hover {\n",
              "    background-color: var(--hover-bg-color);\n",
              "    box-shadow: 0 1px 2px rgba(60, 64, 67, 0.3), 0 1px 3px 1px rgba(60, 64, 67, 0.15);\n",
              "    fill: var(--button-hover-fill-color);\n",
              "  }\n",
              "\n",
              "  .colab-df-quickchart-complete:disabled,\n",
              "  .colab-df-quickchart-complete:disabled:hover {\n",
              "    background-color: var(--disabled-bg-color);\n",
              "    fill: var(--disabled-fill-color);\n",
              "    box-shadow: none;\n",
              "  }\n",
              "\n",
              "  .colab-df-spinner {\n",
              "    border: 2px solid var(--fill-color);\n",
              "    border-color: transparent;\n",
              "    border-bottom-color: var(--fill-color);\n",
              "    animation:\n",
              "      spin 1s steps(1) infinite;\n",
              "  }\n",
              "\n",
              "  @keyframes spin {\n",
              "    0% {\n",
              "      border-color: transparent;\n",
              "      border-bottom-color: var(--fill-color);\n",
              "      border-left-color: var(--fill-color);\n",
              "    }\n",
              "    20% {\n",
              "      border-color: transparent;\n",
              "      border-left-color: var(--fill-color);\n",
              "      border-top-color: var(--fill-color);\n",
              "    }\n",
              "    30% {\n",
              "      border-color: transparent;\n",
              "      border-left-color: var(--fill-color);\n",
              "      border-top-color: var(--fill-color);\n",
              "      border-right-color: var(--fill-color);\n",
              "    }\n",
              "    40% {\n",
              "      border-color: transparent;\n",
              "      border-right-color: var(--fill-color);\n",
              "      border-top-color: var(--fill-color);\n",
              "    }\n",
              "    60% {\n",
              "      border-color: transparent;\n",
              "      border-right-color: var(--fill-color);\n",
              "    }\n",
              "    80% {\n",
              "      border-color: transparent;\n",
              "      border-right-color: var(--fill-color);\n",
              "      border-bottom-color: var(--fill-color);\n",
              "    }\n",
              "    90% {\n",
              "      border-color: transparent;\n",
              "      border-bottom-color: var(--fill-color);\n",
              "    }\n",
              "  }\n",
              "</style>\n",
              "\n",
              "      <script>\n",
              "        async function quickchart(key) {\n",
              "          const quickchartButtonEl =\n",
              "            document.querySelector('#' + key + ' button');\n",
              "          quickchartButtonEl.disabled = true;  // To prevent multiple clicks.\n",
              "          quickchartButtonEl.classList.add('colab-df-spinner');\n",
              "          try {\n",
              "            const charts = await google.colab.kernel.invokeFunction(\n",
              "                'suggestCharts', [key], {});\n",
              "          } catch (error) {\n",
              "            console.error('Error during call to suggestCharts:', error);\n",
              "          }\n",
              "          quickchartButtonEl.classList.remove('colab-df-spinner');\n",
              "          quickchartButtonEl.classList.add('colab-df-quickchart-complete');\n",
              "        }\n",
              "        (() => {\n",
              "          let quickchartButtonEl =\n",
              "            document.querySelector('#df-0dda54cd-078c-4544-9332-e0323ad67389 button');\n",
              "          quickchartButtonEl.style.display =\n",
              "            google.colab.kernel.accessAllowed ? 'block' : 'none';\n",
              "        })();\n",
              "      </script>\n",
              "    </div>\n",
              "\n",
              "  <div id=\"id_5f9f0959-b2c7-48aa-8c5d-f668fe64a33b\">\n",
              "    <style>\n",
              "      .colab-df-generate {\n",
              "        background-color: #E8F0FE;\n",
              "        border: none;\n",
              "        border-radius: 50%;\n",
              "        cursor: pointer;\n",
              "        display: none;\n",
              "        fill: #1967D2;\n",
              "        height: 32px;\n",
              "        padding: 0 0 0 0;\n",
              "        width: 32px;\n",
              "      }\n",
              "\n",
              "      .colab-df-generate:hover {\n",
              "        background-color: #E2EBFA;\n",
              "        box-shadow: 0px 1px 2px rgba(60, 64, 67, 0.3), 0px 1px 3px 1px rgba(60, 64, 67, 0.15);\n",
              "        fill: #174EA6;\n",
              "      }\n",
              "\n",
              "      [theme=dark] .colab-df-generate {\n",
              "        background-color: #3B4455;\n",
              "        fill: #D2E3FC;\n",
              "      }\n",
              "\n",
              "      [theme=dark] .colab-df-generate:hover {\n",
              "        background-color: #434B5C;\n",
              "        box-shadow: 0px 1px 3px 1px rgba(0, 0, 0, 0.15);\n",
              "        filter: drop-shadow(0px 1px 2px rgba(0, 0, 0, 0.3));\n",
              "        fill: #FFFFFF;\n",
              "      }\n",
              "    </style>\n",
              "    <button class=\"colab-df-generate\" onclick=\"generateWithVariable('var')\"\n",
              "            title=\"Generate code using this dataframe.\"\n",
              "            style=\"display:none;\">\n",
              "\n",
              "  <svg xmlns=\"http://www.w3.org/2000/svg\" height=\"24px\"viewBox=\"0 0 24 24\"\n",
              "       width=\"24px\">\n",
              "    <path d=\"M7,19H8.4L18.45,9,17,7.55,7,17.6ZM5,21V16.75L18.45,3.32a2,2,0,0,1,2.83,0l1.4,1.43a1.91,1.91,0,0,1,.58,1.4,1.91,1.91,0,0,1-.58,1.4L9.25,21ZM18.45,9,17,7.55Zm-12,3A5.31,5.31,0,0,0,4.9,8.1,5.31,5.31,0,0,0,1,6.5,5.31,5.31,0,0,0,4.9,4.9,5.31,5.31,0,0,0,6.5,1,5.31,5.31,0,0,0,8.1,4.9,5.31,5.31,0,0,0,12,6.5,5.46,5.46,0,0,0,6.5,12Z\"/>\n",
              "  </svg>\n",
              "    </button>\n",
              "    <script>\n",
              "      (() => {\n",
              "      const buttonEl =\n",
              "        document.querySelector('#id_5f9f0959-b2c7-48aa-8c5d-f668fe64a33b button.colab-df-generate');\n",
              "      buttonEl.style.display =\n",
              "        google.colab.kernel.accessAllowed ? 'block' : 'none';\n",
              "\n",
              "      buttonEl.onclick = () => {\n",
              "        google.colab.notebook.generateWithVariable('var');\n",
              "      }\n",
              "      })();\n",
              "    </script>\n",
              "  </div>\n",
              "\n",
              "    </div>\n",
              "  </div>\n"
            ],
            "application/vnd.google.colaboratory.intrinsic+json": {
              "type": "dataframe",
              "variable_name": "var",
              "summary": "{\n  \"name\": \"var\",\n  \"rows\": 4,\n  \"fields\": [\n    {\n      \"column\": \"A\",\n      \"properties\": {\n        \"dtype\": \"number\",\n        \"std\": 1,\n        \"min\": 1,\n        \"max\": 4,\n        \"num_unique_values\": 4,\n        \"samples\": [\n          2,\n          4,\n          1\n        ],\n        \"semantic_type\": \"\",\n        \"description\": \"\"\n      }\n    },\n    {\n      \"column\": \"B\",\n      \"properties\": {\n        \"dtype\": \"number\",\n        \"std\": 1,\n        \"min\": 5,\n        \"max\": 8,\n        \"num_unique_values\": 4,\n        \"samples\": [\n          6,\n          8,\n          5\n        ],\n        \"semantic_type\": \"\",\n        \"description\": \"\"\n      }\n    }\n  ]\n}"
            }
          },
          "metadata": {},
          "execution_count": 41
        }
      ]
    },
    {
      "cell_type": "code",
      "source": [
        "var = pd.DataFrame({\"A\":[1,20,30,40] , \"B\":[5,6,7,8]})\n",
        "print(var)\n",
        "var[\"C\"] = var[\"A\"] + var[\"B\"]  # + , - , * , / , //\n",
        "print(var)\n",
        "\n",
        "var[\"python\"] = var[\"A\"] <=20\n",
        "print(var)"
      ],
      "metadata": {
        "colab": {
          "base_uri": "https://localhost:8080/"
        },
        "id": "jrKbuOUArmrf",
        "outputId": "fc79dcdf-dfa9-48f9-b4e4-71611580ebfb"
      },
      "execution_count": 56,
      "outputs": [
        {
          "output_type": "stream",
          "name": "stdout",
          "text": [
            "    A  B\n",
            "0   1  5\n",
            "1  20  6\n",
            "2  30  7\n",
            "3  40  8\n",
            "    A  B   C\n",
            "0   1  5   6\n",
            "1  20  6  26\n",
            "2  30  7  37\n",
            "3  40  8  48\n",
            "    A  B   C  python\n",
            "0   1  5   6    True\n",
            "1  20  6  26    True\n",
            "2  30  7  37   False\n",
            "3  40  8  48   False\n"
          ]
        }
      ]
    },
    {
      "cell_type": "markdown",
      "source": [
        "# DELETE AND INSERT DATA IN PANDAS"
      ],
      "metadata": {
        "id": "5OUa8zYWvX4g"
      }
    },
    {
      "cell_type": "code",
      "source": [
        "#INSERT\n",
        "import pandas as pd\n",
        "var = pd.DataFrame({\"A\":[1,2,3,4,5] , \"B\":[9,8,7,6,5]})\n",
        "print(var)\n",
        "\n",
        "var.insert(1,\"python\",var[\"A\"])  # insertAsThisIndex(location) , name , data\n",
        "print(var)\n",
        "\n",
        "var.insert(3,\"python_1\",[11,12,13,14,15])  #data must be of same length\n",
        "print(var)"
      ],
      "metadata": {
        "colab": {
          "base_uri": "https://localhost:8080/"
        },
        "id": "qNwtgduive8I",
        "outputId": "646a8065-83b5-4e21-a6f5-138d739f7cc5"
      },
      "execution_count": 68,
      "outputs": [
        {
          "output_type": "stream",
          "name": "stdout",
          "text": [
            "   A  B\n",
            "0  1  9\n",
            "1  2  8\n",
            "2  3  7\n",
            "3  4  6\n",
            "4  5  5\n",
            "   A  python  B\n",
            "0  1       1  9\n",
            "1  2       2  8\n",
            "2  3       3  7\n",
            "3  4       4  6\n",
            "4  5       5  5\n",
            "   A  python  B  python_1\n",
            "0  1       1  9        11\n",
            "1  2       2  8        12\n",
            "2  3       3  7        13\n",
            "3  4       4  6        14\n",
            "4  5       5  5        15\n"
          ]
        }
      ]
    },
    {
      "cell_type": "code",
      "source": [
        "var = pd.DataFrame({\"A\":[1,2,3,4,5] , \"B\":[9,8,7,6,5]})\n",
        "\n",
        "#Copying data using slicing\n",
        "var[\"python\"] = var[\"A\"][:3]\n",
        "\n",
        "print(var)\n",
        "\n"
      ],
      "metadata": {
        "colab": {
          "base_uri": "https://localhost:8080/"
        },
        "id": "vuTVOUbIx0S_",
        "outputId": "19295c52-b2a7-401a-bf5d-ac45a3280d50"
      },
      "execution_count": 73,
      "outputs": [
        {
          "output_type": "stream",
          "name": "stdout",
          "text": [
            "   A  B  python\n",
            "0  1  9     1.0\n",
            "1  2  8     2.0\n",
            "2  3  7     3.0\n",
            "3  4  6     NaN\n",
            "4  5  5     NaN\n"
          ]
        }
      ]
    },
    {
      "cell_type": "code",
      "source": [
        "# DELETE\n",
        "\n",
        "var = pd.DataFrame({\"A\":[1,2,3,4,5] , \"B\":[9,8,7,6,5],\"C\":[11,12,13,14,15]})\n",
        "var1 = var.pop(\"B\")\n",
        "\n",
        "#or del var[\"B\"]\n",
        "\n",
        "print(\"Deleted\")\n",
        "print(var1)\n",
        "print(var)\n"
      ],
      "metadata": {
        "colab": {
          "base_uri": "https://localhost:8080/"
        },
        "id": "BLjQPFPYyiEj",
        "outputId": "4ea1004f-2c99-40a9-9ad3-c5f62fae602c"
      },
      "execution_count": 78,
      "outputs": [
        {
          "output_type": "stream",
          "name": "stdout",
          "text": [
            "Deleted\n",
            "0    9\n",
            "1    8\n",
            "2    7\n",
            "3    6\n",
            "4    5\n",
            "Name: B, dtype: int64\n",
            "   A   C\n",
            "0  1  11\n",
            "1  2  12\n",
            "2  3  13\n",
            "3  4  14\n",
            "4  5  15\n"
          ]
        }
      ]
    },
    {
      "cell_type": "markdown",
      "source": [],
      "metadata": {
        "id": "p8AQ0_nH0X9M"
      }
    },
    {
      "cell_type": "markdown",
      "source": [
        "# Working with the Titanic DataSet\n"
      ],
      "metadata": {
        "id": "tDj9zNRE0dG1"
      }
    },
    {
      "cell_type": "code",
      "source": [
        "import pandas as pd\n",
        "\n",
        "# Titanic dataset\n",
        "url = \"https://raw.githubusercontent.com/datasciencedojo/datasets/master/titanic.csv\"\n",
        "df = pd.read_csv(url)\n",
        "\n",
        "print(\"First 5 rows:\")\n",
        "print(df.head())\n",
        "\n",
        "print(\"\\nInfo:\")\n",
        "print(df.info())\n"
      ],
      "metadata": {
        "colab": {
          "base_uri": "https://localhost:8080/"
        },
        "id": "shzXJt4o0jQc",
        "outputId": "9becba6c-2cba-4bd2-f434-270b3d2fa13d"
      },
      "execution_count": 6,
      "outputs": [
        {
          "output_type": "stream",
          "name": "stdout",
          "text": [
            "First 5 rows:\n",
            "   PassengerId  Survived  Pclass  \\\n",
            "0            1         0       3   \n",
            "1            2         1       1   \n",
            "2            3         1       3   \n",
            "3            4         1       1   \n",
            "4            5         0       3   \n",
            "\n",
            "                                                Name     Sex   Age  SibSp  \\\n",
            "0                            Braund, Mr. Owen Harris    male  22.0      1   \n",
            "1  Cumings, Mrs. John Bradley (Florence Briggs Th...  female  38.0      1   \n",
            "2                             Heikkinen, Miss. Laina  female  26.0      0   \n",
            "3       Futrelle, Mrs. Jacques Heath (Lily May Peel)  female  35.0      1   \n",
            "4                           Allen, Mr. William Henry    male  35.0      0   \n",
            "\n",
            "   Parch            Ticket     Fare Cabin Embarked  \n",
            "0      0         A/5 21171   7.2500   NaN        S  \n",
            "1      0          PC 17599  71.2833   C85        C  \n",
            "2      0  STON/O2. 3101282   7.9250   NaN        S  \n",
            "3      0            113803  53.1000  C123        S  \n",
            "4      0            373450   8.0500   NaN        S  \n",
            "\n",
            "Info:\n",
            "<class 'pandas.core.frame.DataFrame'>\n",
            "RangeIndex: 891 entries, 0 to 890\n",
            "Data columns (total 12 columns):\n",
            " #   Column       Non-Null Count  Dtype  \n",
            "---  ------       --------------  -----  \n",
            " 0   PassengerId  891 non-null    int64  \n",
            " 1   Survived     891 non-null    int64  \n",
            " 2   Pclass       891 non-null    int64  \n",
            " 3   Name         891 non-null    object \n",
            " 4   Sex          891 non-null    object \n",
            " 5   Age          714 non-null    float64\n",
            " 6   SibSp        891 non-null    int64  \n",
            " 7   Parch        891 non-null    int64  \n",
            " 8   Ticket       891 non-null    object \n",
            " 9   Fare         891 non-null    float64\n",
            " 10  Cabin        204 non-null    object \n",
            " 11  Embarked     889 non-null    object \n",
            "dtypes: float64(2), int64(5), object(5)\n",
            "memory usage: 83.7+ KB\n",
            "None\n"
          ]
        }
      ]
    },
    {
      "cell_type": "code",
      "source": [
        "#Indexing and Slicing\n",
        "# loc (label-based)\n",
        "print(df.loc[0, \"Name\"])\n",
        "print(df.loc[0:5, [\"Name\",\"Age\"]])\n",
        "\n",
        "# iloc (position-based)\n",
        "print(df.iloc[0, 2])\n",
        "print(df.iloc[0:5, 0:3])\n"
      ],
      "metadata": {
        "colab": {
          "base_uri": "https://localhost:8080/"
        },
        "id": "DBYvLghW0nmF",
        "outputId": "0f05435b-ca89-4121-bf02-b0256794b32b"
      },
      "execution_count": 8,
      "outputs": [
        {
          "output_type": "stream",
          "name": "stdout",
          "text": [
            "Braund, Mr. Owen Harris\n",
            "                                                Name   Age\n",
            "0                            Braund, Mr. Owen Harris  22.0\n",
            "1  Cumings, Mrs. John Bradley (Florence Briggs Th...  38.0\n",
            "2                             Heikkinen, Miss. Laina  26.0\n",
            "3       Futrelle, Mrs. Jacques Heath (Lily May Peel)  35.0\n",
            "4                           Allen, Mr. William Henry  35.0\n",
            "5                                   Moran, Mr. James   NaN\n",
            "3\n",
            "   PassengerId  Survived  Pclass\n",
            "0            1         0       3\n",
            "1            2         1       1\n",
            "2            3         1       3\n",
            "3            4         1       1\n",
            "4            5         0       3\n"
          ]
        }
      ]
    },
    {
      "cell_type": "code",
      "source": [
        "#Data Cleaning\n",
        "\n",
        "# Missing values\n",
        "print(df.isnull().sum())\n",
        "\n",
        "# Drop rows with missing values\n",
        "df_drop = df.dropna(subset=[\"Age\"])\n",
        "\n",
        "# Fill missing values\n",
        "df[\"Age\"].fillna(df[\"Age\"].median(), inplace=True)\n",
        "\n",
        "# Drop column\n",
        "df_clean = df.drop(\"Cabin\", axis=1)\n",
        "\n",
        "\n",
        "df.rename(columns={\"Pclass\": \"PassengerClass\"}, inplace=True)\n",
        "\n",
        "print(df.head())\n"
      ],
      "metadata": {
        "colab": {
          "base_uri": "https://localhost:8080/"
        },
        "id": "rhQE4-tZ157F",
        "outputId": "1269421c-c635-4406-aa04-6ad636420838"
      },
      "execution_count": 10,
      "outputs": [
        {
          "output_type": "stream",
          "name": "stdout",
          "text": [
            "PassengerId         0\n",
            "Survived            0\n",
            "PassengerClass      0\n",
            "Name                0\n",
            "Sex                 0\n",
            "Age                 0\n",
            "SibSp               0\n",
            "Parch               0\n",
            "Ticket              0\n",
            "Fare                0\n",
            "Cabin             687\n",
            "Embarked            2\n",
            "dtype: int64\n",
            "   PassengerId  Survived  PassengerClass  \\\n",
            "0            1         0               3   \n",
            "1            2         1               1   \n",
            "2            3         1               3   \n",
            "3            4         1               1   \n",
            "4            5         0               3   \n",
            "\n",
            "                                                Name     Sex   Age  SibSp  \\\n",
            "0                            Braund, Mr. Owen Harris    male  22.0      1   \n",
            "1  Cumings, Mrs. John Bradley (Florence Briggs Th...  female  38.0      1   \n",
            "2                             Heikkinen, Miss. Laina  female  26.0      0   \n",
            "3       Futrelle, Mrs. Jacques Heath (Lily May Peel)  female  35.0      1   \n",
            "4                           Allen, Mr. William Henry    male  35.0      0   \n",
            "\n",
            "   Parch            Ticket     Fare Cabin Embarked  \n",
            "0      0         A/5 21171   7.2500   NaN        S  \n",
            "1      0          PC 17599  71.2833   C85        C  \n",
            "2      0  STON/O2. 3101282   7.9250   NaN        S  \n",
            "3      0            113803  53.1000  C123        S  \n",
            "4      0            373450   8.0500   NaN        S  \n"
          ]
        },
        {
          "output_type": "stream",
          "name": "stderr",
          "text": [
            "/tmp/ipython-input-2320773289.py:10: FutureWarning: A value is trying to be set on a copy of a DataFrame or Series through chained assignment using an inplace method.\n",
            "The behavior will change in pandas 3.0. This inplace method will never work because the intermediate object on which we are setting values always behaves as a copy.\n",
            "\n",
            "For example, when doing 'df[col].method(value, inplace=True)', try using 'df.method({col: value}, inplace=True)' or df[col] = df[col].method(value) instead, to perform the operation inplace on the original object.\n",
            "\n",
            "\n",
            "  df[\"Age\"].fillna(df[\"Age\"].median(), inplace=True)\n"
          ]
        }
      ]
    },
    {
      "cell_type": "code",
      "source": [
        "#Aggregation\n",
        "\n",
        "# Group by class\n",
        "print(df.groupby(\"PassengerClass\")[\"Fare\"].mean())\n",
        "\n",
        "# Group by gender\n",
        "print(df.groupby(\"Sex\")[\"Survived\"].mean())\n",
        "\n",
        "# Pivot table\n",
        "pivot = pd.pivot_table(df, index=\"Sex\", columns=\"PassengerClass\", values=\"Survived\", aggfunc=\"mean\")\n",
        "print(pivot)\n"
      ],
      "metadata": {
        "colab": {
          "base_uri": "https://localhost:8080/"
        },
        "id": "AV0nuSIk2Jyg",
        "outputId": "47d1ddbe-f9ca-422b-da90-c13ed5e18b85"
      },
      "execution_count": 12,
      "outputs": [
        {
          "output_type": "stream",
          "name": "stdout",
          "text": [
            "PassengerClass\n",
            "1    84.154687\n",
            "2    20.662183\n",
            "3    13.675550\n",
            "Name: Fare, dtype: float64\n",
            "Sex\n",
            "female    0.742038\n",
            "male      0.188908\n",
            "Name: Survived, dtype: float64\n",
            "PassengerClass         1         2         3\n",
            "Sex                                         \n",
            "female          0.968085  0.921053  0.500000\n",
            "male            0.368852  0.157407  0.135447\n"
          ]
        }
      ]
    },
    {
      "cell_type": "code",
      "source": [
        "#Merging and joining\n",
        "\n",
        "\n",
        "extra = pd.DataFrame({\n",
        "    \"PassengerId\": [1,2,3],\n",
        "    \"VIP\": [\"Yes\",\"No\",\"No\"]\n",
        "})\n",
        "\n",
        "# Merge\n",
        "merged = pd.merge(df, extra, on=\"PassengerId\", how=\"left\")\n",
        "print(merged.head())\n"
      ],
      "metadata": {
        "colab": {
          "base_uri": "https://localhost:8080/"
        },
        "id": "nLINJ5Hr2Ztw",
        "outputId": "66e3ff53-0f06-470b-d382-17328cabdb8c"
      },
      "execution_count": 14,
      "outputs": [
        {
          "output_type": "stream",
          "name": "stdout",
          "text": [
            "   PassengerId  Survived  PassengerClass  \\\n",
            "0            1         0               3   \n",
            "1            2         1               1   \n",
            "2            3         1               3   \n",
            "3            4         1               1   \n",
            "4            5         0               3   \n",
            "\n",
            "                                                Name     Sex   Age  SibSp  \\\n",
            "0                            Braund, Mr. Owen Harris    male  22.0      1   \n",
            "1  Cumings, Mrs. John Bradley (Florence Briggs Th...  female  38.0      1   \n",
            "2                             Heikkinen, Miss. Laina  female  26.0      0   \n",
            "3       Futrelle, Mrs. Jacques Heath (Lily May Peel)  female  35.0      1   \n",
            "4                           Allen, Mr. William Henry    male  35.0      0   \n",
            "\n",
            "   Parch            Ticket     Fare Cabin Embarked  VIP  \n",
            "0      0         A/5 21171   7.2500   NaN        S  Yes  \n",
            "1      0          PC 17599  71.2833   C85        C   No  \n",
            "2      0  STON/O2. 3101282   7.9250   NaN        S   No  \n",
            "3      0            113803  53.1000  C123        S  NaN  \n",
            "4      0            373450   8.0500   NaN        S  NaN  \n"
          ]
        }
      ]
    },
    {
      "cell_type": "code",
      "source": [
        "#Exporting\n",
        "\n",
        "\n",
        "df.to_csv(\"titanic_clean.csv\", index=False)\n",
        "df.to_excel(\"titanic_clean.xlsx\", index=False)\n",
        "\n",
        "print(\"Files exported successfully!\")\n"
      ],
      "metadata": {
        "colab": {
          "base_uri": "https://localhost:8080/"
        },
        "id": "ombV4gw92r85",
        "outputId": "d1530b75-247b-459c-d73f-4cefc326d3a5"
      },
      "execution_count": 17,
      "outputs": [
        {
          "output_type": "stream",
          "name": "stdout",
          "text": [
            "Files exported successfully!\n"
          ]
        }
      ]
    }
  ]
}