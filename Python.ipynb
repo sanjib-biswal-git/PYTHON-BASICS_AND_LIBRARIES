{
  "nbformat": 4,
  "nbformat_minor": 0,
  "metadata": {
    "colab": {
      "provenance": [],
      "authorship_tag": "ABX9TyOdUFtCyzpDYjbWZWNgJQby",
      "include_colab_link": true
    },
    "kernelspec": {
      "name": "python3",
      "display_name": "Python 3"
    },
    "language_info": {
      "name": "python"
    }
  },
  "cells": [
    {
      "cell_type": "markdown",
      "metadata": {
        "id": "view-in-github",
        "colab_type": "text"
      },
      "source": [
        "<a href=\"https://colab.research.google.com/github/sanjib-biswal-git/PYTHON-BASICS_AND_LIBRARIES/blob/main/Python.ipynb\" target=\"_parent\"><img src=\"https://colab.research.google.com/assets/colab-badge.svg\" alt=\"Open In Colab\"/></a>"
      ]
    },
    {
      "cell_type": "markdown",
      "source": [
        "print statement example"
      ],
      "metadata": {
        "id": "U7MNrTh7G9B5"
      }
    },
    {
      "cell_type": "code",
      "execution_count": null,
      "metadata": {
        "colab": {
          "base_uri": "https://localhost:8080/"
        },
        "id": "THPmS48FGnLe",
        "outputId": "35fe39b4-a0f7-49f1-f41d-1a6ee5a2c7ab"
      },
      "outputs": [
        {
          "output_type": "stream",
          "name": "stdout",
          "text": [
            "Hello World!\n"
          ]
        }
      ],
      "source": [
        "print(\"Hello World!\")"
      ]
    },
    {
      "cell_type": "markdown",
      "source": [
        "if-statement example"
      ],
      "metadata": {
        "id": "_l7oAtrCRIrL"
      }
    },
    {
      "cell_type": "code",
      "source": [
        "if 5>2:\n",
        " print(\"Hello World\")"
      ],
      "metadata": {
        "colab": {
          "base_uri": "https://localhost:8080/"
        },
        "id": "Z_QULUZgRWFn",
        "outputId": "a2c79826-fa7a-48e7-c574-4580ef77feae"
      },
      "execution_count": null,
      "outputs": [
        {
          "output_type": "stream",
          "name": "stdout",
          "text": [
            "Hello World\n"
          ]
        }
      ]
    },
    {
      "cell_type": "markdown",
      "source": [
        "if-else statement"
      ],
      "metadata": {
        "id": "zQginm-sRroh"
      }
    },
    {
      "cell_type": "code",
      "source": [
        "age=18\n",
        "if(age>=18):\n",
        "     print(\"You can vote.\")\n",
        "else:\n",
        "     print(\"Can't vote.\")"
      ],
      "metadata": {
        "colab": {
          "base_uri": "https://localhost:8080/"
        },
        "id": "K24VaAYySCTZ",
        "outputId": "2a574a65-e280-4e18-f7da-497d3adf2a1d"
      },
      "execution_count": null,
      "outputs": [
        {
          "output_type": "stream",
          "name": "stdout",
          "text": [
            "You can vote.\n"
          ]
        }
      ]
    },
    {
      "cell_type": "markdown",
      "source": [
        "variables in python"
      ],
      "metadata": {
        "id": "X0utyyk6Sj1K"
      }
    },
    {
      "cell_type": "code",
      "source": [
        "x=5\n",
        "y=\"Hello\"\n",
        "z=4.5\n",
        "b=False\n",
        "c=True\n",
        "print(b)\n",
        "print(c)"
      ],
      "metadata": {
        "colab": {
          "base_uri": "https://localhost:8080/"
        },
        "id": "mrOV1XzUSn_5",
        "outputId": "fb1c1173-655a-4c1c-a9d2-a0ac4db94787"
      },
      "execution_count": null,
      "outputs": [
        {
          "output_type": "stream",
          "name": "stdout",
          "text": [
            "False\n",
            "True\n"
          ]
        }
      ]
    },
    {
      "cell_type": "markdown",
      "source": [
        "# -This is a comment.\n",
        "#-The same have to be used for multi lines comments also.\n",
        "-----------------------------------\n",
        "use multi-line string\n",
        "\"\"\"\n",
        "//text goes here\n",
        "\"\"\"\n",
        "-----------------------------------\n",
        "'''\n",
        "//text goes here\n",
        "\n",
        "'''"
      ],
      "metadata": {
        "id": "f0tqrQ6qS8Vz"
      }
    },
    {
      "cell_type": "markdown",
      "source": [
        "Casting"
      ],
      "metadata": {
        "id": "9bk0IoN5TlLs"
      }
    },
    {
      "cell_type": "code",
      "source": [
        "x=str(3) #'3'\n",
        "y=int(3) #3\n",
        "z=float(3) #3.0"
      ],
      "metadata": {
        "id": "mbznUk18Tqy5"
      },
      "execution_count": null,
      "outputs": []
    },
    {
      "cell_type": "markdown",
      "source": [
        "Get the type"
      ],
      "metadata": {
        "id": "dkQC9n6HT3tp"
      }
    },
    {
      "cell_type": "code",
      "source": [
        "x=5\n",
        "print(type(x))\n",
        "y=\"John\"\n",
        "print(type(y))"
      ],
      "metadata": {
        "colab": {
          "base_uri": "https://localhost:8080/"
        },
        "id": "GpGQc_BWT5Tm",
        "outputId": "03ed5d34-8aa1-4d3c-9625-658617bb5d66"
      },
      "execution_count": null,
      "outputs": [
        {
          "output_type": "stream",
          "name": "stdout",
          "text": [
            "<class 'int'>\n",
            "<class 'str'>\n"
          ]
        }
      ]
    },
    {
      "cell_type": "markdown",
      "source": [
        "Python is case sensitive.\n",
        "<!-- When something is case sensitive, it treats uppercase (A–Z) and lowercase (a–z) letters as different characters -->\n",
        "A will not overwrite a.\n",
        "There may be indentation errors."
      ],
      "metadata": {
        "id": "8cxREPbrUgli"
      }
    },
    {
      "cell_type": "markdown",
      "source": [
        "Many Values to Multiple Variables"
      ],
      "metadata": {
        "id": "mjVRuv16Va-E"
      }
    },
    {
      "cell_type": "code",
      "source": [
        "x,y,z = \"Orange\",\"Apple\",\"Banana\"\n",
        "print(x)\n",
        "print(y)\n",
        "print(z)"
      ],
      "metadata": {
        "colab": {
          "base_uri": "https://localhost:8080/"
        },
        "id": "uZatJ9sWVipC",
        "outputId": "9727f3d3-05b4-41fb-82dd-52a54cf82eb4"
      },
      "execution_count": null,
      "outputs": [
        {
          "output_type": "stream",
          "name": "stdout",
          "text": [
            "Orange\n",
            "Apple\n",
            "Banana\n"
          ]
        }
      ]
    },
    {
      "cell_type": "markdown",
      "source": [
        "One Value to Multiple Variables"
      ],
      "metadata": {
        "id": "J0xAf8uTVxFy"
      }
    },
    {
      "cell_type": "code",
      "source": [
        "x=y=z =\"Orange\"\n",
        "print(x)\n",
        "print(y)\n",
        "print(z)"
      ],
      "metadata": {
        "colab": {
          "base_uri": "https://localhost:8080/"
        },
        "id": "aw2WrwdTVzYy",
        "outputId": "a59359fa-7cd8-4fea-ee28-33fbfa898b75"
      },
      "execution_count": null,
      "outputs": [
        {
          "output_type": "stream",
          "name": "stdout",
          "text": [
            "Orange\n",
            "Orange\n",
            "Orange\n"
          ]
        }
      ]
    },
    {
      "cell_type": "markdown",
      "source": [
        "**Unpack a Collection**\n",
        "If you have a collection of values in a list, tuple etc. Python allows you to extract the values into variables. This is called unpacking."
      ],
      "metadata": {
        "id": "p2H77OQ5WA5L"
      }
    },
    {
      "cell_type": "code",
      "source": [
        "fruits=[\"Apple\",\"Grapes\",\"Cherry\"]\n",
        "x,y,z = fruits\n",
        "print(x)\n",
        "print(y)\n",
        "print(z)"
      ],
      "metadata": {
        "colab": {
          "base_uri": "https://localhost:8080/"
        },
        "id": "yqauDbF0WNvK",
        "outputId": "470551d4-5fd5-4876-e526-467d3cf933a9"
      },
      "execution_count": null,
      "outputs": [
        {
          "output_type": "stream",
          "name": "stdout",
          "text": [
            "Apple\n",
            "Grapes\n",
            "Cherry\n"
          ]
        }
      ]
    },
    {
      "cell_type": "markdown",
      "source": [
        "In the print() function, you output multiple variables, separated by a comma:"
      ],
      "metadata": {
        "id": "LkNLXOscWbhJ"
      }
    },
    {
      "cell_type": "code",
      "source": [
        "x = \"Python\"\n",
        "y = \"is\"\n",
        "z = \"awesome\"\n",
        "print(x, y, z)"
      ],
      "metadata": {
        "colab": {
          "base_uri": "https://localhost:8080/"
        },
        "id": "rFsxBVX0WloT",
        "outputId": "a08df1c8-3c89-4642-934b-a9c5667b7fdc"
      },
      "execution_count": null,
      "outputs": [
        {
          "output_type": "stream",
          "name": "stdout",
          "text": [
            "Python is awesome\n"
          ]
        }
      ]
    },
    {
      "cell_type": "markdown",
      "source": [
        "You can also use the + operator to output multiple variables:"
      ],
      "metadata": {
        "id": "4DikOCOjWwS6"
      }
    },
    {
      "cell_type": "code",
      "source": [
        "x = \"Python \"\n",
        "y = \"is \"\n",
        "z = \"awesome\"\n",
        "print(x + y + z)"
      ],
      "metadata": {
        "colab": {
          "base_uri": "https://localhost:8080/"
        },
        "id": "HqYALh02W1KT",
        "outputId": "0060dc24-b311-4f67-d4b9-2f4b604be6c8"
      },
      "execution_count": null,
      "outputs": [
        {
          "output_type": "stream",
          "name": "stdout",
          "text": [
            "Python is awesome\n"
          ]
        }
      ]
    },
    {
      "cell_type": "markdown",
      "source": [
        "In the print() function, when you try to combine a string and a number with the + operator, Python will give you an error:\n",
        "<!-- TypeError: unsupported operand type(s) for +: 'int' and 'str' -->"
      ],
      "metadata": {
        "id": "yk1GhlJ_W-u1"
      }
    },
    {
      "cell_type": "code",
      "source": [
        "x = 5\n",
        "y = \"John\"\n",
        "print(x + y)"
      ],
      "metadata": {
        "id": "URRtZmAdXCMq"
      },
      "execution_count": null,
      "outputs": []
    },
    {
      "cell_type": "markdown",
      "source": [
        "The best way to output multiple variables in the print() function is to separate them with commas, which even support different data types:"
      ],
      "metadata": {
        "id": "CEX7ajy7XSsj"
      }
    },
    {
      "cell_type": "code",
      "source": [
        "x = 5\n",
        "y = \"John\"\n",
        "print(x, y)"
      ],
      "metadata": {
        "id": "DG9VFdtlXZdM"
      },
      "execution_count": null,
      "outputs": []
    },
    {
      "cell_type": "markdown",
      "source": [
        "Global Variables:\n",
        "\n",
        "Variables that are created outside of a function (as in all of the examples in the previous pages) are known as global variables.\n",
        "\n",
        "Global variables can be used by everyone, both inside of functions and outside."
      ],
      "metadata": {
        "id": "OI7iktL-XbLT"
      }
    },
    {
      "cell_type": "code",
      "source": [
        "x=7\n",
        "def myFunc():\n",
        "  print(\"My name is \",x)\n",
        "myFunc()"
      ],
      "metadata": {
        "colab": {
          "base_uri": "https://localhost:8080/"
        },
        "id": "UNEzmDMOXsJa",
        "outputId": "1512dfd2-2040-454d-ddb8-b02e7004100f"
      },
      "execution_count": null,
      "outputs": [
        {
          "output_type": "stream",
          "name": "stdout",
          "text": [
            "My name is  7\n"
          ]
        }
      ]
    },
    {
      "cell_type": "markdown",
      "source": [
        "f you create a variable with the same name inside a function, this variable will be local, and can only be used inside the function. The global variable with the same name will remain as it was, global and with the original value."
      ],
      "metadata": {
        "id": "3gUNWTjuYYYS"
      }
    },
    {
      "cell_type": "code",
      "source": [
        "x=\"Sanjib\"\n",
        "def myFunc():\n",
        "  x=\"Larry\"\n",
        "  print(\"My name is \"+x)\n",
        "myFunc()\n",
        "\n",
        "print(\"My name is \"+x)"
      ],
      "metadata": {
        "colab": {
          "base_uri": "https://localhost:8080/"
        },
        "id": "TdHMVeMzYZ2L",
        "outputId": "bb95cc91-f22e-4b70-e074-82dd9a37607d"
      },
      "execution_count": null,
      "outputs": [
        {
          "output_type": "stream",
          "name": "stdout",
          "text": [
            "My name is Larry\n",
            "My name is Sanjib\n"
          ]
        }
      ]
    },
    {
      "cell_type": "markdown",
      "source": [
        "**The global Keyword**\n",
        "\n",
        "Normally, when you create a variable inside a function, that variable is local, and can only be used inside that function.\n",
        "\n",
        "To create a global variable inside a function, you can use the global keyword.\n"
      ],
      "metadata": {
        "id": "L3aBCbQLYzNj"
      }
    },
    {
      "cell_type": "code",
      "source": [
        "def myFunc():\n",
        "  global var28\n",
        "  var28=6\n",
        "myFunc()\n",
        "print(var28)\n"
      ],
      "metadata": {
        "colab": {
          "base_uri": "https://localhost:8080/"
        },
        "id": "F9I9yTp0Y7ac",
        "outputId": "648f31c2-e73b-4d62-e8b5-0b6d2c2e24ff"
      },
      "execution_count": null,
      "outputs": [
        {
          "output_type": "stream",
          "name": "stdout",
          "text": [
            "6\n"
          ]
        }
      ]
    },
    {
      "cell_type": "markdown",
      "source": [
        "To change the value of a global variable inside a function, refer to the variable by using the global keyword:"
      ],
      "metadata": {
        "id": "a2UhB3atZtck"
      }
    },
    {
      "cell_type": "code",
      "source": [
        "var33 = 45\n",
        "def myFunc():\n",
        "  global var33\n",
        "  var33=65\n",
        "# myFunc()\n",
        "\n",
        "print(var33)"
      ],
      "metadata": {
        "colab": {
          "base_uri": "https://localhost:8080/"
        },
        "id": "M9x9SZcNZwJi",
        "outputId": "c5c99686-457a-4e72-beb9-c61692d07bf2"
      },
      "execution_count": null,
      "outputs": [
        {
          "output_type": "stream",
          "name": "stdout",
          "text": [
            "45\n"
          ]
        }
      ]
    },
    {
      "cell_type": "markdown",
      "source": [
        "**Built-in Data Types**\n",
        "\n",
        "In programming, data type is an important concept.\n",
        "\n",
        "Variables can store data of different types, and different types can do different things."
      ],
      "metadata": {
        "id": "a953-gnecqry"
      }
    },
    {
      "cell_type": "markdown",
      "source": [
        "Text Type:\t        str\n",
        "Numeric Types:\t    int, float, complex\n",
        "Sequence Types:\t    list, tuple, range\n",
        "Mapping Type:\t      dict\n",
        "Set Types:\t        set, frozenset\n",
        "Boolean Type:\t      bool\n",
        "Binary Types:\t      bytes, bytearray,  memoryview\n",
        "None Type:\t         NoneType"
      ],
      "metadata": {
        "id": "iL9tIN8tc6oL"
      }
    },
    {
      "cell_type": "markdown",
      "source": [
        "x = \"Hello World\"\t   str\n",
        "x = 20\t             int\n",
        "x = 20.5\t           float\n",
        "x = 1j\t             complex\n",
        "x = [\"apple\", \"banana\", \"cherry\"]\t     list\n",
        "x = (\"apple\", \"banana\", \"cherry\")\ttuple\n",
        "x = range(6)\trange\n",
        "x = {\"name\" : \"John\", \"age\" : 36}\tdict\n",
        "x = {\"apple\", \"banana\", \"cherry\"}\tset\n",
        "x = frozenset({\"apple\", \"banana\", \"cherry\"})\tfrozenset\n",
        "x = True\tbool\n",
        "x = b\"Hello\"\tbytes\n",
        "x = bytearray(5)\tbytearray\n",
        "x = memoryview(bytes(5))\tmemoryview\n",
        "x = None\tNoneType"
      ],
      "metadata": {
        "id": "ZVDSs7jxfR-z"
      }
    },
    {
      "cell_type": "markdown",
      "source": [
        "**Random Number**\n",
        "Python does not have a random() function to make a random number, but Python has a built-in module called random that can be used to make random numbers:"
      ],
      "metadata": {
        "id": "x-z-QTi3gPJi"
      }
    },
    {
      "cell_type": "code",
      "source": [
        "import random\n",
        "print(random.randrange(1,100))"
      ],
      "metadata": {
        "colab": {
          "base_uri": "https://localhost:8080/"
        },
        "id": "K0f1CVdLgSPU",
        "outputId": "08fa8938-7f49-4d60-9fe8-6ac0ec642a17"
      },
      "execution_count": null,
      "outputs": [
        {
          "output_type": "stream",
          "name": "stdout",
          "text": [
            "24\n"
          ]
        }
      ]
    },
    {
      "cell_type": "markdown",
      "source": [
        "Casting in python is therefore done using constructor functions:\n",
        "int()\n",
        "float()\n",
        "str()\n"
      ],
      "metadata": {
        "id": "O2ok-7PRhAMd"
      }
    },
    {
      "cell_type": "code",
      "source": [
        "x=\"Sanjib\"\n",
        "print(len(x))"
      ],
      "metadata": {
        "colab": {
          "base_uri": "https://localhost:8080/"
        },
        "id": "7lzQgGiwhE98",
        "outputId": "af6c7408-334a-4ffb-e3c0-287da79f3e89"
      },
      "execution_count": null,
      "outputs": [
        {
          "output_type": "stream",
          "name": "stdout",
          "text": [
            "6\n"
          ]
        }
      ]
    },
    {
      "cell_type": "markdown",
      "source": [
        "Multiline Strings\n",
        "You can assign a multiline string to a variable by using three quotes:\n",
        "\n",
        "Example-->"
      ],
      "metadata": {
        "id": "Q9ZSKuarhpHZ"
      }
    },
    {
      "cell_type": "code",
      "source": [
        "a=\"\"\"\n",
        "Lorem ipsum dolor sit amet,\n",
        "consectetur adipiscing elit,\n",
        "sed do eiusmod tempor incididunt\n",
        "ut labore et dolore magna aliqua.\n",
        "\"\"\"\n",
        "print(a)"
      ],
      "metadata": {
        "colab": {
          "base_uri": "https://localhost:8080/"
        },
        "id": "-9E64ZH4hrfD",
        "outputId": "60b6966d-da15-4474-fc37-df4b1defc0b9"
      },
      "execution_count": null,
      "outputs": [
        {
          "output_type": "stream",
          "name": "stdout",
          "text": [
            "\n",
            "Lorem ipsum dolor sit amet,\n",
            "consectetur adipiscing elit,\n",
            "sed do eiusmod tempor incididunt\n",
            "ut labore et dolore magna aliqua.\n",
            "\n"
          ]
        }
      ]
    },
    {
      "cell_type": "markdown",
      "source": [
        "**Strings are Arrays**\n",
        "----------------------------\n",
        "\n",
        "Like many other popular programming languages, strings in Python are arrays of unicode characters.\n",
        "\n",
        "However, Python does not have a character data type, a single character is simply a string with a length of 1.\n",
        "\n",
        "Square brackets can be used to access elements of the string."
      ],
      "metadata": {
        "id": "ljVU_rf4iDSu"
      }
    },
    {
      "cell_type": "code",
      "source": [
        "a=\"Hello World\"\n",
        "print(a[1]) #e"
      ],
      "metadata": {
        "colab": {
          "base_uri": "https://localhost:8080/"
        },
        "id": "INmKwTSYiMVd",
        "outputId": "c99311cf-5a68-454f-f95d-bc2831727635"
      },
      "execution_count": null,
      "outputs": [
        {
          "output_type": "stream",
          "name": "stdout",
          "text": [
            "e\n"
          ]
        }
      ]
    },
    {
      "cell_type": "markdown",
      "source": [
        "**Looping Through a String**"
      ],
      "metadata": {
        "id": "W_hl9kofiTWm"
      }
    },
    {
      "cell_type": "code",
      "source": [
        "for x in \"banana\":\n",
        "  print(x)"
      ],
      "metadata": {
        "colab": {
          "base_uri": "https://localhost:8080/"
        },
        "id": "KZ3TqAGKid2-",
        "outputId": "33da34fc-673f-4a5c-f4ca-d78518995a46"
      },
      "execution_count": null,
      "outputs": [
        {
          "output_type": "stream",
          "name": "stdout",
          "text": [
            "b\n",
            "a\n",
            "n\n",
            "a\n",
            "n\n",
            "a\n"
          ]
        }
      ]
    },
    {
      "cell_type": "markdown",
      "source": [
        "Check String\n",
        "To check if a certain phrase or character is present in a string, we can use the keyword in."
      ],
      "metadata": {
        "id": "J9FsEjn6ixAT"
      }
    },
    {
      "cell_type": "code",
      "source": [
        "txt=\"Sanjib is a good boy\"\n",
        "print(\"good\" in txt)"
      ],
      "metadata": {
        "colab": {
          "base_uri": "https://localhost:8080/"
        },
        "id": "WzbLm1Apiy-D",
        "outputId": "84cff1f5-777b-4181-c22a-084446817936"
      },
      "execution_count": null,
      "outputs": [
        {
          "output_type": "stream",
          "name": "stdout",
          "text": [
            "True\n"
          ]
        }
      ]
    },
    {
      "cell_type": "markdown",
      "source": [
        "Check if NOT\n",
        "To check if a certain phrase or character is NOT present in a string, we can use the keyword not in."
      ],
      "metadata": {
        "id": "kc9zhyNei_0-"
      }
    },
    {
      "cell_type": "code",
      "source": [
        "txt=\"Sanjib is a good boy.\"\n",
        "print(\"good\" not in txt)"
      ],
      "metadata": {
        "colab": {
          "base_uri": "https://localhost:8080/"
        },
        "id": "pl-chxmejArh",
        "outputId": "5522efe6-d49f-4ffd-987a-12c36ce188f5"
      },
      "execution_count": null,
      "outputs": [
        {
          "output_type": "stream",
          "name": "stdout",
          "text": [
            "False\n"
          ]
        }
      ]
    },
    {
      "cell_type": "markdown",
      "source": [
        "**Slicing Strings**"
      ],
      "metadata": {
        "id": "1jDzwAf-zDd_"
      }
    },
    {
      "cell_type": "code",
      "source": [
        "b=\"Hello, World!\"\n",
        "print(b[2:5]) #llo"
      ],
      "metadata": {
        "colab": {
          "base_uri": "https://localhost:8080/"
        },
        "id": "fTJIb-IBzSiI",
        "outputId": "4655430d-9348-41d3-8076-377e2bf5fc4b"
      },
      "execution_count": null,
      "outputs": [
        {
          "output_type": "stream",
          "name": "stdout",
          "text": [
            "llo\n"
          ]
        }
      ]
    },
    {
      "cell_type": "markdown",
      "source": [
        "Slice From the Start"
      ],
      "metadata": {
        "id": "p4KdH51bzee4"
      }
    },
    {
      "cell_type": "code",
      "source": [
        "b = \"Hello, World!\"\n",
        "print(b[:5])"
      ],
      "metadata": {
        "colab": {
          "base_uri": "https://localhost:8080/"
        },
        "id": "u_5pKmv4zg-v",
        "outputId": "21b8d7a5-5938-46dc-9d59-cd31d606ee38"
      },
      "execution_count": null,
      "outputs": [
        {
          "output_type": "stream",
          "name": "stdout",
          "text": [
            "Hello\n"
          ]
        }
      ]
    },
    {
      "cell_type": "markdown",
      "source": [
        "**Slice To the End**"
      ],
      "metadata": {
        "id": "wKhmxabEzovY"
      }
    },
    {
      "cell_type": "code",
      "source": [
        "b = \"Hello, World!\"\n",
        "print(b[2:])"
      ],
      "metadata": {
        "colab": {
          "base_uri": "https://localhost:8080/"
        },
        "id": "BPJua05pzqpf",
        "outputId": "433aae0a-6b1c-4442-a18e-aaaec71fb80d"
      },
      "execution_count": null,
      "outputs": [
        {
          "output_type": "stream",
          "name": "stdout",
          "text": [
            "llo, World!\n"
          ]
        }
      ]
    },
    {
      "cell_type": "markdown",
      "source": [
        "**Negative Indexing**\n",
        "--------------------\n",
        "\n",
        "Use negative indexes to start the slice from the end of the string:\n",
        "\n",
        "Tip: Count from last and index starts form 1."
      ],
      "metadata": {
        "id": "7YCw03xtzx15"
      }
    },
    {
      "cell_type": "code",
      "source": [
        "b = \"Hello, World!\"\n",
        "print(b[-5:-2])"
      ],
      "metadata": {
        "colab": {
          "base_uri": "https://localhost:8080/"
        },
        "id": "xfr748ELz1iF",
        "outputId": "ca684c60-5d58-4ac2-8b64-157b65bcbe08"
      },
      "execution_count": null,
      "outputs": [
        {
          "output_type": "stream",
          "name": "stdout",
          "text": [
            "orl\n"
          ]
        }
      ]
    },
    {
      "cell_type": "markdown",
      "source": [
        "**Python - Modify Strings**\n",
        "\n",
        "UpperCase - .upper()\n",
        "LowerCase - .lower()\n",
        "Remove whitespace - .strip()\n",
        "Replace String - .replace(\"Str1\",\"Str2\")\n",
        "#char in python is also considered as a string of length 1.\n",
        "\n",
        "Split string - .split(\",\")\n",
        "\n",
        "String Concatenation - +\n"
      ],
      "metadata": {
        "id": "Geno1c0D0em9"
      }
    },
    {
      "cell_type": "markdown",
      "source": [
        "F-Strings\n",
        "\n",
        "F-String was introduced in Python 3.6, and is now the preferred way of formatting strings.\n",
        "\n",
        "To specify a string as an f-string, simply put an f in front of the string literal, and add curly brackets {} as placeholders for variables and other operations."
      ],
      "metadata": {
        "id": "uP8q7FpE2o4I"
      }
    },
    {
      "cell_type": "code",
      "source": [
        "age = 20\n",
        "print(f\"My age is {age}\")"
      ],
      "metadata": {
        "colab": {
          "base_uri": "https://localhost:8080/"
        },
        "id": "PJ_QbWre2yuO",
        "outputId": "d7c137be-6197-4ef7-c1b1-e662d3841e92"
      },
      "execution_count": null,
      "outputs": [
        {
          "output_type": "stream",
          "name": "stdout",
          "text": [
            "My age is 20\n"
          ]
        }
      ]
    },
    {
      "cell_type": "markdown",
      "source": [
        "**Placeholders and Modifiers**"
      ],
      "metadata": {
        "id": "_u5wgQvv2-HT"
      }
    },
    {
      "cell_type": "code",
      "source": [
        "price = 59\n",
        "txt = f\"The price is {price:.2f} dollars\"\n",
        "print(txt)"
      ],
      "metadata": {
        "colab": {
          "base_uri": "https://localhost:8080/"
        },
        "id": "pZt9ZXmg3Ypo",
        "outputId": "051bbfef-ba40-482b-c57d-f67890dde1d5"
      },
      "execution_count": null,
      "outputs": [
        {
          "output_type": "stream",
          "name": "stdout",
          "text": [
            "The price is 59.00 dollars\n"
          ]
        }
      ]
    },
    {
      "cell_type": "markdown",
      "source": [
        "**Placeholders can have math operations.**"
      ],
      "metadata": {
        "id": "95ZZtHik3pgf"
      }
    },
    {
      "cell_type": "code",
      "source": [
        "print(f\"I need {20*40} million dollars.\")"
      ],
      "metadata": {
        "colab": {
          "base_uri": "https://localhost:8080/"
        },
        "id": "P_3UeG-83wEo",
        "outputId": "f22c274e-175f-42bf-da7a-4e76f4d364b4"
      },
      "execution_count": null,
      "outputs": [
        {
          "output_type": "stream",
          "name": "stdout",
          "text": [
            "I need 800 million dollars.\n"
          ]
        }
      ]
    },
    {
      "cell_type": "markdown",
      "source": [
        "**Escape Character**\n",
        "\\n-new line"
      ],
      "metadata": {
        "id": "2VeLgIlL4bfY"
      }
    },
    {
      "cell_type": "code",
      "source": [
        "txt = \"We are the so-called \\\"Vikings\\\" from the north.\"\n",
        "print(txt)"
      ],
      "metadata": {
        "colab": {
          "base_uri": "https://localhost:8080/"
        },
        "id": "TEsueV1x4fBQ",
        "outputId": "121581be-f7d8-476f-b355-8e1f42a84304"
      },
      "execution_count": null,
      "outputs": [
        {
          "output_type": "stream",
          "name": "stdout",
          "text": [
            "We are the so-called \"Vikings\" from the north.\n"
          ]
        }
      ]
    },
    {
      "cell_type": "markdown",
      "source": [
        "Boolean - True , False\n",
        "\n",
        "#Falsy Values\n",
        "\n",
        "bool(False)\n",
        "bool(None)\n",
        "bool(0)\n",
        "bool(\"\")\n",
        "bool(())\n",
        "bool([])\n",
        "bool({})\n",
        "\n",
        "Python also has many built-in functions that return a boolean value, like the isinstance() function, which can be used to determine if an object is of a certain data type:"
      ],
      "metadata": {
        "id": "wC_MhIOS4uRo"
      }
    },
    {
      "cell_type": "code",
      "source": [
        "x = 200\n",
        "print(isinstance(x,int))  #True\n",
        "print(isinstance(x,float))  #False"
      ],
      "metadata": {
        "colab": {
          "base_uri": "https://localhost:8080/"
        },
        "id": "uJy4zfbCBa_6",
        "outputId": "7e704cb8-cca8-4260-b379-8927e8924004"
      },
      "execution_count": null,
      "outputs": [
        {
          "output_type": "stream",
          "name": "stdout",
          "text": [
            "True\n",
            "False\n"
          ]
        }
      ]
    },
    {
      "cell_type": "markdown",
      "source": [
        "**PYTHON OPERATORS**\n",
        "\n",
        ".Arithmetic operators\n",
        "    +,-,*,/\n",
        "\tExponentiation\tx ** y\n",
        "    Floor division\tx // y\n",
        "\n",
        ".Assignment operators\n",
        ".Comparison operators\n",
        ".Logical operators\n",
        "    and,or,not\n",
        ".Identity operators\n",
        "----------------------\n",
        "is - return strue if both variable are same object\n",
        "\n",
        "is not - return true if both variable are not same object\n",
        "\n",
        ".Membership operators\n",
        "------------------------\n",
        "in\n",
        "not in\n",
        "\n",
        ".Bitwise operators\n",
        "--------------------\n",
        "AND(&)\n",
        "OR(|)\n",
        "XOR(^)\n",
        "NOT(~)\n",
        "LEFT SHIFT(<<)\n",
        "RIGHT SHIFT(>>)"
      ],
      "metadata": {
        "id": "BPUtNFVdCBfy"
      }
    },
    {
      "cell_type": "markdown",
      "source": [
        "Four built-in libraries in python - List,Tuple,Set,Dictionary\n",
        "\n",
        "**PYTHON LISTS**\n",
        "\n",
        "--List items are ordered , changable and allow duplicate values.\n",
        "\n",
        "--Tuple items are ordered and unchangeable. Allows duplicate members.\n",
        "\n",
        "--Set is a collection which is unordered, unchangeable*, and unindexed. No duplicate members.\n",
        "\n",
        "\n",
        "*Set items are unchangeable, but you can remove and/or add items whenever you like.\n",
        "\n",
        "--Dictionary is a collection which is ordered** and changeable. No duplicate members.\n",
        "\n",
        "\n",
        "**As of Python version 3.7, dictionaries are ordered. In Python 3.6 and earlier, dictionaries are unordered."
      ],
      "metadata": {
        "id": "LhPnptNnIW65"
      }
    },
    {
      "cell_type": "code",
      "source": [
        "mylist =[\"apple\",\"banana\",\"cherry\",\"apple\"]\n",
        "print(mylist)\n",
        "print(mylist[2])   #access list items\n",
        "print(mylist[-1])  #apple\n",
        "print(len(mylist))\n",
        "\n",
        "#list constructor\n",
        "thislist = list((\"apple\",\"banana\",\"grapes\"))\n",
        "print(thislist)\n",
        "\n",
        "#change item value\n",
        "mylist[0] = \"avocado\"\n",
        "print(mylist)\n",
        "\n",
        "#change in a range\n",
        "thislist[0:2]=[\"hii\",\"bye\"]\n",
        "print(thislist)\n",
        "\n",
        "\n",
        "#Change the second value by replacing it with two new values\n",
        "thisslist = [\"apple\", \"banana\", \"cherry\"]\n",
        "thisslist[1:2] = [\"blackcurrant\", \"watermelon\"]\n",
        "print(thisslist)\n",
        "\n",
        "\n",
        "#Change the second and third value by replacing it with one value\n",
        "thislis = [\"apple\", \"banana\", \"cherry\"]\n",
        "thislis[1:3] = [\"watermelon\"]\n",
        "print(thislis)\n",
        "thislis.insert(1,\"Jk Rollin\")\n",
        "print(thislis)\n",
        "thislis.append(\"kurkure\")\n",
        "print(thislis)"
      ],
      "metadata": {
        "colab": {
          "base_uri": "https://localhost:8080/"
        },
        "id": "q3Qi5LkvI0bE",
        "outputId": "fb5ef589-955c-4d52-d8db-83ab625ccd59"
      },
      "execution_count": null,
      "outputs": [
        {
          "output_type": "stream",
          "name": "stdout",
          "text": [
            "['apple', 'banana', 'cherry', 'apple']\n",
            "cherry\n",
            "apple\n",
            "4\n",
            "['apple', 'banana', 'grapes']\n",
            "['avocado', 'banana', 'cherry', 'apple']\n",
            "['hii', 'bye', 'grapes']\n",
            "['apple', 'blackcurrant', 'watermelon', 'cherry']\n",
            "['apple', 'watermelon']\n",
            "['apple', 'Jk Rollin', 'watermelon']\n",
            "['apple', 'Jk Rollin', 'watermelon', 'kurkure']\n"
          ]
        }
      ]
    },
    {
      "cell_type": "markdown",
      "source": [
        "**Extend List**"
      ],
      "metadata": {
        "id": "GZgrTkqOOEZf"
      }
    },
    {
      "cell_type": "code",
      "source": [
        "list1=[\"apple\"]\n",
        "list2=[\"orange\"]\n",
        "list1.extend(list2)\n",
        "print(list1)\n",
        "print(list2)"
      ],
      "metadata": {
        "colab": {
          "base_uri": "https://localhost:8080/"
        },
        "id": "OCjmHVZuURp7",
        "outputId": "fdeab67f-4c26-48bb-b60e-d280c9d74b6f"
      },
      "execution_count": null,
      "outputs": [
        {
          "output_type": "stream",
          "name": "stdout",
          "text": [
            "['apple', 'orange']\n",
            "['orange']\n"
          ]
        }
      ]
    },
    {
      "cell_type": "markdown",
      "source": [
        "**Add Any Iterable**\n",
        "\n",
        "The extend() method does not have to append lists, you can add any iterable object (tuples, sets, dictionaries etc.)."
      ],
      "metadata": {
        "id": "62f0FrXfYlJL"
      }
    },
    {
      "cell_type": "code",
      "source": [
        "thislist = [\"apple\", \"banana\", \"cherry\"]\n",
        "thistuple = (\"kiwi\", \"orange\")\n",
        "thislist.extend(thistuple)\n",
        "print(thislist)"
      ],
      "metadata": {
        "colab": {
          "base_uri": "https://localhost:8080/"
        },
        "id": "f6AeNQeIYpXi",
        "outputId": "b895cc0c-6a97-445e-fc9b-0cf657bdabaa"
      },
      "execution_count": null,
      "outputs": [
        {
          "output_type": "stream",
          "name": "stdout",
          "text": [
            "['apple', 'banana', 'cherry', 'kiwi', 'orange']\n"
          ]
        }
      ]
    },
    {
      "cell_type": "markdown",
      "source": [
        "**Remove Specified Item**\n",
        "\n",
        "The remove() method removes the specified item.\n",
        "\n",
        "If duplicate elements are present,then it removes only the first one."
      ],
      "metadata": {
        "id": "nrAGV8C2ZJXb"
      }
    },
    {
      "cell_type": "code",
      "source": [
        "thislist=[\"a\",\"b\",\"c\",\"d\"]\n",
        "thislist.remove(\"c\")\n",
        "print(thislist)"
      ],
      "metadata": {
        "colab": {
          "base_uri": "https://localhost:8080/"
        },
        "id": "NNJZhTjfZM3l",
        "outputId": "1daaafda-d43c-4855-c561-f61663e82a15"
      },
      "execution_count": null,
      "outputs": [
        {
          "output_type": "stream",
          "name": "stdout",
          "text": [
            "['a', 'b', 'd']\n"
          ]
        }
      ]
    },
    {
      "cell_type": "markdown",
      "source": [
        "Remove Specified Index\n",
        "\n",
        "The pop() method removes the specified index.\n",
        "\n",
        "To remove last element\n",
        "list.pop()"
      ],
      "metadata": {
        "id": "hI5fshj3c4t9"
      }
    },
    {
      "cell_type": "code",
      "source": [
        "thislist=[\"apple\",\"orange\",\"banana\"]\n",
        "thislist.pop(1)\n",
        "print(thislist)"
      ],
      "metadata": {
        "colab": {
          "base_uri": "https://localhost:8080/"
        },
        "id": "7glkxs79c9_J",
        "outputId": "0bcd503f-06d1-4460-a37d-df47c7fd9bc0"
      },
      "execution_count": null,
      "outputs": [
        {
          "output_type": "stream",
          "name": "stdout",
          "text": [
            "['apple', 'banana']\n"
          ]
        }
      ]
    },
    {
      "cell_type": "markdown",
      "source": [
        "The del keyword also removes the specified index:"
      ],
      "metadata": {
        "id": "OUcB7D0CdVv0"
      }
    },
    {
      "cell_type": "code",
      "source": [
        "thislist = [\"apple\", \"banana\", \"cherry\"]\n",
        "del thislist[0]\n",
        "print(thislist)\n",
        "#del thislist"
      ],
      "metadata": {
        "colab": {
          "base_uri": "https://localhost:8080/"
        },
        "id": "eV0yV1lrdaMm",
        "outputId": "e96613bd-6c65-4c67-b667-b37fe7a385e6"
      },
      "execution_count": null,
      "outputs": [
        {
          "output_type": "stream",
          "name": "stdout",
          "text": [
            "['banana', 'cherry']\n"
          ]
        }
      ]
    },
    {
      "cell_type": "markdown",
      "source": [
        "The clear() method empties the list."
      ],
      "metadata": {
        "id": "6FEt2Z8Dd94_"
      }
    },
    {
      "cell_type": "markdown",
      "source": [
        "**Loop through a List**"
      ],
      "metadata": {
        "id": "BbQp8fKqeTkf"
      }
    },
    {
      "cell_type": "code",
      "source": [
        "thislist=[\"apple\",\"orange\",\"banana\"]\n",
        "for x in thislist:\n",
        "  print(x)"
      ],
      "metadata": {
        "colab": {
          "base_uri": "https://localhost:8080/"
        },
        "id": "RkZy8FPbeZGZ",
        "outputId": "879f6871-701e-422d-c445-ec19029e2e32"
      },
      "execution_count": null,
      "outputs": [
        {
          "output_type": "stream",
          "name": "stdout",
          "text": [
            "apple\n",
            "orange\n",
            "banana\n"
          ]
        }
      ]
    },
    {
      "cell_type": "code",
      "source": [
        "# Print from 1 to 10 using for-loop\n",
        "for i in range(1,11):\n",
        "  print(i)"
      ],
      "metadata": {
        "colab": {
          "base_uri": "https://localhost:8080/"
        },
        "id": "hcjP5TnCei2F",
        "outputId": "2b3ea615-3b40-4f17-c2ca-4bf893c2192e"
      },
      "execution_count": null,
      "outputs": [
        {
          "output_type": "stream",
          "name": "stdout",
          "text": [
            "1\n",
            "2\n",
            "3\n",
            "4\n",
            "5\n",
            "6\n",
            "7\n",
            "8\n",
            "9\n",
            "10\n"
          ]
        }
      ]
    },
    {
      "cell_type": "markdown",
      "source": [
        "Loop Through the Index Numbers\n",
        "You can also loop through the list items by referring to their index number.\n",
        "\n",
        "Use the range() and len() functions to create a suitable iterable.\n",
        "\n",
        "Example"
      ],
      "metadata": {
        "id": "YEiQieYoOWTz"
      }
    },
    {
      "cell_type": "code",
      "source": [
        "thislist = [\"apple\", \"banana\", \"cherry\"]\n",
        "for i in range(len(thislist)):   #range(3) - generates 0,1,2\n",
        "  print(thislist[i])"
      ],
      "metadata": {
        "colab": {
          "base_uri": "https://localhost:8080/"
        },
        "id": "tF6i-oq2Ob26",
        "outputId": "bc2b28ef-8de6-4539-dfc7-2dc6cb4c91a5"
      },
      "execution_count": null,
      "outputs": [
        {
          "output_type": "stream",
          "name": "stdout",
          "text": [
            "apple\n",
            "banana\n",
            "cherry\n"
          ]
        }
      ]
    },
    {
      "cell_type": "markdown",
      "source": [
        "Using a While Loop\n",
        "You can loop through the list items by using a while loop.\n",
        "\n",
        "Use the len() function to determine the length of the list, then start at 0 and loop your way through the list items by referring to their indexes.\n",
        "\n",
        "Remember to increase the index by 1 after each iteration."
      ],
      "metadata": {
        "id": "qyD1HPE6O1Gw"
      }
    },
    {
      "cell_type": "code",
      "source": [
        "thislist = [\"apple\", \"banana\", \"cherry\"]\n",
        "i=0\n",
        "while(i<len(thislist)):\n",
        "  print(thislist[i])\n",
        "  i+=1"
      ],
      "metadata": {
        "colab": {
          "base_uri": "https://localhost:8080/"
        },
        "id": "YND1eUoVO4nb",
        "outputId": "5484547b-5c07-41f8-c369-ef71778db476"
      },
      "execution_count": null,
      "outputs": [
        {
          "output_type": "stream",
          "name": "stdout",
          "text": [
            "apple\n",
            "banana\n",
            "cherry\n"
          ]
        }
      ]
    },
    {
      "cell_type": "markdown",
      "source": [
        "**Looping Using List Comprehension**\n",
        "\n",
        "---Its a bad practice in python."
      ],
      "metadata": {
        "id": "4Jhk1dcKPJJq"
      }
    },
    {
      "cell_type": "code",
      "source": [
        "thislist = [\"apple\", \"banana\", \"cherry\"]\n",
        "# for x in thislist:\n",
        "#   print(x)\n",
        "[print(x) for x in thislist]"
      ],
      "metadata": {
        "colab": {
          "base_uri": "https://localhost:8080/"
        },
        "id": "bILogfv-POZi",
        "outputId": "56e74203-c37a-4ae8-ea5d-cf60b0b1b946"
      },
      "execution_count": null,
      "outputs": [
        {
          "output_type": "stream",
          "name": "stdout",
          "text": [
            "apple\n",
            "banana\n",
            "cherry\n"
          ]
        },
        {
          "output_type": "execute_result",
          "data": {
            "text/plain": [
              "[None, None, None]"
            ]
          },
          "metadata": {},
          "execution_count": 15
        }
      ]
    },
    {
      "cell_type": "markdown",
      "source": [
        "List comprehension offers a shorter syntax when you want to create a new list based on the values of an existing list.\n",
        "\n",
        "Example:\n",
        "\n",
        "Based on a list of fruits, you want a new list, containing only the fruits with the letter \"a\" in the name.\n",
        "\n",
        "Without list comprehension you will have to write a for statement with a conditional test inside:"
      ],
      "metadata": {
        "id": "Jhtu-sGDQhUy"
      }
    },
    {
      "cell_type": "code",
      "source": [
        "fruits = [\"apple\", \"banana\", \"cherry\", \"kiwi\", \"mango\"]\n",
        "newlist=[]\n",
        "for x in fruits:\n",
        "  if \"a\" in x:\n",
        "    newlist.append(x)\n",
        "\n",
        "print(newlist)"
      ],
      "metadata": {
        "colab": {
          "base_uri": "https://localhost:8080/"
        },
        "id": "vAK4WD9-QiJa",
        "outputId": "d25b256d-5f07-409c-bcad-b3b3e72ab04c"
      },
      "execution_count": null,
      "outputs": [
        {
          "output_type": "stream",
          "name": "stdout",
          "text": [
            "['apple', 'banana', 'mango']\n"
          ]
        }
      ]
    },
    {
      "cell_type": "code",
      "source": [
        "#short alternative for the code given above\n",
        "#syntax\n",
        "# newlist = [expression for item in iterable if condition == True]\n",
        "# The condition is like a filter that only accepts the items that evaluate to True.\n",
        "\n",
        "fruits = [\"apple\", \"banana\", \"cherry\", \"kiwi\", \"mango\"]\n",
        "newlist = [x for x in fruits if \"a\" in x]\n",
        "print(newlist)\n",
        "# newlist = [x.upper() for x in fruits]\n",
        "# newlist = ['hello' for x in fruits]\n"
      ],
      "metadata": {
        "colab": {
          "base_uri": "https://localhost:8080/"
        },
        "id": "7p813NMUQ0Aj",
        "outputId": "8b6345a4-ca70-40f1-8006-d666fd5e669e"
      },
      "execution_count": null,
      "outputs": [
        {
          "output_type": "stream",
          "name": "stdout",
          "text": [
            "['apple', 'banana', 'mango']\n"
          ]
        }
      ]
    },
    {
      "cell_type": "markdown",
      "source": [
        "Iterable\n",
        "The iterable can be any iterable object, like a list, tuple, set etc.\n",
        "\n",
        "Example\n",
        "You can use the range() function to create an iterable:"
      ],
      "metadata": {
        "id": "SbTDGer0RqFs"
      }
    },
    {
      "cell_type": "code",
      "source": [
        "newlist=[x for x in range(10)]\n",
        "print(newlist)\n"
      ],
      "metadata": {
        "colab": {
          "base_uri": "https://localhost:8080/"
        },
        "id": "NzvdaMzIRq1D",
        "outputId": "140a9ff8-a0a5-43d9-8abf-ba43a159b515"
      },
      "execution_count": null,
      "outputs": [
        {
          "output_type": "stream",
          "name": "stdout",
          "text": [
            "[0, 1, 2, 3, 4, 5, 6, 7, 8, 9]\n"
          ]
        }
      ]
    },
    {
      "cell_type": "markdown",
      "source": [
        "The expression can also contain conditions, not like a filter, but as a way to manipulate the outcome:"
      ],
      "metadata": {
        "id": "2gs_BUf0So3z"
      }
    },
    {
      "cell_type": "code",
      "source": [
        "fruits = [\"apple\", \"banana\", \"cherry\", \"kiwi\", \"mango\"]\n",
        "# Return \"orange\" instead of \"banana\":\n",
        "newlist = [x if x != \"banana\" else \"orange\" for x in fruits]\n",
        "\n",
        "print(newlist)"
      ],
      "metadata": {
        "id": "9cXYlr60SpFs"
      },
      "execution_count": null,
      "outputs": []
    },
    {
      "cell_type": "markdown",
      "source": [
        "**Python - Sort Lists**\n",
        "\n",
        "Sort List Alphanumerically\n",
        "\n",
        "List objects have a sort() method that will sort the list alphanumerically, ascending, by default:\n"
      ],
      "metadata": {
        "id": "_XDgjD33S5jx"
      }
    },
    {
      "cell_type": "code",
      "source": [
        "thislist = [\"orange\", \"mango\", \"kiwi\", \"pineapple\", \"banana\"]\n",
        "thislist.sort();\n",
        "print(thislist)\n",
        "\n",
        "thislist = [100, 50, 65, 82, 23]\n",
        "thislist.sort()\n",
        "print(thislist)"
      ],
      "metadata": {
        "colab": {
          "base_uri": "https://localhost:8080/"
        },
        "id": "v-G_VZ2STHZF",
        "outputId": "aec62985-058f-47fa-adbe-423617d73b86"
      },
      "execution_count": null,
      "outputs": [
        {
          "output_type": "stream",
          "name": "stdout",
          "text": [
            "['banana', 'kiwi', 'mango', 'orange', 'pineapple']\n",
            "[23, 50, 65, 82, 100]\n"
          ]
        }
      ]
    },
    {
      "cell_type": "code",
      "source": [
        "# Sort the list descending:\n",
        "thislist = [\"orange\", \"mango\", \"kiwi\", \"pineapple\", \"banana\"]\n",
        "thislist.sort(reverse=True);\n",
        "print(thislist)\n",
        "\n",
        "thislist = [100, 50, 65, 82, 23]\n",
        "thislist.sort(reverse=True)\n",
        "print(thislist)"
      ],
      "metadata": {
        "colab": {
          "base_uri": "https://localhost:8080/"
        },
        "id": "ZEiAY5jkTSse",
        "outputId": "9da576cb-a9fe-4e89-84be-845d3e3a753d"
      },
      "execution_count": null,
      "outputs": [
        {
          "output_type": "stream",
          "name": "stdout",
          "text": [
            "['pineapple', 'orange', 'mango', 'kiwi', 'banana']\n",
            "[100, 82, 65, 50, 23]\n"
          ]
        }
      ]
    },
    {
      "cell_type": "markdown",
      "source": [
        "Customize Sort Function\n",
        "\n",
        "You can also customize your own function by using the keyword argument key = function.\n",
        "\n",
        "The function will return a number that will be used to sort the list (the lowest number first):"
      ],
      "metadata": {
        "id": "aSUzwT71TzDE"
      }
    },
    {
      "cell_type": "code",
      "source": [
        "def my_funcn(n):\n",
        "  return abs(n-50)\n",
        "\n",
        "thislist=[100,50,65,82,23]\n",
        "thislist.sort(key=my_funcn)\n",
        "print(thislist)\n"
      ],
      "metadata": {
        "colab": {
          "base_uri": "https://localhost:8080/"
        },
        "id": "RLJjQQBGUccL",
        "outputId": "7dacd898-3803-46a1-90e7-edf470d02ece"
      },
      "execution_count": null,
      "outputs": [
        {
          "output_type": "stream",
          "name": "stdout",
          "text": [
            "[50, 65, 23, 82, 100]\n"
          ]
        }
      ]
    },
    {
      "cell_type": "markdown",
      "source": [
        "Luckily we can use built-in functions as key functions when sorting a list.\n",
        "\n",
        "So if you want a case-insensitive sort function, use str.lower as a key function:"
      ],
      "metadata": {
        "id": "ks-ezOPpVGBM"
      }
    },
    {
      "cell_type": "code",
      "source": [
        "thislist = [\"banana\", \"Orange\", \"Kiwi\", \"cherry\"]\n",
        "thislist.sort(key = str.lower)\n",
        "print(thislist)"
      ],
      "metadata": {
        "id": "-ZedBEdNVG8V",
        "outputId": "c09088b5-e345-4a29-adf8-7b39f6a5cfe9",
        "colab": {
          "base_uri": "https://localhost:8080/"
        }
      },
      "execution_count": null,
      "outputs": [
        {
          "output_type": "stream",
          "name": "stdout",
          "text": [
            "['banana', 'cherry', 'Kiwi', 'Orange']\n"
          ]
        }
      ]
    }
  ]
}