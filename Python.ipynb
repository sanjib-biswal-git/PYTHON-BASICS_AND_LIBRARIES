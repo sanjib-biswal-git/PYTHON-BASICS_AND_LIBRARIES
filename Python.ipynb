{
  "nbformat": 4,
  "nbformat_minor": 0,
  "metadata": {
    "colab": {
      "provenance": [],
      "authorship_tag": "ABX9TyP+JxUgTBb1uJ+7oaqTZI7z",
      "include_colab_link": true
    },
    "kernelspec": {
      "name": "python3",
      "display_name": "Python 3"
    },
    "language_info": {
      "name": "python"
    }
  },
  "cells": [
    {
      "cell_type": "markdown",
      "metadata": {
        "id": "view-in-github",
        "colab_type": "text"
      },
      "source": [
        "<a href=\"https://colab.research.google.com/github/sanjib-biswal-git/PYTHON-BASICS_AND_LIBRARIES/blob/main/Python.ipynb\" target=\"_parent\"><img src=\"https://colab.research.google.com/assets/colab-badge.svg\" alt=\"Open In Colab\"/></a>"
      ]
    },
    {
      "cell_type": "markdown",
      "source": [
        "print statement example"
      ],
      "metadata": {
        "id": "U7MNrTh7G9B5"
      }
    },
    {
      "cell_type": "code",
      "execution_count": null,
      "metadata": {
        "colab": {
          "base_uri": "https://localhost:8080/"
        },
        "id": "THPmS48FGnLe",
        "outputId": "35fe39b4-a0f7-49f1-f41d-1a6ee5a2c7ab"
      },
      "outputs": [
        {
          "output_type": "stream",
          "name": "stdout",
          "text": [
            "Hello World!\n"
          ]
        }
      ],
      "source": [
        "print(\"Hello World!\")"
      ]
    },
    {
      "cell_type": "markdown",
      "source": [
        "if-statement example"
      ],
      "metadata": {
        "id": "_l7oAtrCRIrL"
      }
    },
    {
      "cell_type": "code",
      "source": [
        "if 5>2:\n",
        " print(\"Hello World\")"
      ],
      "metadata": {
        "colab": {
          "base_uri": "https://localhost:8080/"
        },
        "id": "Z_QULUZgRWFn",
        "outputId": "a2c79826-fa7a-48e7-c574-4580ef77feae"
      },
      "execution_count": null,
      "outputs": [
        {
          "output_type": "stream",
          "name": "stdout",
          "text": [
            "Hello World\n"
          ]
        }
      ]
    },
    {
      "cell_type": "markdown",
      "source": [
        "if-else statement"
      ],
      "metadata": {
        "id": "zQginm-sRroh"
      }
    },
    {
      "cell_type": "code",
      "source": [
        "age=18\n",
        "if(age>=18):\n",
        "     print(\"You can vote.\")\n",
        "else:\n",
        "     print(\"Can't vote.\")"
      ],
      "metadata": {
        "colab": {
          "base_uri": "https://localhost:8080/"
        },
        "id": "K24VaAYySCTZ",
        "outputId": "2a574a65-e280-4e18-f7da-497d3adf2a1d"
      },
      "execution_count": null,
      "outputs": [
        {
          "output_type": "stream",
          "name": "stdout",
          "text": [
            "You can vote.\n"
          ]
        }
      ]
    },
    {
      "cell_type": "markdown",
      "source": [
        "variables in python"
      ],
      "metadata": {
        "id": "X0utyyk6Sj1K"
      }
    },
    {
      "cell_type": "code",
      "source": [
        "x=5\n",
        "y=\"Hello\"\n",
        "z=4.5\n",
        "b=False\n",
        "c=True\n",
        "print(b)\n",
        "print(c)"
      ],
      "metadata": {
        "colab": {
          "base_uri": "https://localhost:8080/"
        },
        "id": "mrOV1XzUSn_5",
        "outputId": "fb1c1173-655a-4c1c-a9d2-a0ac4db94787"
      },
      "execution_count": null,
      "outputs": [
        {
          "output_type": "stream",
          "name": "stdout",
          "text": [
            "False\n",
            "True\n"
          ]
        }
      ]
    },
    {
      "cell_type": "markdown",
      "source": [
        "# -This is a comment.\n",
        "#-The same have to be used for multi lines comments also.\n",
        "-----------------------------------\n",
        "use multi-line string\n",
        "\"\"\"\n",
        "//text goes here\n",
        "\"\"\"\n",
        "-----------------------------------\n",
        "'''\n",
        "//text goes here\n",
        "\n",
        "'''"
      ],
      "metadata": {
        "id": "f0tqrQ6qS8Vz"
      }
    },
    {
      "cell_type": "markdown",
      "source": [
        "Casting"
      ],
      "metadata": {
        "id": "9bk0IoN5TlLs"
      }
    },
    {
      "cell_type": "code",
      "source": [
        "x=str(3) #'3'\n",
        "y=int(3) #3\n",
        "z=float(3) #3.0"
      ],
      "metadata": {
        "id": "mbznUk18Tqy5"
      },
      "execution_count": null,
      "outputs": []
    },
    {
      "cell_type": "markdown",
      "source": [
        "Get the type"
      ],
      "metadata": {
        "id": "dkQC9n6HT3tp"
      }
    },
    {
      "cell_type": "code",
      "source": [
        "x=5\n",
        "print(type(x))\n",
        "y=\"John\"\n",
        "print(type(y))"
      ],
      "metadata": {
        "colab": {
          "base_uri": "https://localhost:8080/"
        },
        "id": "GpGQc_BWT5Tm",
        "outputId": "03ed5d34-8aa1-4d3c-9625-658617bb5d66"
      },
      "execution_count": null,
      "outputs": [
        {
          "output_type": "stream",
          "name": "stdout",
          "text": [
            "<class 'int'>\n",
            "<class 'str'>\n"
          ]
        }
      ]
    },
    {
      "cell_type": "markdown",
      "source": [
        "Python is case sensitive.\n",
        "<!-- When something is case sensitive, it treats uppercase (A–Z) and lowercase (a–z) letters as different characters -->\n",
        "A will not overwrite a.\n",
        "There may be indentation errors."
      ],
      "metadata": {
        "id": "8cxREPbrUgli"
      }
    },
    {
      "cell_type": "markdown",
      "source": [
        "Many Values to Multiple Variables"
      ],
      "metadata": {
        "id": "mjVRuv16Va-E"
      }
    },
    {
      "cell_type": "code",
      "source": [
        "x,y,z = \"Orange\",\"Apple\",\"Banana\"\n",
        "print(x)\n",
        "print(y)\n",
        "print(z)"
      ],
      "metadata": {
        "colab": {
          "base_uri": "https://localhost:8080/"
        },
        "id": "uZatJ9sWVipC",
        "outputId": "9727f3d3-05b4-41fb-82dd-52a54cf82eb4"
      },
      "execution_count": null,
      "outputs": [
        {
          "output_type": "stream",
          "name": "stdout",
          "text": [
            "Orange\n",
            "Apple\n",
            "Banana\n"
          ]
        }
      ]
    },
    {
      "cell_type": "markdown",
      "source": [
        "One Value to Multiple Variables"
      ],
      "metadata": {
        "id": "J0xAf8uTVxFy"
      }
    },
    {
      "cell_type": "code",
      "source": [
        "x=y=z =\"Orange\"\n",
        "print(x)\n",
        "print(y)\n",
        "print(z)"
      ],
      "metadata": {
        "colab": {
          "base_uri": "https://localhost:8080/"
        },
        "id": "aw2WrwdTVzYy",
        "outputId": "a59359fa-7cd8-4fea-ee28-33fbfa898b75"
      },
      "execution_count": null,
      "outputs": [
        {
          "output_type": "stream",
          "name": "stdout",
          "text": [
            "Orange\n",
            "Orange\n",
            "Orange\n"
          ]
        }
      ]
    },
    {
      "cell_type": "markdown",
      "source": [
        "**Unpack a Collection**\n",
        "If you have a collection of values in a list, tuple etc. Python allows you to extract the values into variables. This is called unpacking."
      ],
      "metadata": {
        "id": "p2H77OQ5WA5L"
      }
    },
    {
      "cell_type": "code",
      "source": [
        "fruits=[\"Apple\",\"Grapes\",\"Cherry\"]\n",
        "x,y,z = fruits\n",
        "print(x)\n",
        "print(y)\n",
        "print(z)"
      ],
      "metadata": {
        "colab": {
          "base_uri": "https://localhost:8080/"
        },
        "id": "yqauDbF0WNvK",
        "outputId": "470551d4-5fd5-4876-e526-467d3cf933a9"
      },
      "execution_count": null,
      "outputs": [
        {
          "output_type": "stream",
          "name": "stdout",
          "text": [
            "Apple\n",
            "Grapes\n",
            "Cherry\n"
          ]
        }
      ]
    },
    {
      "cell_type": "markdown",
      "source": [
        "In the print() function, you output multiple variables, separated by a comma:"
      ],
      "metadata": {
        "id": "LkNLXOscWbhJ"
      }
    },
    {
      "cell_type": "code",
      "source": [
        "x = \"Python\"\n",
        "y = \"is\"\n",
        "z = \"awesome\"\n",
        "print(x, y, z)"
      ],
      "metadata": {
        "colab": {
          "base_uri": "https://localhost:8080/"
        },
        "id": "rFsxBVX0WloT",
        "outputId": "a08df1c8-3c89-4642-934b-a9c5667b7fdc"
      },
      "execution_count": null,
      "outputs": [
        {
          "output_type": "stream",
          "name": "stdout",
          "text": [
            "Python is awesome\n"
          ]
        }
      ]
    },
    {
      "cell_type": "markdown",
      "source": [
        "You can also use the + operator to output multiple variables:"
      ],
      "metadata": {
        "id": "4DikOCOjWwS6"
      }
    },
    {
      "cell_type": "code",
      "source": [
        "x = \"Python \"\n",
        "y = \"is \"\n",
        "z = \"awesome\"\n",
        "print(x + y + z)"
      ],
      "metadata": {
        "colab": {
          "base_uri": "https://localhost:8080/"
        },
        "id": "HqYALh02W1KT",
        "outputId": "0060dc24-b311-4f67-d4b9-2f4b604be6c8"
      },
      "execution_count": null,
      "outputs": [
        {
          "output_type": "stream",
          "name": "stdout",
          "text": [
            "Python is awesome\n"
          ]
        }
      ]
    },
    {
      "cell_type": "markdown",
      "source": [
        "In the print() function, when you try to combine a string and a number with the + operator, Python will give you an error:\n",
        "<!-- TypeError: unsupported operand type(s) for +: 'int' and 'str' -->"
      ],
      "metadata": {
        "id": "yk1GhlJ_W-u1"
      }
    },
    {
      "cell_type": "code",
      "source": [
        "x = 5\n",
        "y = \"John\"\n",
        "print(x + y)"
      ],
      "metadata": {
        "id": "URRtZmAdXCMq"
      },
      "execution_count": null,
      "outputs": []
    },
    {
      "cell_type": "markdown",
      "source": [
        "The best way to output multiple variables in the print() function is to separate them with commas, which even support different data types:"
      ],
      "metadata": {
        "id": "CEX7ajy7XSsj"
      }
    },
    {
      "cell_type": "code",
      "source": [
        "x = 5\n",
        "y = \"John\"\n",
        "print(x, y)"
      ],
      "metadata": {
        "id": "DG9VFdtlXZdM"
      },
      "execution_count": null,
      "outputs": []
    },
    {
      "cell_type": "markdown",
      "source": [
        "Global Variables:\n",
        "\n",
        "Variables that are created outside of a function (as in all of the examples in the previous pages) are known as global variables.\n",
        "\n",
        "Global variables can be used by everyone, both inside of functions and outside."
      ],
      "metadata": {
        "id": "OI7iktL-XbLT"
      }
    },
    {
      "cell_type": "code",
      "source": [
        "x=7\n",
        "def myFunc():\n",
        "  print(\"My name is \",x)\n",
        "myFunc()"
      ],
      "metadata": {
        "colab": {
          "base_uri": "https://localhost:8080/"
        },
        "id": "UNEzmDMOXsJa",
        "outputId": "1512dfd2-2040-454d-ddb8-b02e7004100f"
      },
      "execution_count": null,
      "outputs": [
        {
          "output_type": "stream",
          "name": "stdout",
          "text": [
            "My name is  7\n"
          ]
        }
      ]
    },
    {
      "cell_type": "markdown",
      "source": [
        "f you create a variable with the same name inside a function, this variable will be local, and can only be used inside the function. The global variable with the same name will remain as it was, global and with the original value."
      ],
      "metadata": {
        "id": "3gUNWTjuYYYS"
      }
    },
    {
      "cell_type": "code",
      "source": [
        "x=\"Sanjib\"\n",
        "def myFunc():\n",
        "  x=\"Larry\"\n",
        "  print(\"My name is \"+x)\n",
        "myFunc()\n",
        "\n",
        "print(\"My name is \"+x)"
      ],
      "metadata": {
        "colab": {
          "base_uri": "https://localhost:8080/"
        },
        "id": "TdHMVeMzYZ2L",
        "outputId": "bb95cc91-f22e-4b70-e074-82dd9a37607d"
      },
      "execution_count": null,
      "outputs": [
        {
          "output_type": "stream",
          "name": "stdout",
          "text": [
            "My name is Larry\n",
            "My name is Sanjib\n"
          ]
        }
      ]
    },
    {
      "cell_type": "markdown",
      "source": [
        "**The global Keyword**\n",
        "\n",
        "Normally, when you create a variable inside a function, that variable is local, and can only be used inside that function.\n",
        "\n",
        "To create a global variable inside a function, you can use the global keyword.\n"
      ],
      "metadata": {
        "id": "L3aBCbQLYzNj"
      }
    },
    {
      "cell_type": "code",
      "source": [
        "def myFunc():\n",
        "  global var28\n",
        "  var28=6\n",
        "myFunc()\n",
        "print(var28)\n"
      ],
      "metadata": {
        "colab": {
          "base_uri": "https://localhost:8080/"
        },
        "id": "F9I9yTp0Y7ac",
        "outputId": "648f31c2-e73b-4d62-e8b5-0b6d2c2e24ff"
      },
      "execution_count": null,
      "outputs": [
        {
          "output_type": "stream",
          "name": "stdout",
          "text": [
            "6\n"
          ]
        }
      ]
    },
    {
      "cell_type": "markdown",
      "source": [
        "To change the value of a global variable inside a function, refer to the variable by using the global keyword:"
      ],
      "metadata": {
        "id": "a2UhB3atZtck"
      }
    },
    {
      "cell_type": "code",
      "source": [
        "var33 = 45\n",
        "def myFunc():\n",
        "  global var33\n",
        "  var33=65\n",
        "# myFunc()\n",
        "\n",
        "print(var33)"
      ],
      "metadata": {
        "colab": {
          "base_uri": "https://localhost:8080/"
        },
        "id": "M9x9SZcNZwJi",
        "outputId": "c5c99686-457a-4e72-beb9-c61692d07bf2"
      },
      "execution_count": null,
      "outputs": [
        {
          "output_type": "stream",
          "name": "stdout",
          "text": [
            "45\n"
          ]
        }
      ]
    },
    {
      "cell_type": "markdown",
      "source": [
        "**Built-in Data Types**\n",
        "\n",
        "In programming, data type is an important concept.\n",
        "\n",
        "Variables can store data of different types, and different types can do different things."
      ],
      "metadata": {
        "id": "a953-gnecqry"
      }
    },
    {
      "cell_type": "markdown",
      "source": [
        "Text Type:\t        str\n",
        "Numeric Types:\t    int, float, complex\n",
        "Sequence Types:\t    list, tuple, range\n",
        "Mapping Type:\t      dict\n",
        "Set Types:\t        set, frozenset\n",
        "Boolean Type:\t      bool\n",
        "Binary Types:\t      bytes, bytearray,  memoryview\n",
        "None Type:\t         NoneType"
      ],
      "metadata": {
        "id": "iL9tIN8tc6oL"
      }
    },
    {
      "cell_type": "markdown",
      "source": [
        "x = \"Hello World\"\t   str\n",
        "x = 20\t             int\n",
        "x = 20.5\t           float\n",
        "x = 1j\t             complex\n",
        "x = [\"apple\", \"banana\", \"cherry\"]\t     list\n",
        "x = (\"apple\", \"banana\", \"cherry\")\ttuple\n",
        "x = range(6)\trange\n",
        "x = {\"name\" : \"John\", \"age\" : 36}\tdict\n",
        "x = {\"apple\", \"banana\", \"cherry\"}\tset\n",
        "x = frozenset({\"apple\", \"banana\", \"cherry\"})\tfrozenset\n",
        "x = True\tbool\n",
        "x = b\"Hello\"\tbytes\n",
        "x = bytearray(5)\tbytearray\n",
        "x = memoryview(bytes(5))\tmemoryview\n",
        "x = None\tNoneType"
      ],
      "metadata": {
        "id": "ZVDSs7jxfR-z"
      }
    },
    {
      "cell_type": "markdown",
      "source": [
        "**Random Number**\n",
        "Python does not have a random() function to make a random number, but Python has a built-in module called random that can be used to make random numbers:"
      ],
      "metadata": {
        "id": "x-z-QTi3gPJi"
      }
    },
    {
      "cell_type": "code",
      "source": [
        "import random\n",
        "print(random.randrange(1,100))"
      ],
      "metadata": {
        "colab": {
          "base_uri": "https://localhost:8080/"
        },
        "id": "K0f1CVdLgSPU",
        "outputId": "08fa8938-7f49-4d60-9fe8-6ac0ec642a17"
      },
      "execution_count": null,
      "outputs": [
        {
          "output_type": "stream",
          "name": "stdout",
          "text": [
            "24\n"
          ]
        }
      ]
    },
    {
      "cell_type": "markdown",
      "source": [
        "Casting in python is therefore done using constructor functions:\n",
        "int()\n",
        "float()\n",
        "str()\n"
      ],
      "metadata": {
        "id": "O2ok-7PRhAMd"
      }
    },
    {
      "cell_type": "code",
      "source": [
        "x=\"Sanjib\"\n",
        "print(len(x))"
      ],
      "metadata": {
        "colab": {
          "base_uri": "https://localhost:8080/"
        },
        "id": "7lzQgGiwhE98",
        "outputId": "af6c7408-334a-4ffb-e3c0-287da79f3e89"
      },
      "execution_count": null,
      "outputs": [
        {
          "output_type": "stream",
          "name": "stdout",
          "text": [
            "6\n"
          ]
        }
      ]
    },
    {
      "cell_type": "markdown",
      "source": [
        "Multiline Strings\n",
        "You can assign a multiline string to a variable by using three quotes:\n",
        "\n",
        "Example-->"
      ],
      "metadata": {
        "id": "Q9ZSKuarhpHZ"
      }
    },
    {
      "cell_type": "code",
      "source": [
        "a=\"\"\"\n",
        "Lorem ipsum dolor sit amet,\n",
        "consectetur adipiscing elit,\n",
        "sed do eiusmod tempor incididunt\n",
        "ut labore et dolore magna aliqua.\n",
        "\"\"\"\n",
        "print(a)"
      ],
      "metadata": {
        "colab": {
          "base_uri": "https://localhost:8080/"
        },
        "id": "-9E64ZH4hrfD",
        "outputId": "60b6966d-da15-4474-fc37-df4b1defc0b9"
      },
      "execution_count": null,
      "outputs": [
        {
          "output_type": "stream",
          "name": "stdout",
          "text": [
            "\n",
            "Lorem ipsum dolor sit amet,\n",
            "consectetur adipiscing elit,\n",
            "sed do eiusmod tempor incididunt\n",
            "ut labore et dolore magna aliqua.\n",
            "\n"
          ]
        }
      ]
    },
    {
      "cell_type": "markdown",
      "source": [
        "**Strings are Arrays**\n",
        "----------------------------\n",
        "\n",
        "Like many other popular programming languages, strings in Python are arrays of unicode characters.\n",
        "\n",
        "However, Python does not have a character data type, a single character is simply a string with a length of 1.\n",
        "\n",
        "Square brackets can be used to access elements of the string."
      ],
      "metadata": {
        "id": "ljVU_rf4iDSu"
      }
    },
    {
      "cell_type": "code",
      "source": [
        "a=\"Hello World\"\n",
        "print(a[1]) #e"
      ],
      "metadata": {
        "colab": {
          "base_uri": "https://localhost:8080/"
        },
        "id": "INmKwTSYiMVd",
        "outputId": "c99311cf-5a68-454f-f95d-bc2831727635"
      },
      "execution_count": null,
      "outputs": [
        {
          "output_type": "stream",
          "name": "stdout",
          "text": [
            "e\n"
          ]
        }
      ]
    },
    {
      "cell_type": "markdown",
      "source": [
        "**Looping Through a String**"
      ],
      "metadata": {
        "id": "W_hl9kofiTWm"
      }
    },
    {
      "cell_type": "code",
      "source": [
        "for x in \"banana\":\n",
        "  print(x)"
      ],
      "metadata": {
        "colab": {
          "base_uri": "https://localhost:8080/"
        },
        "id": "KZ3TqAGKid2-",
        "outputId": "33da34fc-673f-4a5c-f4ca-d78518995a46"
      },
      "execution_count": null,
      "outputs": [
        {
          "output_type": "stream",
          "name": "stdout",
          "text": [
            "b\n",
            "a\n",
            "n\n",
            "a\n",
            "n\n",
            "a\n"
          ]
        }
      ]
    },
    {
      "cell_type": "markdown",
      "source": [
        "Check String\n",
        "To check if a certain phrase or character is present in a string, we can use the keyword in."
      ],
      "metadata": {
        "id": "J9FsEjn6ixAT"
      }
    },
    {
      "cell_type": "code",
      "source": [
        "txt=\"Sanjib is a good boy\"\n",
        "print(\"good\" in txt)"
      ],
      "metadata": {
        "colab": {
          "base_uri": "https://localhost:8080/"
        },
        "id": "WzbLm1Apiy-D",
        "outputId": "84cff1f5-777b-4181-c22a-084446817936"
      },
      "execution_count": null,
      "outputs": [
        {
          "output_type": "stream",
          "name": "stdout",
          "text": [
            "True\n"
          ]
        }
      ]
    },
    {
      "cell_type": "markdown",
      "source": [
        "Check if NOT\n",
        "To check if a certain phrase or character is NOT present in a string, we can use the keyword not in."
      ],
      "metadata": {
        "id": "kc9zhyNei_0-"
      }
    },
    {
      "cell_type": "code",
      "source": [
        "txt=\"Sanjib is a good boy.\"\n",
        "print(\"good\" not in txt)"
      ],
      "metadata": {
        "colab": {
          "base_uri": "https://localhost:8080/"
        },
        "id": "pl-chxmejArh",
        "outputId": "5522efe6-d49f-4ffd-987a-12c36ce188f5"
      },
      "execution_count": null,
      "outputs": [
        {
          "output_type": "stream",
          "name": "stdout",
          "text": [
            "False\n"
          ]
        }
      ]
    },
    {
      "cell_type": "markdown",
      "source": [
        "**Slicing Strings**"
      ],
      "metadata": {
        "id": "1jDzwAf-zDd_"
      }
    },
    {
      "cell_type": "code",
      "source": [
        "b=\"Hello, World!\"\n",
        "print(b[2:5]) #llo"
      ],
      "metadata": {
        "colab": {
          "base_uri": "https://localhost:8080/"
        },
        "id": "fTJIb-IBzSiI",
        "outputId": "4655430d-9348-41d3-8076-377e2bf5fc4b"
      },
      "execution_count": null,
      "outputs": [
        {
          "output_type": "stream",
          "name": "stdout",
          "text": [
            "llo\n"
          ]
        }
      ]
    },
    {
      "cell_type": "markdown",
      "source": [
        "Slice From the Start"
      ],
      "metadata": {
        "id": "p4KdH51bzee4"
      }
    },
    {
      "cell_type": "code",
      "source": [
        "b = \"Hello, World!\"\n",
        "print(b[:5])"
      ],
      "metadata": {
        "colab": {
          "base_uri": "https://localhost:8080/"
        },
        "id": "u_5pKmv4zg-v",
        "outputId": "21b8d7a5-5938-46dc-9d59-cd31d606ee38"
      },
      "execution_count": null,
      "outputs": [
        {
          "output_type": "stream",
          "name": "stdout",
          "text": [
            "Hello\n"
          ]
        }
      ]
    },
    {
      "cell_type": "markdown",
      "source": [
        "**Slice To the End**"
      ],
      "metadata": {
        "id": "wKhmxabEzovY"
      }
    },
    {
      "cell_type": "code",
      "source": [
        "b = \"Hello, World!\"\n",
        "print(b[2:])"
      ],
      "metadata": {
        "colab": {
          "base_uri": "https://localhost:8080/"
        },
        "id": "BPJua05pzqpf",
        "outputId": "433aae0a-6b1c-4442-a18e-aaaec71fb80d"
      },
      "execution_count": null,
      "outputs": [
        {
          "output_type": "stream",
          "name": "stdout",
          "text": [
            "llo, World!\n"
          ]
        }
      ]
    },
    {
      "cell_type": "markdown",
      "source": [
        "**Negative Indexing**\n",
        "--------------------\n",
        "\n",
        "Use negative indexes to start the slice from the end of the string:\n",
        "\n",
        "Tip: Count from last and index starts form 1."
      ],
      "metadata": {
        "id": "7YCw03xtzx15"
      }
    },
    {
      "cell_type": "code",
      "source": [
        "b = \"Hello, World!\"\n",
        "print(b[-5:-2])"
      ],
      "metadata": {
        "colab": {
          "base_uri": "https://localhost:8080/"
        },
        "id": "xfr748ELz1iF",
        "outputId": "ca684c60-5d58-4ac2-8b64-157b65bcbe08"
      },
      "execution_count": null,
      "outputs": [
        {
          "output_type": "stream",
          "name": "stdout",
          "text": [
            "orl\n"
          ]
        }
      ]
    },
    {
      "cell_type": "markdown",
      "source": [
        "**Python - Modify Strings**\n",
        "\n",
        "UpperCase - .upper()\n",
        "LowerCase - .lower()\n",
        "Remove whitespace - .strip()\n",
        "Replace String - .replace(\"Str1\",\"Str2\")\n",
        "#char in python is also considered as a string of length 1.\n",
        "\n",
        "Split string - .split(\",\")\n",
        "\n",
        "String Concatenation - +\n"
      ],
      "metadata": {
        "id": "Geno1c0D0em9"
      }
    },
    {
      "cell_type": "markdown",
      "source": [
        "F-Strings\n",
        "\n",
        "F-String was introduced in Python 3.6, and is now the preferred way of formatting strings.\n",
        "\n",
        "To specify a string as an f-string, simply put an f in front of the string literal, and add curly brackets {} as placeholders for variables and other operations."
      ],
      "metadata": {
        "id": "uP8q7FpE2o4I"
      }
    },
    {
      "cell_type": "code",
      "source": [
        "age = 20\n",
        "print(f\"My age is {age}\")"
      ],
      "metadata": {
        "colab": {
          "base_uri": "https://localhost:8080/"
        },
        "id": "PJ_QbWre2yuO",
        "outputId": "d7c137be-6197-4ef7-c1b1-e662d3841e92"
      },
      "execution_count": null,
      "outputs": [
        {
          "output_type": "stream",
          "name": "stdout",
          "text": [
            "My age is 20\n"
          ]
        }
      ]
    },
    {
      "cell_type": "markdown",
      "source": [
        "**Placeholders and Modifiers**"
      ],
      "metadata": {
        "id": "_u5wgQvv2-HT"
      }
    },
    {
      "cell_type": "code",
      "source": [
        "price = 59\n",
        "txt = f\"The price is {price:.2f} dollars\"\n",
        "print(txt)"
      ],
      "metadata": {
        "colab": {
          "base_uri": "https://localhost:8080/"
        },
        "id": "pZt9ZXmg3Ypo",
        "outputId": "051bbfef-ba40-482b-c57d-f67890dde1d5"
      },
      "execution_count": null,
      "outputs": [
        {
          "output_type": "stream",
          "name": "stdout",
          "text": [
            "The price is 59.00 dollars\n"
          ]
        }
      ]
    },
    {
      "cell_type": "markdown",
      "source": [
        "**Placeholders can have math operations.**"
      ],
      "metadata": {
        "id": "95ZZtHik3pgf"
      }
    },
    {
      "cell_type": "code",
      "source": [
        "print(f\"I need {20*40} million dollars.\")"
      ],
      "metadata": {
        "colab": {
          "base_uri": "https://localhost:8080/"
        },
        "id": "P_3UeG-83wEo",
        "outputId": "f22c274e-175f-42bf-da7a-4e76f4d364b4"
      },
      "execution_count": null,
      "outputs": [
        {
          "output_type": "stream",
          "name": "stdout",
          "text": [
            "I need 800 million dollars.\n"
          ]
        }
      ]
    },
    {
      "cell_type": "markdown",
      "source": [
        "**Escape Character**\n",
        "\\n-new line"
      ],
      "metadata": {
        "id": "2VeLgIlL4bfY"
      }
    },
    {
      "cell_type": "code",
      "source": [
        "txt = \"We are the so-called \\\"Vikings\\\" from the north.\"\n",
        "print(txt)"
      ],
      "metadata": {
        "colab": {
          "base_uri": "https://localhost:8080/"
        },
        "id": "TEsueV1x4fBQ",
        "outputId": "121581be-f7d8-476f-b355-8e1f42a84304"
      },
      "execution_count": null,
      "outputs": [
        {
          "output_type": "stream",
          "name": "stdout",
          "text": [
            "We are the so-called \"Vikings\" from the north.\n"
          ]
        }
      ]
    },
    {
      "cell_type": "markdown",
      "source": [
        "Boolean - True , False\n",
        "\n",
        "#Falsy Values\n",
        "\n",
        "bool(False)\n",
        "bool(None)\n",
        "bool(0)\n",
        "bool(\"\")\n",
        "bool(())\n",
        "bool([])\n",
        "bool({})\n",
        "\n",
        "Python also has many built-in functions that return a boolean value, like the isinstance() function, which can be used to determine if an object is of a certain data type:"
      ],
      "metadata": {
        "id": "wC_MhIOS4uRo"
      }
    },
    {
      "cell_type": "code",
      "source": [
        "x = 200\n",
        "print(isinstance(x,int))  #True\n",
        "print(isinstance(x,float))  #False"
      ],
      "metadata": {
        "colab": {
          "base_uri": "https://localhost:8080/"
        },
        "id": "uJy4zfbCBa_6",
        "outputId": "7e704cb8-cca8-4260-b379-8927e8924004"
      },
      "execution_count": null,
      "outputs": [
        {
          "output_type": "stream",
          "name": "stdout",
          "text": [
            "True\n",
            "False\n"
          ]
        }
      ]
    },
    {
      "cell_type": "markdown",
      "source": [
        "**PYTHON OPERATORS**\n",
        "\n",
        ".Arithmetic operators\n",
        "    +,-,*,/\n",
        "\tExponentiation\tx ** y\n",
        "    Floor division\tx // y\n",
        "\n",
        ".Assignment operators\n",
        ".Comparison operators\n",
        ".Logical operators\n",
        "    and,or,not\n",
        ".Identity operators\n",
        "----------------------\n",
        "is - return strue if both variable are same object\n",
        "\n",
        "is not - return true if both variable are not same object\n",
        "\n",
        ".Membership operators\n",
        "------------------------\n",
        "in\n",
        "not in\n",
        "\n",
        ".Bitwise operators\n",
        "--------------------\n",
        "AND(&)\n",
        "OR(|)\n",
        "XOR(^)\n",
        "NOT(~)\n",
        "LEFT SHIFT(<<)\n",
        "RIGHT SHIFT(>>)"
      ],
      "metadata": {
        "id": "BPUtNFVdCBfy"
      }
    },
    {
      "cell_type": "markdown",
      "source": [
        "Four built-in libraries in python - List,Tuple,Set,Dictionary\n",
        "\n",
        "**PYTHON LISTS**\n",
        "\n",
        "--List items are ordered , changable and allow duplicate values.\n",
        "\n",
        "--Tuple items are ordered and unchangeable. Allows duplicate members.\n",
        "\n",
        "--Set is a collection which is unordered, unchangeable*, and unindexed. No duplicate members.\n",
        "\n",
        "\n",
        "*Set items are unchangeable, but you can remove and/or add items whenever you like.\n",
        "\n",
        "--Dictionary is a collection which is ordered** and changeable. No duplicate members.\n",
        "\n",
        "\n",
        "**As of Python version 3.7, dictionaries are ordered. In Python 3.6 and earlier, dictionaries are unordered."
      ],
      "metadata": {
        "id": "LhPnptNnIW65"
      }
    },
    {
      "cell_type": "code",
      "source": [
        "mylist =[\"apple\",\"banana\",\"cherry\",\"apple\"]\n",
        "print(mylist)\n",
        "print(mylist[2])   #access list items\n",
        "print(mylist[-1])  #apple\n",
        "print(len(mylist))\n",
        "\n",
        "#list constructor\n",
        "thislist = list((\"apple\",\"banana\",\"grapes\"))\n",
        "print(thislist)\n",
        "\n",
        "#change item value\n",
        "mylist[0] = \"avocado\"\n",
        "print(mylist)\n",
        "\n",
        "#change in a range\n",
        "thislist[0:2]=[\"hii\",\"bye\"]\n",
        "print(thislist)\n",
        "\n",
        "\n",
        "#Change the second value by replacing it with two new values\n",
        "thisslist = [\"apple\", \"banana\", \"cherry\"]\n",
        "thisslist[1:2] = [\"blackcurrant\", \"watermelon\"]\n",
        "print(thisslist)\n",
        "\n",
        "\n",
        "#Change the second and third value by replacing it with one value\n",
        "thislis = [\"apple\", \"banana\", \"cherry\"]\n",
        "thislis[1:3] = [\"watermelon\"]\n",
        "print(thislis)\n",
        "thislis.insert(1,\"Jk Rollin\")\n",
        "print(thislis)\n",
        "thislis.append(\"kurkure\")\n",
        "print(thislis)"
      ],
      "metadata": {
        "colab": {
          "base_uri": "https://localhost:8080/"
        },
        "id": "q3Qi5LkvI0bE",
        "outputId": "fb5ef589-955c-4d52-d8db-83ab625ccd59"
      },
      "execution_count": null,
      "outputs": [
        {
          "output_type": "stream",
          "name": "stdout",
          "text": [
            "['apple', 'banana', 'cherry', 'apple']\n",
            "cherry\n",
            "apple\n",
            "4\n",
            "['apple', 'banana', 'grapes']\n",
            "['avocado', 'banana', 'cherry', 'apple']\n",
            "['hii', 'bye', 'grapes']\n",
            "['apple', 'blackcurrant', 'watermelon', 'cherry']\n",
            "['apple', 'watermelon']\n",
            "['apple', 'Jk Rollin', 'watermelon']\n",
            "['apple', 'Jk Rollin', 'watermelon', 'kurkure']\n"
          ]
        }
      ]
    },
    {
      "cell_type": "markdown",
      "source": [
        "**Extend List**"
      ],
      "metadata": {
        "id": "GZgrTkqOOEZf"
      }
    },
    {
      "cell_type": "code",
      "source": [
        "list1=[\"apple\"]\n",
        "list2=[\"orange\"]\n",
        "list1.extend(list2)\n",
        "print(list1)\n",
        "print(list2)"
      ],
      "metadata": {
        "colab": {
          "base_uri": "https://localhost:8080/"
        },
        "id": "OCjmHVZuURp7",
        "outputId": "fdeab67f-4c26-48bb-b60e-d280c9d74b6f"
      },
      "execution_count": null,
      "outputs": [
        {
          "output_type": "stream",
          "name": "stdout",
          "text": [
            "['apple', 'orange']\n",
            "['orange']\n"
          ]
        }
      ]
    },
    {
      "cell_type": "markdown",
      "source": [
        "**Add Any Iterable**\n",
        "\n",
        "The extend() method does not have to append lists, you can add any iterable object (tuples, sets, dictionaries etc.)."
      ],
      "metadata": {
        "id": "62f0FrXfYlJL"
      }
    },
    {
      "cell_type": "code",
      "source": [
        "thislist = [\"apple\", \"banana\", \"cherry\"]\n",
        "thistuple = (\"kiwi\", \"orange\")\n",
        "thislist.extend(thistuple)\n",
        "print(thislist)"
      ],
      "metadata": {
        "colab": {
          "base_uri": "https://localhost:8080/"
        },
        "id": "f6AeNQeIYpXi",
        "outputId": "b895cc0c-6a97-445e-fc9b-0cf657bdabaa"
      },
      "execution_count": null,
      "outputs": [
        {
          "output_type": "stream",
          "name": "stdout",
          "text": [
            "['apple', 'banana', 'cherry', 'kiwi', 'orange']\n"
          ]
        }
      ]
    },
    {
      "cell_type": "markdown",
      "source": [
        "**Remove Specified Item**\n",
        "\n",
        "The remove() method removes the specified item.\n",
        "\n",
        "If duplicate elements are present,then it removes only the first one."
      ],
      "metadata": {
        "id": "nrAGV8C2ZJXb"
      }
    },
    {
      "cell_type": "code",
      "source": [
        "thislist=[\"a\",\"b\",\"c\",\"d\"]\n",
        "thislist.remove(\"c\")\n",
        "print(thislist)"
      ],
      "metadata": {
        "colab": {
          "base_uri": "https://localhost:8080/"
        },
        "id": "NNJZhTjfZM3l",
        "outputId": "1daaafda-d43c-4855-c561-f61663e82a15"
      },
      "execution_count": null,
      "outputs": [
        {
          "output_type": "stream",
          "name": "stdout",
          "text": [
            "['a', 'b', 'd']\n"
          ]
        }
      ]
    },
    {
      "cell_type": "markdown",
      "source": [
        "Remove Specified Index\n",
        "\n",
        "The pop() method removes the specified index.\n",
        "\n",
        "To remove last element\n",
        "list.pop()"
      ],
      "metadata": {
        "id": "hI5fshj3c4t9"
      }
    },
    {
      "cell_type": "code",
      "source": [
        "thislist=[\"apple\",\"orange\",\"banana\"]\n",
        "thislist.pop(1)\n",
        "print(thislist)"
      ],
      "metadata": {
        "colab": {
          "base_uri": "https://localhost:8080/"
        },
        "id": "7glkxs79c9_J",
        "outputId": "0bcd503f-06d1-4460-a37d-df47c7fd9bc0"
      },
      "execution_count": null,
      "outputs": [
        {
          "output_type": "stream",
          "name": "stdout",
          "text": [
            "['apple', 'banana']\n"
          ]
        }
      ]
    },
    {
      "cell_type": "markdown",
      "source": [
        "The del keyword also removes the specified index:"
      ],
      "metadata": {
        "id": "OUcB7D0CdVv0"
      }
    },
    {
      "cell_type": "code",
      "source": [
        "thislist = [\"apple\", \"banana\", \"cherry\"]\n",
        "del thislist[0]\n",
        "print(thislist)\n",
        "#del thislist"
      ],
      "metadata": {
        "colab": {
          "base_uri": "https://localhost:8080/"
        },
        "id": "eV0yV1lrdaMm",
        "outputId": "e96613bd-6c65-4c67-b667-b37fe7a385e6"
      },
      "execution_count": null,
      "outputs": [
        {
          "output_type": "stream",
          "name": "stdout",
          "text": [
            "['banana', 'cherry']\n"
          ]
        }
      ]
    },
    {
      "cell_type": "markdown",
      "source": [
        "The clear() method empties the list."
      ],
      "metadata": {
        "id": "6FEt2Z8Dd94_"
      }
    },
    {
      "cell_type": "markdown",
      "source": [
        "**Loop through a List**"
      ],
      "metadata": {
        "id": "BbQp8fKqeTkf"
      }
    },
    {
      "cell_type": "code",
      "source": [
        "thislist=[\"apple\",\"orange\",\"banana\"]\n",
        "for x in thislist:\n",
        "  print(x)"
      ],
      "metadata": {
        "colab": {
          "base_uri": "https://localhost:8080/"
        },
        "id": "RkZy8FPbeZGZ",
        "outputId": "879f6871-701e-422d-c445-ec19029e2e32"
      },
      "execution_count": null,
      "outputs": [
        {
          "output_type": "stream",
          "name": "stdout",
          "text": [
            "apple\n",
            "orange\n",
            "banana\n"
          ]
        }
      ]
    },
    {
      "cell_type": "code",
      "source": [
        "# Print from 1 to 10 using for-loop\n",
        "for i in range(1,11):\n",
        "  print(i)"
      ],
      "metadata": {
        "colab": {
          "base_uri": "https://localhost:8080/"
        },
        "id": "hcjP5TnCei2F",
        "outputId": "2b3ea615-3b40-4f17-c2ca-4bf893c2192e"
      },
      "execution_count": null,
      "outputs": [
        {
          "output_type": "stream",
          "name": "stdout",
          "text": [
            "1\n",
            "2\n",
            "3\n",
            "4\n",
            "5\n",
            "6\n",
            "7\n",
            "8\n",
            "9\n",
            "10\n"
          ]
        }
      ]
    },
    {
      "cell_type": "markdown",
      "source": [
        "Loop Through the Index Numbers\n",
        "You can also loop through the list items by referring to their index number.\n",
        "\n",
        "Use the range() and len() functions to create a suitable iterable.\n",
        "\n",
        "Example"
      ],
      "metadata": {
        "id": "YEiQieYoOWTz"
      }
    },
    {
      "cell_type": "code",
      "source": [
        "thislist = [\"apple\", \"banana\", \"cherry\"]\n",
        "for i in range(len(thislist)):   #range(3) - generates 0,1,2\n",
        "  print(thislist[i])"
      ],
      "metadata": {
        "colab": {
          "base_uri": "https://localhost:8080/"
        },
        "id": "tF6i-oq2Ob26",
        "outputId": "bc2b28ef-8de6-4539-dfc7-2dc6cb4c91a5"
      },
      "execution_count": null,
      "outputs": [
        {
          "output_type": "stream",
          "name": "stdout",
          "text": [
            "apple\n",
            "banana\n",
            "cherry\n"
          ]
        }
      ]
    },
    {
      "cell_type": "markdown",
      "source": [
        "Using a While Loop\n",
        "You can loop through the list items by using a while loop.\n",
        "\n",
        "Use the len() function to determine the length of the list, then start at 0 and loop your way through the list items by referring to their indexes.\n",
        "\n",
        "Remember to increase the index by 1 after each iteration."
      ],
      "metadata": {
        "id": "qyD1HPE6O1Gw"
      }
    },
    {
      "cell_type": "code",
      "source": [
        "thislist = [\"apple\", \"banana\", \"cherry\"]\n",
        "i=0\n",
        "while(i<len(thislist)):\n",
        "  print(thislist[i])\n",
        "  i+=1"
      ],
      "metadata": {
        "colab": {
          "base_uri": "https://localhost:8080/"
        },
        "id": "YND1eUoVO4nb",
        "outputId": "5484547b-5c07-41f8-c369-ef71778db476"
      },
      "execution_count": null,
      "outputs": [
        {
          "output_type": "stream",
          "name": "stdout",
          "text": [
            "apple\n",
            "banana\n",
            "cherry\n"
          ]
        }
      ]
    },
    {
      "cell_type": "markdown",
      "source": [
        "**Looping Using List Comprehension**\n",
        "\n",
        "---Its a bad practice in python."
      ],
      "metadata": {
        "id": "4Jhk1dcKPJJq"
      }
    },
    {
      "cell_type": "code",
      "source": [
        "thislist = [\"apple\", \"banana\", \"cherry\"]\n",
        "# for x in thislist:\n",
        "#   print(x)\n",
        "[print(x) for x in thislist]"
      ],
      "metadata": {
        "colab": {
          "base_uri": "https://localhost:8080/"
        },
        "id": "bILogfv-POZi",
        "outputId": "56e74203-c37a-4ae8-ea5d-cf60b0b1b946"
      },
      "execution_count": null,
      "outputs": [
        {
          "output_type": "stream",
          "name": "stdout",
          "text": [
            "apple\n",
            "banana\n",
            "cherry\n"
          ]
        },
        {
          "output_type": "execute_result",
          "data": {
            "text/plain": [
              "[None, None, None]"
            ]
          },
          "metadata": {},
          "execution_count": 15
        }
      ]
    },
    {
      "cell_type": "markdown",
      "source": [
        "List comprehension offers a shorter syntax when you want to create a new list based on the values of an existing list.\n",
        "\n",
        "Example:\n",
        "\n",
        "Based on a list of fruits, you want a new list, containing only the fruits with the letter \"a\" in the name.\n",
        "\n",
        "Without list comprehension you will have to write a for statement with a conditional test inside:"
      ],
      "metadata": {
        "id": "Jhtu-sGDQhUy"
      }
    },
    {
      "cell_type": "code",
      "source": [
        "fruits = [\"apple\", \"banana\", \"cherry\", \"kiwi\", \"mango\"]\n",
        "newlist=[]\n",
        "for x in fruits:\n",
        "  if \"a\" in x:\n",
        "    newlist.append(x)\n",
        "\n",
        "print(newlist)"
      ],
      "metadata": {
        "colab": {
          "base_uri": "https://localhost:8080/"
        },
        "id": "vAK4WD9-QiJa",
        "outputId": "d25b256d-5f07-409c-bcad-b3b3e72ab04c"
      },
      "execution_count": null,
      "outputs": [
        {
          "output_type": "stream",
          "name": "stdout",
          "text": [
            "['apple', 'banana', 'mango']\n"
          ]
        }
      ]
    },
    {
      "cell_type": "code",
      "source": [
        "#short alternative for the code given above\n",
        "#syntax\n",
        "# newlist = [expression for item in iterable if condition == True]\n",
        "# The condition is like a filter that only accepts the items that evaluate to True.\n",
        "\n",
        "fruits = [\"apple\", \"banana\", \"cherry\", \"kiwi\", \"mango\"]\n",
        "newlist = [x for x in fruits if \"a\" in x]\n",
        "print(newlist)\n",
        "# newlist = [x.upper() for x in fruits]\n",
        "# newlist = ['hello' for x in fruits]\n"
      ],
      "metadata": {
        "colab": {
          "base_uri": "https://localhost:8080/"
        },
        "id": "7p813NMUQ0Aj",
        "outputId": "8b6345a4-ca70-40f1-8006-d666fd5e669e"
      },
      "execution_count": null,
      "outputs": [
        {
          "output_type": "stream",
          "name": "stdout",
          "text": [
            "['apple', 'banana', 'mango']\n"
          ]
        }
      ]
    },
    {
      "cell_type": "markdown",
      "source": [
        "Iterable\n",
        "The iterable can be any iterable object, like a list, tuple, set etc.\n",
        "\n",
        "Example\n",
        "You can use the range() function to create an iterable:"
      ],
      "metadata": {
        "id": "SbTDGer0RqFs"
      }
    },
    {
      "cell_type": "code",
      "source": [
        "newlist=[x for x in range(10)]\n",
        "print(newlist)\n"
      ],
      "metadata": {
        "colab": {
          "base_uri": "https://localhost:8080/"
        },
        "id": "NzvdaMzIRq1D",
        "outputId": "140a9ff8-a0a5-43d9-8abf-ba43a159b515"
      },
      "execution_count": null,
      "outputs": [
        {
          "output_type": "stream",
          "name": "stdout",
          "text": [
            "[0, 1, 2, 3, 4, 5, 6, 7, 8, 9]\n"
          ]
        }
      ]
    },
    {
      "cell_type": "markdown",
      "source": [
        "The expression can also contain conditions, not like a filter, but as a way to manipulate the outcome:"
      ],
      "metadata": {
        "id": "2gs_BUf0So3z"
      }
    },
    {
      "cell_type": "code",
      "source": [
        "fruits = [\"apple\", \"banana\", \"cherry\", \"kiwi\", \"mango\"]\n",
        "# Return \"orange\" instead of \"banana\":\n",
        "newlist = [x if x != \"banana\" else \"orange\" for x in fruits]\n",
        "\n",
        "print(newlist)"
      ],
      "metadata": {
        "id": "9cXYlr60SpFs"
      },
      "execution_count": null,
      "outputs": []
    },
    {
      "cell_type": "markdown",
      "source": [
        "**Python - Sort Lists**\n",
        "\n",
        "Sort List Alphanumerically\n",
        "\n",
        "List objects have a sort() method that will sort the list alphanumerically, ascending, by default:\n"
      ],
      "metadata": {
        "id": "_XDgjD33S5jx"
      }
    },
    {
      "cell_type": "code",
      "source": [
        "thislist = [\"orange\", \"mango\", \"kiwi\", \"pineapple\", \"banana\"]\n",
        "thislist.sort();\n",
        "print(thislist)\n",
        "\n",
        "thislist = [100, 50, 65, 82, 23]\n",
        "thislist.sort()\n",
        "print(thislist)"
      ],
      "metadata": {
        "colab": {
          "base_uri": "https://localhost:8080/"
        },
        "id": "v-G_VZ2STHZF",
        "outputId": "aec62985-058f-47fa-adbe-423617d73b86"
      },
      "execution_count": null,
      "outputs": [
        {
          "output_type": "stream",
          "name": "stdout",
          "text": [
            "['banana', 'kiwi', 'mango', 'orange', 'pineapple']\n",
            "[23, 50, 65, 82, 100]\n"
          ]
        }
      ]
    },
    {
      "cell_type": "code",
      "source": [
        "# Sort the list descending:\n",
        "thislist = [\"orange\", \"mango\", \"kiwi\", \"pineapple\", \"banana\"]\n",
        "thislist.sort(reverse=True);\n",
        "print(thislist)\n",
        "\n",
        "thislist = [100, 50, 65, 82, 23]\n",
        "thislist.sort(reverse=True)\n",
        "print(thislist)"
      ],
      "metadata": {
        "colab": {
          "base_uri": "https://localhost:8080/"
        },
        "id": "ZEiAY5jkTSse",
        "outputId": "9da576cb-a9fe-4e89-84be-845d3e3a753d"
      },
      "execution_count": null,
      "outputs": [
        {
          "output_type": "stream",
          "name": "stdout",
          "text": [
            "['pineapple', 'orange', 'mango', 'kiwi', 'banana']\n",
            "[100, 82, 65, 50, 23]\n"
          ]
        }
      ]
    },
    {
      "cell_type": "markdown",
      "source": [
        "Customize Sort Function\n",
        "\n",
        "You can also customize your own function by using the keyword argument key = function.\n",
        "\n",
        "The function will return a number that will be used to sort the list (the lowest number first):"
      ],
      "metadata": {
        "id": "aSUzwT71TzDE"
      }
    },
    {
      "cell_type": "code",
      "source": [
        "def my_funcn(n):\n",
        "  return abs(n-50)\n",
        "\n",
        "thislist=[100,50,65,82,23]\n",
        "thislist.sort(key=my_funcn)\n",
        "print(thislist)\n"
      ],
      "metadata": {
        "colab": {
          "base_uri": "https://localhost:8080/"
        },
        "id": "RLJjQQBGUccL",
        "outputId": "7dacd898-3803-46a1-90e7-edf470d02ece"
      },
      "execution_count": null,
      "outputs": [
        {
          "output_type": "stream",
          "name": "stdout",
          "text": [
            "[50, 65, 23, 82, 100]\n"
          ]
        }
      ]
    },
    {
      "cell_type": "markdown",
      "source": [
        "Luckily we can use built-in functions as key functions when sorting a list.\n",
        "\n",
        "So if you want a case-insensitive sort function, use str.lower as a key function:"
      ],
      "metadata": {
        "id": "ks-ezOPpVGBM"
      }
    },
    {
      "cell_type": "code",
      "source": [
        "thislist = [\"banana\", \"Orange\", \"Kiwi\", \"cherry\"]\n",
        "thislist.sort(key = str.lower)\n",
        "print(thislist)"
      ],
      "metadata": {
        "id": "-ZedBEdNVG8V",
        "outputId": "c09088b5-e345-4a29-adf8-7b39f6a5cfe9",
        "colab": {
          "base_uri": "https://localhost:8080/"
        }
      },
      "execution_count": null,
      "outputs": [
        {
          "output_type": "stream",
          "name": "stdout",
          "text": [
            "['banana', 'cherry', 'Kiwi', 'Orange']\n"
          ]
        }
      ]
    },
    {
      "cell_type": "markdown",
      "source": [
        "**Reverse Order**\n",
        "\n",
        "What if you want to reverse the order of a list, regardless of the alphabet?\n",
        "\n",
        "The reverse() method reverses the current sorting order of the elements."
      ],
      "metadata": {
        "id": "BOSmcucQZhr7"
      }
    },
    {
      "cell_type": "code",
      "source": [
        "thislist = [\"banana\", \"Orange\", \"Kiwi\", \"cherry\"]\n",
        "thislist.reverse()\n",
        "print(thislist)"
      ],
      "metadata": {
        "colab": {
          "base_uri": "https://localhost:8080/"
        },
        "id": "H-6DwVPfZsn2",
        "outputId": "53e5a42d-44c5-42d2-e4b4-978b1ab862a7"
      },
      "execution_count": 28,
      "outputs": [
        {
          "output_type": "stream",
          "name": "stdout",
          "text": [
            "['cherry', 'Kiwi', 'Orange', 'banana']\n"
          ]
        }
      ]
    },
    {
      "cell_type": "markdown",
      "source": [
        "**Copy a List**\n",
        "\n",
        "You cannot copy a list simply by typing list2 = list1, because: list2 will only be a reference to list1, and changes made in list1 will automatically also be made in list2.\n",
        "\n",
        "Use the copy() method\n",
        "\n",
        "You can use the built-in List method copy() to copy a list."
      ],
      "metadata": {
        "id": "rNb_m9X1aBrU"
      }
    },
    {
      "cell_type": "code",
      "source": [
        "thislist = [\"apple\", \"banana\", \"cherry\"]\n",
        "mylist = thislist.copy()\n",
        "print(mylist)\n",
        "\n",
        "# Use the list() method\n",
        "# Another way to make a copy is to use the built-in method list()\n",
        "thislist = [\"apple\", \"banana\", \"cherry\"]\n",
        "mylist = list(thislist)\n",
        "print(mylist)\n",
        "\n",
        "# Use the slice Operator\n",
        "# You can also make a copy of a list by using the : (slice) operator.\n",
        "\n",
        "thislist = [\"apple\", \"banana\", \"cherry\"]\n",
        "mylist = thislist[:]\n",
        "print(mylist)"
      ],
      "metadata": {
        "colab": {
          "base_uri": "https://localhost:8080/"
        },
        "id": "z8HmtvfaaOlu",
        "outputId": "9ca82729-1a01-4a3a-8800-5f0c1d26cc74"
      },
      "execution_count": 31,
      "outputs": [
        {
          "output_type": "stream",
          "name": "stdout",
          "text": [
            "['apple', 'banana', 'cherry']\n",
            "['apple', 'banana', 'cherry']\n",
            "['apple', 'banana', 'cherry']\n"
          ]
        }
      ]
    },
    {
      "cell_type": "code",
      "source": [
        "\n",
        "# Join Two Lists\n",
        "\n",
        "# There are several ways to join, or concatenate, two or more lists in Python.\n",
        "# One of the easiest ways are by using the + operator.\n",
        "list1 = [\"a\", \"b\", \"c\"]\n",
        "list2 = [1, 2, 3]\n",
        "\n",
        "list3 = list1 + list2\n",
        "print(list3)\n",
        "\n",
        "# or\n",
        "\n",
        "list1 = [\"a\", \"b\" , \"c\"]\n",
        "list2 = [1, 2, 3]\n",
        "\n",
        "for x in list2:\n",
        "  list1.append(x)\n",
        "\n",
        "print(list1)\n",
        "\n",
        "# Use the extend() method to add list2 at the end of list1:\n",
        "list1 = [\"a\", \"b\" , \"c\"]\n",
        "list2 = [1, 2, 3]\n",
        "\n",
        "list1.extend(list2)\n",
        "print(list1)\n"
      ],
      "metadata": {
        "colab": {
          "base_uri": "https://localhost:8080/"
        },
        "id": "afWJYgnNapzF",
        "outputId": "95b17c46-d7d4-469e-e139-04cd796de335"
      },
      "execution_count": 34,
      "outputs": [
        {
          "output_type": "stream",
          "name": "stdout",
          "text": [
            "['a', 'b', 'c', 1, 2, 3]\n",
            "['a', 'b', 'c', 1, 2, 3]\n",
            "['a', 'b', 'c', 1, 2, 3]\n"
          ]
        }
      ]
    },
    {
      "cell_type": "markdown",
      "source": [
        "**List Methods**\n",
        "\n",
        "Python has a set of built-in methods that you can use on lists.\n",
        "\n",
        "Method          \tDescription\n",
        "append()\t Adds an element at the end of the list\n",
        "\n",
        "clear()    Removes all the elements from the list\n",
        "\n",
        "copy()\t   Returns a copy of the list\n",
        "\n",
        "count()\t   Returns the number of elements with the specified value\n",
        "\n",
        "extend()\t Add the elements of a list (or any iterable), to the end of the current list\n",
        "\n",
        "index()\t   Returns the index of the first element with the specified value\n",
        "\n",
        "insert()\t Adds an element at the specified position\n",
        "\n",
        "pop()\t     Removes the element at the specified position\n",
        "\n",
        "remove()\t Removes the item with the specified value\n",
        "\n",
        "reverse()\t Reverses the order of the list\n",
        "\n",
        "sort()\t   Sorts the list"
      ],
      "metadata": {
        "id": "tc91xw8GbcjX"
      }
    },
    {
      "cell_type": "markdown",
      "source": [
        "**Python Tuples**"
      ],
      "metadata": {
        "id": "_3HJ7Pufp4uS"
      }
    },
    {
      "cell_type": "code",
      "source": [
        "thistuple = (\"apple\", \"banana\", \"cherry\")\n",
        "print(thistuple)"
      ],
      "metadata": {
        "colab": {
          "base_uri": "https://localhost:8080/"
        },
        "id": "qQ-CZ0xsr4A_",
        "outputId": "6016cc74-645d-4c7d-900e-dad9b71ba2bc"
      },
      "execution_count": 35,
      "outputs": [
        {
          "output_type": "stream",
          "name": "stdout",
          "text": [
            "('apple', 'banana', 'cherry')\n"
          ]
        }
      ]
    },
    {
      "cell_type": "markdown",
      "source": [
        "**Create Tuple With One Item**\n",
        "\n",
        "To create a tuple with only one item, you have to add a comma after the item, otherwise Python will not recognize it as a tuple."
      ],
      "metadata": {
        "id": "epFJWKxwthKm"
      }
    },
    {
      "cell_type": "code",
      "source": [
        "thistuple = (\"apple\")\n",
        "print(type(thistuple)) #str\n",
        "\n",
        "thistuple = (\"apple\",)\n",
        "print(type(thistuple)) #tuple"
      ],
      "metadata": {
        "colab": {
          "base_uri": "https://localhost:8080/"
        },
        "id": "gDFnnJUQtmKG",
        "outputId": "34d05851-71cc-428f-b9ab-afde5b430565"
      },
      "execution_count": 38,
      "outputs": [
        {
          "output_type": "stream",
          "name": "stdout",
          "text": [
            "<class 'str'>\n",
            "<class 'tuple'>\n"
          ]
        }
      ]
    },
    {
      "cell_type": "markdown",
      "source": [
        "**Python - Update Tuples**\n",
        "\n",
        "Change Tuple Values\n",
        "Once a tuple is created, you cannot change its values. Tuples are unchangeable, or immutable as it also is called.\n",
        "\n",
        "But there is a workaround. You can convert the tuple into a list, change the list, and convert the list back into a tuple."
      ],
      "metadata": {
        "id": "m5u_rQXov6W6"
      }
    },
    {
      "cell_type": "code",
      "source": [
        "x=(\"apple\",\"banana\",\"cherry\")\n",
        "y=list(x)\n",
        "y[1]=\"kiwi\"\n",
        "x=tuple(y)\n",
        "\n",
        "print(x)\n",
        "\n",
        "# -------------------\n",
        "\n",
        "thistuple = (\"apple\", \"banana\", \"cherry\")\n",
        "y = (\"orange\",)\n",
        "thistuple += y\n",
        "\n",
        "print(thistuple)\n"
      ],
      "metadata": {
        "colab": {
          "base_uri": "https://localhost:8080/"
        },
        "id": "iBTGkSIqwHh2",
        "outputId": "83fd424a-d62b-42fc-d47c-ca26c3eb5a78"
      },
      "execution_count": 39,
      "outputs": [
        {
          "output_type": "stream",
          "name": "stdout",
          "text": [
            "('apple', 'kiwi', 'cherry')\n"
          ]
        }
      ]
    },
    {
      "cell_type": "markdown",
      "source": [
        "**Unpacking a Tuple**\n",
        "\n",
        "When we create a tuple, we normally assign values to it. This is called \"packing\" a tuple:"
      ],
      "metadata": {
        "id": "l48XlQZuw-_v"
      }
    },
    {
      "cell_type": "code",
      "source": [
        "fruits=(\"apple\",\"banana\",\"cherry\")\n",
        "(a,b,c) = fruits\n",
        "print(a,b,c)"
      ],
      "metadata": {
        "colab": {
          "base_uri": "https://localhost:8080/"
        },
        "id": "KwQLdBxuxI8o",
        "outputId": "1d993dae-38f9-459c-f91e-69cccd20d3fe"
      },
      "execution_count": 40,
      "outputs": [
        {
          "output_type": "stream",
          "name": "stdout",
          "text": [
            "apple banana cherry\n"
          ]
        }
      ]
    },
    {
      "cell_type": "markdown",
      "source": [
        "Using Asterisk*\n",
        "\n",
        "If the number of variables is less than the number of values, you can add an * to the variable name and the values will be assigned to the variable as a list:"
      ],
      "metadata": {
        "id": "NPFTMZ_-xbUh"
      }
    },
    {
      "cell_type": "code",
      "source": [
        "fruits = (\"apple\", \"banana\", \"cherry\", \"strawberry\", \"raspberry\")\n",
        "(a,b,*c) = fruits\n",
        "print(a,b,c)"
      ],
      "metadata": {
        "colab": {
          "base_uri": "https://localhost:8080/"
        },
        "id": "gB9mmHH-xeqR",
        "outputId": "ca40527b-fa52-468d-d1f9-39c09916b26e"
      },
      "execution_count": 41,
      "outputs": [
        {
          "output_type": "stream",
          "name": "stdout",
          "text": [
            "apple banana ['cherry', 'strawberry', 'raspberry']\n"
          ]
        }
      ]
    },
    {
      "cell_type": "markdown",
      "source": [
        "Loop Through the Index Numbers\n",
        "\n",
        "You can also loop through the tuple items by referring to their index number.\n",
        "\n",
        "Use the range() and len() functions to create a suitable iterable."
      ],
      "metadata": {
        "id": "R-M7nEx2xx5G"
      }
    },
    {
      "cell_type": "code",
      "source": [
        "thistuple = (\"apple\", \"banana\", \"cherry\")\n",
        "for i in range(len(thistuple)):\n",
        "  print(thistuple[i])"
      ],
      "metadata": {
        "colab": {
          "base_uri": "https://localhost:8080/"
        },
        "id": "11rQzTffxz-Y",
        "outputId": "c70f2b8c-d10f-44b1-b248-b4865a150554"
      },
      "execution_count": 43,
      "outputs": [
        {
          "output_type": "stream",
          "name": "stdout",
          "text": [
            "apple\n",
            "banana\n",
            "cherry\n"
          ]
        }
      ]
    },
    {
      "cell_type": "markdown",
      "source": [
        "Join Two Tuples\n",
        "\n",
        "To join two or more tuples you can use the + operator:"
      ],
      "metadata": {
        "id": "u5sSjhUsynXC"
      }
    },
    {
      "cell_type": "code",
      "source": [
        "tuple1 = (\"a\", \"b\" , \"c\")\n",
        "tuple2 = (1, 2, 3)\n",
        "\n",
        "tuple3 = tuple1 + tuple2\n",
        "print(tuple3)"
      ],
      "metadata": {
        "colab": {
          "base_uri": "https://localhost:8080/"
        },
        "id": "M0X74uwbyp6O",
        "outputId": "25ddc0ab-fbb9-4b86-d902-d3bf61674032"
      },
      "execution_count": 44,
      "outputs": [
        {
          "output_type": "stream",
          "name": "stdout",
          "text": [
            "('a', 'b', 'c', 1, 2, 3)\n"
          ]
        }
      ]
    },
    {
      "cell_type": "markdown",
      "source": [
        "Multiply Tuples\n",
        "\n",
        "If you want to multiply the content of a tuple a given number of times, you can use the * operator:"
      ],
      "metadata": {
        "id": "vZ-J2d4ny7eJ"
      }
    },
    {
      "cell_type": "code",
      "source": [
        "fruits = (\"apple\", \"banana\", \"cherry\")\n",
        "mytuple = fruits*2\n",
        "print(mytuple)"
      ],
      "metadata": {
        "colab": {
          "base_uri": "https://localhost:8080/"
        },
        "id": "Koa0k6d5y9AR",
        "outputId": "18888407-c0fd-46d3-f2c0-83a34395e7cf"
      },
      "execution_count": 45,
      "outputs": [
        {
          "output_type": "stream",
          "name": "stdout",
          "text": [
            "('apple', 'banana', 'cherry', 'apple', 'banana', 'cherry')\n"
          ]
        }
      ]
    },
    {
      "cell_type": "markdown",
      "source": [
        "**Tuple Methods**\n",
        "\n",
        "Python has two built-in methods that you can use on tuples.\n",
        "\n",
        "Method\tDescription\n",
        "count()\tReturns the number of times a specified value occurs in a tuple\n",
        "index()\tSearches the tuple for a specified value and returns the position of where it was found"
      ],
      "metadata": {
        "id": "8wcMR8_9zPpN"
      }
    },
    {
      "cell_type": "code",
      "source": [
        "mytuple = (1, 2, 3, 2, 4, 2, 5)\n",
        "print(mytuple.count(2))   # How many times \"2\" appears?\n",
        "\n",
        "\n",
        "mytuple = (\"apple\", \"banana\", \"cherry\", \"banana\", \"kiwi\")\n",
        "print(mytuple.index(\"banana\"))   # First occurrence"
      ],
      "metadata": {
        "colab": {
          "base_uri": "https://localhost:8080/"
        },
        "id": "iwWd7-0qSOmD",
        "outputId": "8712063c-96bb-4203-b40f-9914b1b838e2"
      },
      "execution_count": 2,
      "outputs": [
        {
          "output_type": "stream",
          "name": "stdout",
          "text": [
            "3\n",
            "1\n"
          ]
        }
      ]
    },
    {
      "cell_type": "markdown",
      "source": [
        "**Python Sets**\n",
        "\n",
        "Set\n",
        "\n",
        "Sets are used to store multiple items in a single variable.\n",
        "\n",
        "A set is a collection which is unordered, unchangeable*, and unindexed.\n",
        "\n",
        "* Note: Set items are unchangeable, but you can remove items and add new items.\n",
        "\n",
        "*Sets don't allow duplicate values."
      ],
      "metadata": {
        "id": "M_WPXW7nSbr-"
      }
    },
    {
      "cell_type": "code",
      "source": [
        "thisset = {\"apple\", \"banana\", \"cherry\"}\n",
        "print(thisset)\n",
        "\n",
        "\n",
        "# Duplicate values will be ignored:\n",
        "\n",
        "thissett = {\"apple\", \"banana\", \"cherry\", \"apple\"}\n",
        "print(thissett)\n",
        "\n",
        "# Note: The values True and 1 are considered the same value in sets,\n",
        "# and are treated as duplicates:\n",
        "\n",
        "#Same for False and 0."
      ],
      "metadata": {
        "colab": {
          "base_uri": "https://localhost:8080/"
        },
        "id": "x-ePHpxpSwyF",
        "outputId": "e573b7c5-d2b4-42da-a07c-1d29f63aaca6"
      },
      "execution_count": 13,
      "outputs": [
        {
          "output_type": "stream",
          "name": "stdout",
          "text": [
            "{'apple', 'cherry', 'banana'}\n",
            "{'apple', 'cherry', 'banana'}\n"
          ]
        }
      ]
    },
    {
      "cell_type": "markdown",
      "source": [
        "The set() Constructor\n",
        "\n",
        "It is also possible to use the set() constructor to make a set."
      ],
      "metadata": {
        "id": "Zz5pD1uVT0Dl"
      }
    },
    {
      "cell_type": "code",
      "source": [
        "thisset = set((\"apple\", \"banana\", \"cherry\")) # note the double round-brackets\n",
        "print(thisset)\n",
        "\n",
        "\n",
        "#Collecation data types in python : List,Tuple,Set,Dictionary"
      ],
      "metadata": {
        "colab": {
          "base_uri": "https://localhost:8080/"
        },
        "id": "X4H61K_lT3j8",
        "outputId": "e249d633-ec96-4b9b-fa68-9a144d71ca34"
      },
      "execution_count": 15,
      "outputs": [
        {
          "output_type": "stream",
          "name": "stdout",
          "text": [
            "{'apple', 'cherry', 'banana'}\n"
          ]
        }
      ]
    },
    {
      "cell_type": "markdown",
      "source": [
        "Access Items\n",
        "\n",
        "You cannot access items in a set by referring to an index or a key.\n",
        "\n",
        "But you can loop through the set items using a for loop, or ask if a specified value is present in a set, by using the in keyword."
      ],
      "metadata": {
        "id": "45lFCQXcUMRz"
      }
    },
    {
      "cell_type": "code",
      "source": [
        "thisset = {\"apple\", \"banana\", \"cherry\"}\n",
        "\n",
        "for x in thisset:\n",
        "  print(x)"
      ],
      "metadata": {
        "colab": {
          "base_uri": "https://localhost:8080/"
        },
        "id": "I_-qrrVfUQqd",
        "outputId": "5d21fc58-b433-4091-b48e-017cc0e3e85d"
      },
      "execution_count": 16,
      "outputs": [
        {
          "output_type": "stream",
          "name": "stdout",
          "text": [
            "apple\n",
            "cherry\n",
            "banana\n"
          ]
        }
      ]
    },
    {
      "cell_type": "code",
      "source": [
        "# To add one item to a set use the add() method.\n",
        "\n",
        "thisset = {\"apple\", \"banana\", \"cherry\"}\n",
        "thisset.add(\"orange\")\n",
        "print(thisset)"
      ],
      "metadata": {
        "colab": {
          "base_uri": "https://localhost:8080/"
        },
        "id": "Okc2R43_UgBc",
        "outputId": "48744f7b-b9aa-486c-ce42-f0daea6595fc"
      },
      "execution_count": 17,
      "outputs": [
        {
          "output_type": "stream",
          "name": "stdout",
          "text": [
            "{'orange', 'apple', 'cherry', 'banana'}\n"
          ]
        }
      ]
    },
    {
      "cell_type": "code",
      "source": [
        "# Add Sets\n",
        "# To add items from another set into the current set,\n",
        "# use the update() method.\n",
        "\n",
        "thisset = {\"apple\", \"banana\", \"cherry\"}\n",
        "tropical = {\"pineapple\", \"mango\", \"papaya\"}\n",
        "thisset.update(tropical)\n",
        "print(thisset)\n",
        "\n",
        "# Add Any Iterable\n",
        "# The object in the update() method does not have to be a set,\n",
        "# it can be any iterable object (tuples, lists, dictionaries etc.)."
      ],
      "metadata": {
        "colab": {
          "base_uri": "https://localhost:8080/"
        },
        "id": "rElCrUezUqlU",
        "outputId": "562e24a3-6a38-43ee-b43d-8ce6b8d534ae"
      },
      "execution_count": 18,
      "outputs": [
        {
          "output_type": "stream",
          "name": "stdout",
          "text": [
            "{'apple', 'pineapple', 'cherry', 'papaya', 'mango', 'banana'}\n"
          ]
        }
      ]
    },
    {
      "cell_type": "code",
      "source": [
        "# Remove Item\n",
        "# To remove an item in a set, use the remove(),\n",
        "# or the discard() method.\n",
        "\n",
        "thisset = {\"apple\", \"banana\", \"cherry\"}\n",
        "thisset.remove(\"banana\")\n",
        "print(thisset)\n",
        "\n",
        "\n",
        "print(\"--------------\")\n",
        "# You can also use the pop() method to remove an item,\n",
        "# but this method will remove a random item,\n",
        "# so you cannot be sure what item that gets removed.\n",
        "\n",
        "# The return value of the pop() method is the removed item.\n",
        "\n",
        "thisset = {\"apple\", \"banana\", \"cherry\"}\n",
        "x = thisset.pop()\n",
        "print(x)\n",
        "print(thisset)\n",
        "\n",
        "\n",
        "#clear() empties the set.\n",
        "#del deletes the set completely.\n",
        "\n",
        "#union() '|' , intersection() '&' , differenece() '-' , symmetric difference() '^'"
      ],
      "metadata": {
        "colab": {
          "base_uri": "https://localhost:8080/"
        },
        "id": "xFF9aCmjVJC8",
        "outputId": "81217fb0-90dd-44ea-c5f3-bd30a8ff2377"
      },
      "execution_count": 27,
      "outputs": [
        {
          "output_type": "stream",
          "name": "stdout",
          "text": [
            "{'apple', 'cherry'}\n",
            "--------------\n",
            "apple\n",
            "{'cherry', 'banana'}\n"
          ]
        }
      ]
    },
    {
      "cell_type": "markdown",
      "source": [
        "**Python Dictionaries**\n",
        "\n",
        "Dictionaries are used to store data values in key:value pairs.\n",
        "\n",
        "A dictionary is a collection which is ordered*, changeable and do not allow duplicates.\n"
      ],
      "metadata": {
        "id": "6HVoIkwdInyI"
      }
    },
    {
      "cell_type": "code",
      "source": [
        "thisdict = {\n",
        "  \"name\":\"Sanjib\",\n",
        "  \"age\":18,\n",
        "  \"email\":\"sanjib@gmail.com\"\n",
        "}\n",
        "print(thisdict)"
      ],
      "metadata": {
        "colab": {
          "base_uri": "https://localhost:8080/"
        },
        "id": "qtU3jh_PJGfE",
        "outputId": "07ee04b6-e659-4675-a6fb-6a7f519f2cbd"
      },
      "execution_count": 3,
      "outputs": [
        {
          "output_type": "stream",
          "name": "stdout",
          "text": [
            "{'name': 'Sanjib', 'age': 18, 'email': 'sanjib@gmail.com'}\n"
          ]
        }
      ]
    },
    {
      "cell_type": "markdown",
      "source": [
        "**Accessing Items**\n",
        "\n",
        "You can access the items of a dictionary by referring to its key name, inside square brackets:"
      ],
      "metadata": {
        "id": "C4pbxDaDJ-Pp"
      }
    },
    {
      "cell_type": "code",
      "source": [
        "thisdict = {\n",
        "  \"brand\": \"Ford\",\n",
        "  \"model\": \"Mustang\",\n",
        "  \"year\": 1964\n",
        "}\n",
        "x = thisdict[\"model\"]\n",
        "print(x)\n",
        "x = thisdict.get(\"model\")\n",
        "print(x)"
      ],
      "metadata": {
        "colab": {
          "base_uri": "https://localhost:8080/"
        },
        "id": "E3wMwVvuKChy",
        "outputId": "ca7f30d0-0170-48b1-f4a2-33e6018857f0"
      },
      "execution_count": 6,
      "outputs": [
        {
          "output_type": "stream",
          "name": "stdout",
          "text": [
            "Mustang\n",
            "Mustang\n"
          ]
        }
      ]
    },
    {
      "cell_type": "code",
      "source": [
        "# Get Keys\n",
        "# The keys() method will return a list of all the keys in the dictionary.\n",
        "x = thisdict.keys()\n",
        "print(x)\n",
        "\n",
        "# Example\n",
        "# Add a new item to the original dictionary, and\n",
        "# see that the keys list gets updated as well:\n",
        "\n",
        "car = {\n",
        "\"brand\": \"Ford\",\n",
        "\"model\": \"Mustang\",\n",
        "\"year\": 1964\n",
        "}\n",
        "\n",
        "x = car.keys()\n",
        "\n",
        "print(x) #before the change\n",
        "\n",
        "car[\"color\"] = \"white\"\n",
        "\n",
        "print(x) #after the change\n",
        "\n",
        "# Get Values\n",
        "# The values() method will return a list of\n",
        "# all the values in the dictionary.\n",
        "\n",
        "# Example\n",
        "# Get a list of the values:\n",
        "\n",
        "x = thisdict.values()\n",
        "print(x)\n",
        "\n",
        "# Get Items\n",
        "# The items() method will return each item in a dictionary,\n",
        "# as tuples in a list.\n",
        "\n",
        "# Example\n",
        "# Get a list of the key:value pairs\n",
        "\n",
        "x = thisdict.items()\n",
        "print(x)\n"
      ],
      "metadata": {
        "colab": {
          "base_uri": "https://localhost:8080/"
        },
        "id": "au6GGt0SKakD",
        "outputId": "c997ce0a-43e4-4ea0-b992-df01e6738b3b"
      },
      "execution_count": 13,
      "outputs": [
        {
          "output_type": "stream",
          "name": "stdout",
          "text": [
            "dict_keys(['brand', 'model', 'year'])\n",
            "dict_keys(['brand', 'model', 'year'])\n",
            "dict_keys(['brand', 'model', 'year', 'color'])\n",
            "dict_values(['Ford', 'Mustang', 1964])\n",
            "dict_items([('brand', 'Ford'), ('model', 'Mustang'), ('year', 1964)])\n"
          ]
        }
      ]
    },
    {
      "cell_type": "code",
      "source": [
        "# Update Dictionary\n",
        "# The update() method will update the dictionary with the\n",
        "#  items from the given argument.\n",
        "\n",
        "# The argument must be a dictionary, or an iterable object\n",
        "#  with key:value pairs.\n",
        "\n",
        "# Example\n",
        "# Update the \"year\" of the car by using the update() method:\n",
        "\n",
        "thisdict = {\n",
        "  \"brand\": \"Ford\",\n",
        "  \"model\": \"Mustang\",\n",
        "  \"year\": 1964\n",
        "}\n",
        "thisdict.update({\"year\": 2020})"
      ],
      "metadata": {
        "id": "HiG-IjTRLeaq"
      },
      "execution_count": null,
      "outputs": []
    },
    {
      "cell_type": "code",
      "source": [
        "# The pop() method removes the item with the specified key name:\n",
        "\n",
        "thisdict = {\n",
        "  \"brand\": \"Ford\",\n",
        "  \"model\": \"Mustang\",\n",
        "  \"year\": 1964\n",
        "}\n",
        "thisdict.pop(\"model\")\n",
        "print(thisdict)\n",
        "\n",
        "\n",
        "# The popitem() method removes the last inserted item\n",
        "thisdict = {\n",
        "  \"brand\": \"Ford\",\n",
        "  \"model\": \"Mustang\",\n",
        "  \"year\": 1964\n",
        "}\n",
        "thisdict.popitem()\n",
        "print(thisdict)\n",
        "\n",
        "# The del keyword removes the item with the specified key name:\n",
        "\n",
        "thisdict = {\n",
        "  \"brand\": \"Ford\",\n",
        "  \"model\": \"Mustang\",\n",
        "  \"year\": 1964\n",
        "}\n",
        "del thisdict[\"model\"]\n",
        "print(thisdict)\n",
        "\n",
        "# The clear() method empties the dictionary:\n",
        "\n",
        "thisdict = {\n",
        "  \"brand\": \"Ford\",\n",
        "  \"model\": \"Mustang\",\n",
        "  \"year\": 1964\n",
        "}\n",
        "thisdict.clear()\n",
        "print(thisdict)\n",
        "\n"
      ],
      "metadata": {
        "colab": {
          "base_uri": "https://localhost:8080/"
        },
        "id": "u_M_6naCMHlh",
        "outputId": "4296ef20-a8da-41a8-9906-b0cadfe5a7c6"
      },
      "execution_count": 15,
      "outputs": [
        {
          "output_type": "stream",
          "name": "stdout",
          "text": [
            "{'brand': 'Ford', 'year': 1964}\n",
            "{'brand': 'Ford', 'model': 'Mustang'}\n"
          ]
        }
      ]
    },
    {
      "cell_type": "code",
      "source": [
        "# Loop Through a Dictionary\n",
        "# You can loop through a dictionary by using a for loop.\n",
        "\n",
        "# When looping through a dictionary, the return value are the keys\n",
        "#  of the dictionary, but there are methods to return the values as well.\n",
        "thisdict =\t{\n",
        "  \"brand\": \"Ford\",\n",
        "  \"model\": \"Mustang\",\n",
        "  \"year\": 1964\n",
        "}\n",
        "for x in thisdict:\n",
        "  print(x)  #keys\n",
        "\n",
        "for x in thisdict:\n",
        "  print(thisdict[x])   #values\n"
      ],
      "metadata": {
        "colab": {
          "base_uri": "https://localhost:8080/"
        },
        "id": "UNbEetlSMs1a",
        "outputId": "227e30df-3ef9-44ff-d9f7-1a799093d401"
      },
      "execution_count": 16,
      "outputs": [
        {
          "output_type": "stream",
          "name": "stdout",
          "text": [
            "brand\n",
            "model\n",
            "year\n",
            "Ford\n",
            "Mustang\n",
            "1964\n"
          ]
        }
      ]
    },
    {
      "cell_type": "code",
      "source": [
        "# Nested Dictionaries\n",
        "# A dictionary can contain dictionaries, this is called nested dictionaries.\n",
        "\n",
        "myfamily = {\n",
        "  \"child1\" : {\n",
        "    \"name\" : \"Sanjib\",\n",
        "    \"year\" : 2004\n",
        "  },\n",
        "  \"child2\" : {\n",
        "    \"name\" : \"Tobias\",\n",
        "    \"year\" : 2007\n",
        "  },\n",
        "  \"child3\" : {\n",
        "    \"name\" : \"Linus\",\n",
        "    \"year\" : 2011\n",
        "  }\n",
        "}\n",
        "\n",
        "print(myfamily)\n",
        "\n",
        "# Access Items in Nested Dictionaries\n",
        "# To access items from a nested dictionary,\n",
        "#  you use the name of the dictionaries, starting with the outer dictionary:\n",
        "\n",
        "print(myfamily[\"child2\"][\"name\"])\n"
      ],
      "metadata": {
        "colab": {
          "base_uri": "https://localhost:8080/"
        },
        "id": "TysgF_kMNII0",
        "outputId": "00c7a4b3-870b-460c-f913-4d224fa676f0"
      },
      "execution_count": 17,
      "outputs": [
        {
          "output_type": "stream",
          "name": "stdout",
          "text": [
            "{'child1': {'name': 'Sanjib', 'year': 2004}, 'child2': {'name': 'Tobias', 'year': 2007}, 'child3': {'name': 'Linus', 'year': 2011}}\n"
          ]
        }
      ]
    },
    {
      "cell_type": "markdown",
      "source": [
        "Python Conditions and If statements\n",
        "Python supports the usual logical conditions from mathematics:\n",
        "\n",
        "Equals: a == b\n",
        "Not Equals: a != b\n",
        "Less than: a < b\n",
        "Less than or equal to: a <= b\n",
        "Greater than: a > b\n",
        "Greater than or equal to: a >= b\n",
        "\n",
        "if elif else\n",
        "\n",
        "<!-- Short Hand If ... Else\n",
        "If you have only one statement to execute, one for if, and one for else, you can put it all on the same line:\n",
        "\n",
        "Example\n",
        "One line if else statement: -->\n",
        "\n",
        "a = 2\n",
        "b = 330\n",
        "print(\"A\") if a > b else print(\"B\")\n",
        "\n",
        "LOgical operator - and , or , not\n",
        "\n",
        "\n",
        "\n",
        "<!-- The pass Statement\n",
        "\n",
        "if statements cannot be empty, but if you for some reason have an if statement with no content, put in the pass statement to avoid getting an error.\n",
        "\n",
        "Example -->\n",
        "a = 33\n",
        "b = 200\n",
        "\n",
        "if b > a:\n",
        "  pass"
      ],
      "metadata": {
        "id": "yIJ64gOgDDK6"
      }
    },
    {
      "cell_type": "code",
      "source": [
        "# Python match statement\n",
        "day = 8\n",
        "match day:\n",
        "  case 1:\n",
        "    print(\"Monday\")\n",
        "  case 2:\n",
        "    print(\"Tuesday\")\n",
        "  case 3:\n",
        "    print(\"Wednesday\")\n",
        "  case 4:\n",
        "    print(\"Thursday\")\n",
        "  case 5:\n",
        "    print(\"Friday\")\n",
        "  case 6:\n",
        "    print(\"Saturday\")\n",
        "  case 7:\n",
        "    print(\"Sunday\")\n",
        "  case _: #default\n",
        "    print(\"Enter correct day.\")\n"
      ],
      "metadata": {
        "colab": {
          "base_uri": "https://localhost:8080/"
        },
        "id": "ELQLg-FdEG_R",
        "outputId": "6bc3adef-eacd-45de-af93-ce61b339116c"
      },
      "execution_count": 2,
      "outputs": [
        {
          "output_type": "stream",
          "name": "stdout",
          "text": [
            "Enter correct day.\n"
          ]
        }
      ]
    },
    {
      "cell_type": "markdown",
      "source": [
        "Python Loops\n",
        "\n",
        "Python has two primitive loop commands:\n",
        "\n",
        "while loops\n",
        "for loops\n",
        "\n",
        "<!-- With the break statement we can stop the loop even if the while condition is true: -->\n",
        "\n",
        "<!-- With the continue statement we can stop the current iteration, and continue with the next: -->"
      ],
      "metadata": {
        "id": "C0-3Zdw5Ekw6"
      }
    },
    {
      "cell_type": "code",
      "source": [
        "i = 1\n",
        "while i < 6:\n",
        "  print(i)\n",
        "  if i == 3:\n",
        "    break\n",
        "  i += 1\n",
        "\n",
        "\n",
        "# With the else statement we can run a block of code once\n",
        "#  when the condition no longer is true:\n",
        "\n",
        "# Example\n",
        "i = 1\n",
        "while i < 6:\n",
        "  print(i)\n",
        "  i += 1\n",
        "else:\n",
        "  print(\"i is no longer less than 6\")"
      ],
      "metadata": {
        "colab": {
          "base_uri": "https://localhost:8080/"
        },
        "id": "ZdcxctoHExI6",
        "outputId": "f728cbc9-f0d4-4067-ed97-0ec991ef4a52"
      },
      "execution_count": 4,
      "outputs": [
        {
          "output_type": "stream",
          "name": "stdout",
          "text": [
            "1\n",
            "2\n",
            "3\n",
            "1\n",
            "2\n",
            "3\n",
            "4\n",
            "5\n",
            "i is no longer less than 6\n"
          ]
        }
      ]
    },
    {
      "cell_type": "code",
      "source": [
        "for i in range(6):\n",
        "  print(i)  #0-5\n",
        "print(\"--------------\")\n",
        "for i in range(2,6):\n",
        "  print(i)  #2-5\n",
        "\n",
        "\n",
        "# range(start,end,increment seq)"
      ],
      "metadata": {
        "colab": {
          "base_uri": "https://localhost:8080/"
        },
        "id": "KPZRW_sMFcpL",
        "outputId": "7026c979-f997-4494-838d-743f8aa9843e"
      },
      "execution_count": 8,
      "outputs": [
        {
          "output_type": "stream",
          "name": "stdout",
          "text": [
            "0\n",
            "1\n",
            "2\n",
            "3\n",
            "4\n",
            "5\n",
            "--------------\n",
            "2\n",
            "3\n",
            "4\n",
            "5\n"
          ]
        }
      ]
    },
    {
      "cell_type": "markdown",
      "source": [
        "**Python Functions**\n",
        "\n",
        "A function is a block of code which only runs when it is called.\n",
        "\n",
        "You can pass data, known as parameters, into a function.\n",
        "\n",
        "A function can return data as a result.\n",
        "\n",
        "Creating a Function\n",
        "\n",
        "In Python a function is defined using the def keyword:"
      ],
      "metadata": {
        "id": "b2jFMfMqGFan"
      }
    },
    {
      "cell_type": "code",
      "source": [
        "def my_funcn():\n",
        "  print(\"Hello from a funcn.\")\n",
        "my_funcn()\n",
        "print(\"--------------\")\n",
        "\n",
        "# Arguments\n",
        "# Information can be passed into functions as arguments.\n",
        "\n",
        "def my_function(fname):\n",
        "  print(fname + \" Refsnes\")\n",
        "\n",
        "my_function(\"Emil\")\n",
        "my_function(\"Tobias\")\n",
        "my_function(\"Linus\")\n",
        "print(\"--------------\")\n",
        "\n",
        "# If the number of arguments is unknown, add a * before the parameter name:\n",
        "\n",
        "def my_function(*kids):\n",
        "  print(\"The youngest child is \" + kids[2])\n",
        "\n",
        "my_function(\"Emil\", \"Tobias\", \"Linus\")\n"
      ],
      "metadata": {
        "colab": {
          "base_uri": "https://localhost:8080/"
        },
        "id": "_dWIrS_4GQ0Y",
        "outputId": "586cc1dc-607b-4ec5-8b2e-98d88f2b5c96"
      },
      "execution_count": 14,
      "outputs": [
        {
          "output_type": "stream",
          "name": "stdout",
          "text": [
            "Hello from a funcn.\n",
            "--------------\n",
            "Emil Refsnes\n",
            "Tobias Refsnes\n",
            "Linus Refsnes\n",
            "--------------\n",
            "The youngest child is Linus\n"
          ]
        }
      ]
    },
    {
      "cell_type": "code",
      "source": [
        "# Keyword Arguments\n",
        "# You can also send arguments with the key = value syntax.\n",
        "\n",
        "# This way the order of the arguments does not matter.\n",
        "\n",
        "# Example\n",
        "def my_function(child3, child2, child1):\n",
        "  print(\"The youngest child is \" + child3)\n",
        "\n",
        "my_function(child1 = \"Emil\", child2 = \"Tobias\", child3 = \"Linus\")\n",
        "\n",
        "\n",
        "# f the number of keyword arguments is unknown,\n",
        "# add a double ** before the parameter name:\n",
        "\n",
        "def my_function(**kid):\n",
        "  print(\"His last name is \" + kid[\"lname\"])\n",
        "\n",
        "my_function(fname = \"Tobias\", lname = \"Refsnes\")"
      ],
      "metadata": {
        "colab": {
          "base_uri": "https://localhost:8080/"
        },
        "id": "jWtiOWzIHFKa",
        "outputId": "8d247268-e86e-484b-958d-56f014ce19fc"
      },
      "execution_count": 15,
      "outputs": [
        {
          "output_type": "stream",
          "name": "stdout",
          "text": [
            "The youngest child is Linus\n"
          ]
        }
      ]
    },
    {
      "cell_type": "code",
      "source": [
        "# RECURSION IN PYTHON\n",
        "\n",
        "def tri_recursion(k):\n",
        "  if(k > 0):\n",
        "    result = k + tri_recursion(k - 1)\n",
        "    print(result)\n",
        "  else:\n",
        "    result = 0\n",
        "  return result\n",
        "\n",
        "print(\"Recursion Example Results:\")\n",
        "tri_recursion(6)\n"
      ],
      "metadata": {
        "id": "Bp_2S7x4IBtK"
      },
      "execution_count": null,
      "outputs": []
    },
    {
      "cell_type": "code",
      "source": [
        "# A lambda function is a small anonymous function.\n",
        "\n",
        "# A lambda function can take any number of arguments,\n",
        "# but can only have one expression.\n",
        "\n",
        "# Add 10 to argument a, and return the result:\n",
        "x = lambda a:a+10\n",
        "print(x(5)) #15\n",
        "\n",
        "x = lambda a, b: a * b\n",
        "print(x(5, 6))  #30\n"
      ],
      "metadata": {
        "colab": {
          "base_uri": "https://localhost:8080/"
        },
        "id": "IvwwhdEUIfxe",
        "outputId": "b710dc9a-af2f-4cae-cd05-dd27bfe48769"
      },
      "execution_count": 16,
      "outputs": [
        {
          "output_type": "stream",
          "name": "stdout",
          "text": [
            "15\n"
          ]
        }
      ]
    },
    {
      "cell_type": "markdown",
      "source": [
        "Python does not have built-in support for Arrays, but Python Lists can be used instead."
      ],
      "metadata": {
        "id": "xOVbYKBXJTaA"
      }
    },
    {
      "cell_type": "markdown",
      "source": [
        "**PYTHON OOPS**\n",
        "\n",
        "OOP stands for Object-Oriented Programming.\n",
        "\n",
        "Python is an object-oriented language, allowing you to structure your code using classes and objects for better organization and reusability.\n",
        "\n",
        "\n",
        "**Advantages of OOP**\n",
        "\n",
        "1.Provides a clear structure to programs.\n",
        "\n",
        "2.Makes code easier to maintain, reuse, and debug.\n",
        "\n",
        "3.Helps keep your code DRY (Don't Repeat Yourself).\n",
        "\n",
        "4.Allows you to build reusable applications with less code\n"
      ],
      "metadata": {
        "id": "Ibt0WybsJkq4"
      }
    },
    {
      "cell_type": "markdown",
      "source": [
        "**Python Classes/Objects**\n",
        "\n",
        "\n",
        "Python is an object oriented programming language.\n",
        "\n",
        "Almost everything in Python is an object, with its properties and methods.\n",
        "\n",
        "A Class is like an object constructor, or a \"blueprint\" for creating objects."
      ],
      "metadata": {
        "id": "Y4hNiLGBKDEa"
      }
    },
    {
      "cell_type": "markdown",
      "source": [
        "Create a Class\n",
        "\n",
        "To create a class, use the keyword class:"
      ],
      "metadata": {
        "id": "U1xDRMGNKJ7i"
      }
    },
    {
      "cell_type": "code",
      "source": [
        "#class created\n",
        "class MyClass:\n",
        "  x=5\n",
        "\n",
        "#object created\n",
        "p1=MyClass()\n",
        "print(p1.x)"
      ],
      "metadata": {
        "colab": {
          "base_uri": "https://localhost:8080/"
        },
        "id": "OZC0b2pDKMyR",
        "outputId": "30d7accb-da12-4114-827d-ede7fc62592e"
      },
      "execution_count": 18,
      "outputs": [
        {
          "output_type": "stream",
          "name": "stdout",
          "text": [
            "5\n"
          ]
        }
      ]
    },
    {
      "cell_type": "markdown",
      "source": [
        "**The __init__() Method**\n",
        "\n",
        "\n",
        "The examples above are classes and objects in their simplest form, and are not really useful in real life applications.\n",
        "\n",
        "To understand the meaning of classes we have to understand the built-in __init__() method.\n",
        "\n",
        "All classes have a method called __init__(), which is always executed when the class is being initiated.\n",
        "\n",
        "Use the __init__() method to assign values to object properties, or other operations that are necessary to do when the object is being created:"
      ],
      "metadata": {
        "id": "2zc8yCsxNMjS"
      }
    },
    {
      "cell_type": "code",
      "source": [
        "class Person:\n",
        "  def __init__(self,name,age):\n",
        "    self.name=name\n",
        "    self.age=age\n",
        "\n",
        "p1 = Person(\"Sanjib\",18)\n",
        "print(p1.name ,\" \", p1.age)"
      ],
      "metadata": {
        "colab": {
          "base_uri": "https://localhost:8080/"
        },
        "id": "1AOI_OzhNPch",
        "outputId": "dcdaa8dd-15d0-4f6a-b83a-a5fd0b762e8c"
      },
      "execution_count": 20,
      "outputs": [
        {
          "output_type": "stream",
          "name": "stdout",
          "text": [
            "Sanjib   18\n"
          ]
        }
      ]
    },
    {
      "cell_type": "code",
      "source": [
        "# The string representation of an object WITH the __str__() method:\n",
        "\n",
        "class Person:\n",
        "  def __init__(self, name, age):\n",
        "    self.name = name\n",
        "    self.age = age\n",
        "\n",
        "  def __str__(self):\n",
        "    return f\"{self.name}({self.age})\"\n",
        "\n",
        "p1 = Person(\"John\", 36)\n",
        "\n",
        "print(p1)\n",
        "\n",
        "\n",
        "# Delete the age property from the p1 object:\n",
        "\n",
        "# del p1.age"
      ],
      "metadata": {
        "colab": {
          "base_uri": "https://localhost:8080/"
        },
        "id": "3vIjjJskOSiS",
        "outputId": "102fa9a6-c394-44ab-f013-124c8a65819c"
      },
      "execution_count": 21,
      "outputs": [
        {
          "output_type": "stream",
          "name": "stdout",
          "text": [
            "John(36)\n"
          ]
        }
      ]
    },
    {
      "cell_type": "markdown",
      "source": [
        "**Python Inheritance**\n",
        "\n",
        "\n",
        "Inheritance allows us to define a class that inherits all the methods and properties from another class.\n",
        "\n",
        "Parent class is the class being inherited from, also called base class.\n",
        "\n",
        "Child class is the class that inherits from another class, also called derived class."
      ],
      "metadata": {
        "id": "ovWB6ZHRO5lA"
      }
    },
    {
      "cell_type": "code",
      "source": [
        "class Person:\n",
        "  def __init__(self, fname, lname):\n",
        "    self.firstname = fname\n",
        "    self.lastname = lname\n",
        "\n",
        "  def printname(self):\n",
        "    print(self.firstname, self.lastname)\n",
        "\n",
        "#Use the Person class to create an object, and then execute the printname method:\n",
        "\n",
        "x = Person(\"John\", \"Doe\")\n",
        "x.printname()\n",
        "\n",
        "\n",
        "# Create a Child Class\n",
        "# To create a class that inherits the functionality from another class,\n",
        "# send the parent class as a parameter when creating the child class:\n",
        "class Student(Person):\n",
        "  pass\n",
        "\n",
        "# Note: Use the pass keyword when you do not want to add\n",
        "# any other properties or methods to the class.\n",
        "\n",
        "x = Student(\"Mike\", \"Olsen\")\n",
        "x.printname()\n"
      ],
      "metadata": {
        "colab": {
          "base_uri": "https://localhost:8080/"
        },
        "id": "7gAZLJkSYR8y",
        "outputId": "a782782a-d9ab-4be9-a349-2a51e36dce4a"
      },
      "execution_count": 22,
      "outputs": [
        {
          "output_type": "stream",
          "name": "stdout",
          "text": [
            "John Doe\n",
            "Mike Olsen\n"
          ]
        }
      ]
    },
    {
      "cell_type": "markdown",
      "source": [
        "**What is a Module?**\n",
        "\n",
        "Consider a module to be the same as a code library.\n",
        "\n",
        "A file containing a set of functions you want to include in your application.\n",
        "\n",
        "**Create a Module**\n",
        "\n",
        "To create a module just save the code you want in a file with the file extension .py:"
      ],
      "metadata": {
        "id": "Mxe1eERmZ3RY"
      }
    },
    {
      "cell_type": "code",
      "source": [
        "#Creating a module\n",
        "def greeting(name):\n",
        "  print(\"Hello, \",name)\n",
        "# Save this code in a file named mymodule.py\n",
        "\n",
        "# Using the module\n",
        "import mymodule\n",
        "\n",
        "mymodule.greeting(\"Jonathan\")\n",
        "\n",
        "# Re-naming a module\n",
        "import mymodule as mx"
      ],
      "metadata": {
        "colab": {
          "base_uri": "https://localhost:8080/"
        },
        "id": "6xFuApHzaDHb",
        "outputId": "d3d77360-5357-49d6-8055-b52af16f86d3"
      },
      "execution_count": 23,
      "outputs": [
        {
          "output_type": "stream",
          "name": "stdout",
          "text": [
            "Hello,  Sanjib\n"
          ]
        }
      ]
    },
    {
      "cell_type": "code",
      "source": [
        "# Python Datetime\n",
        "\n",
        "import datetime;\n",
        "x=datetime.datetime.now();\n",
        "print(x)\n",
        "print(x.year)\n",
        "print(x.strftime(\"%A\"))"
      ],
      "metadata": {
        "colab": {
          "base_uri": "https://localhost:8080/"
        },
        "id": "P4-hNl-qa17E",
        "outputId": "9892f730-6764-4a6c-9165-8d32bf7c8d9d"
      },
      "execution_count": 25,
      "outputs": [
        {
          "output_type": "stream",
          "name": "stdout",
          "text": [
            "2025-09-15 03:30:51.690831\n",
            "2025\n",
            "Monday\n"
          ]
        }
      ]
    },
    {
      "cell_type": "code",
      "source": [
        "#Creating a date object\n",
        "\n",
        "import datetime\n",
        "\n",
        "x = datetime.datetime(2020, 5, 17)  # year, month, day\n",
        "\n",
        "print(x)"
      ],
      "metadata": {
        "colab": {
          "base_uri": "https://localhost:8080/"
        },
        "id": "Zdp83BkUbRI1",
        "outputId": "fa2137bd-e010-47a2-ed92-c92490ef30df"
      },
      "execution_count": 26,
      "outputs": [
        {
          "output_type": "stream",
          "name": "stdout",
          "text": [
            "2020-05-17 00:00:00\n"
          ]
        }
      ]
    },
    {
      "cell_type": "code",
      "source": [
        "#Python Math\n",
        "# min() and max()\n",
        "x = min(5, 10, 25)\n",
        "y = max(5, 10, 25)\n",
        "print(x)\n",
        "print(y)\n",
        "\n",
        "# abs()\n",
        "x = abs(-7.25)\n",
        "print(x)\n",
        "\n",
        "#pow(x,y)\n",
        "x=pow(2,3)\n",
        "print(x)\n",
        "\n",
        "# Math module\n",
        "import math\n",
        "# srrt() , ceil() , floor() , math.pi\n",
        "x=math.sqrt(25)\n",
        "print(x)"
      ],
      "metadata": {
        "colab": {
          "base_uri": "https://localhost:8080/"
        },
        "id": "g7G2rnsTbpW3",
        "outputId": "92c03a5a-212c-4b8d-ed13-c27b7bc7b856"
      },
      "execution_count": 29,
      "outputs": [
        {
          "output_type": "stream",
          "name": "stdout",
          "text": [
            "5\n",
            "25\n",
            "7.25\n",
            "8\n",
            "5.0\n"
          ]
        }
      ]
    },
    {
      "cell_type": "markdown",
      "source": [
        "**Pthon JSON**\n",
        "\n",
        "JSON is a syntax for storing and exchanging data.\n",
        "\n",
        "JSON is text, written with JavaScript object notation.\n",
        "\n",
        "#import the json module\n",
        "\n",
        "import json\n"
      ],
      "metadata": {
        "id": "7TUvcn0Tce9s"
      }
    },
    {
      "cell_type": "code",
      "source": [
        "# Parse JSON - Convert from JSON to Python (loads)\n",
        "\n",
        "import json\n",
        "\n",
        "# some JSON:\n",
        "x = '{ \"name\":\"John\", \"age\":30, \"city\":\"New York\"}'\n",
        "\n",
        "# parse x:\n",
        "y = json.loads(x)\n",
        "\n",
        "# the result is a Python dictionary:\n",
        "print(y)  # a dict\n",
        "print(y[\"age\"]) #30"
      ],
      "metadata": {
        "id": "WkoJSBduc6XT"
      },
      "execution_count": null,
      "outputs": []
    },
    {
      "cell_type": "code",
      "source": [
        "# Convert from Python to JSON (dumps)\n",
        "import json\n",
        "\n",
        "# a Python object (dict):\n",
        "x = {\n",
        "  \"name\": \"John\",\n",
        "  \"age\": 30,\n",
        "  \"city\": \"New York\"\n",
        "}\n",
        "\n",
        "# convert into JSON:\n",
        "y = json.dumps(x)\n",
        "\n",
        "# the result is a JSON string:\n",
        "print(y)"
      ],
      "metadata": {
        "colab": {
          "base_uri": "https://localhost:8080/"
        },
        "id": "_B3pvoHrda2y",
        "outputId": "ed9977dc-3ed8-4863-814a-e84ba2cd1d37"
      },
      "execution_count": 30,
      "outputs": [
        {
          "output_type": "stream",
          "name": "stdout",
          "text": [
            "{\"name\": \"John\", \"age\": 30, \"city\": \"New York\"}\n"
          ]
        }
      ]
    },
    {
      "cell_type": "markdown",
      "source": [
        "You can convert Python objects of the following types, into JSON strings:\n",
        "\n",
        "dict\n",
        "list\n",
        "tuple\n",
        "string\n",
        "int\n",
        "float\n",
        "True\n",
        "False\n",
        "None"
      ],
      "metadata": {
        "id": "DbFqsKdGdw8b"
      }
    },
    {
      "cell_type": "code",
      "source": [
        "import json\n",
        "\n",
        "print(json.dumps({\"name\": \"John\", \"age\": 30}))\n",
        "print(json.dumps([\"apple\", \"bananas\"]))\n",
        "print(json.dumps((\"apple\", \"bananas\")))\n",
        "print(json.dumps(\"hello\"))\n",
        "print(json.dumps(42))\n",
        "print(json.dumps(31.76))\n",
        "print(json.dumps(True))\n",
        "print(json.dumps(False))\n",
        "print(json.dumps(None))"
      ],
      "metadata": {
        "colab": {
          "base_uri": "https://localhost:8080/"
        },
        "id": "xbIChqvRd4vF",
        "outputId": "2eea7f97-2174-406a-821b-30a2b0b491c1"
      },
      "execution_count": 31,
      "outputs": [
        {
          "output_type": "stream",
          "name": "stdout",
          "text": [
            "{\"name\": \"John\", \"age\": 30}\n",
            "[\"apple\", \"bananas\"]\n",
            "[\"apple\", \"bananas\"]\n",
            "\"hello\"\n",
            "42\n",
            "31.76\n",
            "true\n",
            "false\n",
            "null\n"
          ]
        }
      ]
    },
    {
      "cell_type": "markdown",
      "source": [
        "When you convert from Python to JSON, Python objects are converted into the JSON (JavaScript) equivalent:\n",
        "\n",
        "Python\t  JSON\n",
        "dict\t    Object\n",
        "list\t    Array\n",
        "tuple\t    Array\n",
        "str\t      String\n",
        "int\t      Number\n",
        "float    \tNumber\n",
        "True\t    true\n",
        "False\t    false\n",
        "None\t    null"
      ],
      "metadata": {
        "id": "4Hgb73LleDwZ"
      }
    },
    {
      "cell_type": "code",
      "source": [
        "# Convert a Python object containing all the legal data types:\n",
        "import json\n",
        "\n",
        "x = {\n",
        "  \"name\": \"John\",\n",
        "  \"age\": 30,\n",
        "  \"married\": True,\n",
        "  \"divorced\": False,\n",
        "  \"children\": (\"Ann\",\"Billy\"),\n",
        "  \"pets\": None,\n",
        "  \"cars\": [\n",
        "    {\"model\": \"BMW 230\", \"mpg\": 27.5},\n",
        "    {\"model\": \"Ford Edge\", \"mpg\": 24.1}\n",
        "  ]\n",
        "}\n",
        "\n",
        "# convert into JSON:\n",
        "y = json.dumps(x)\n",
        "\n",
        "# the result is a JSON string:\n",
        "print(y)\n"
      ],
      "metadata": {
        "id": "5VMy5sYeeVMU"
      },
      "execution_count": null,
      "outputs": []
    },
    {
      "cell_type": "code",
      "source": [
        "# Use the indent parameter to define the numbers of indents:\n",
        "import json\n",
        "\n",
        "x = {\n",
        "  \"name\": \"John\",\n",
        "  \"age\": 30,\n",
        "  \"married\": True,\n",
        "  \"divorced\": False,\n",
        "  \"children\": (\"Ann\",\"Billy\"),\n",
        "  \"pets\": None,\n",
        "  \"cars\": [\n",
        "    {\"model\": \"BMW 230\", \"mpg\": 27.5},\n",
        "    {\"model\": \"Ford Edge\", \"mpg\": 24.1}\n",
        "  ]\n",
        "}\n",
        "\n",
        "# use four indents to make it easier to read the result:\n",
        "print(json.dumps(x, indent=4))\n",
        "\n",
        "# You can also define the separators, default value is (\", \" , \" : \"),\n",
        "#  which means using a comma and a space to separate each object,\n",
        "# and a colon and a space to separate keys from values:\n"
      ],
      "metadata": {
        "id": "3QYBYVq0eu6M"
      },
      "execution_count": null,
      "outputs": []
    },
    {
      "cell_type": "code",
      "source": [
        "# Order the Result\n",
        "# The json.dumps() method has parameters to order the keys in the result:\n",
        "\n",
        "# Example\n",
        "# Use the sort_keys parameter to specify if the\n",
        "#  result should be sorted or not:\n",
        "import json\n",
        "\n",
        "x = {\n",
        "  \"name\": \"John\",\n",
        "  \"age\": 30,\n",
        "  \"married\": True,\n",
        "  \"divorced\": False,\n",
        "  \"children\": (\"Ann\",\"Billy\"),\n",
        "  \"pets\": None,\n",
        "  \"cars\": [\n",
        "    {\"model\": \"BMW 230\", \"mpg\": 27.5},\n",
        "    {\"model\": \"Ford Edge\", \"mpg\": 24.1}\n",
        "  ]\n",
        "}\n",
        "\n",
        "# sort the result alphabetically by keys:\n",
        "json.dumps(x, indent=4, sort_keys=True)"
      ],
      "metadata": {
        "colab": {
          "base_uri": "https://localhost:8080/",
          "height": 105
        },
        "id": "7vvajUzQfvJc",
        "outputId": "5369f0b8-855c-4715-b21a-5bdbdf0fbf67"
      },
      "execution_count": 33,
      "outputs": [
        {
          "output_type": "execute_result",
          "data": {
            "text/plain": [
              "'{\\n    \"age\": 30,\\n    \"cars\": [\\n        {\\n            \"model\": \"BMW 230\",\\n            \"mpg\": 27.5\\n        },\\n        {\\n            \"model\": \"Ford Edge\",\\n            \"mpg\": 24.1\\n        }\\n    ],\\n    \"children\": [\\n        \"Ann\",\\n        \"Billy\"\\n    ],\\n    \"divorced\": false,\\n    \"married\": true,\\n    \"name\": \"John\",\\n    \"pets\": null\\n}'"
            ],
            "application/vnd.google.colaboratory.intrinsic+json": {
              "type": "string"
            }
          },
          "metadata": {},
          "execution_count": 33
        }
      ]
    },
    {
      "cell_type": "markdown",
      "source": [
        "**Python RegEx**\n",
        "\n",
        "A RegEx, or Regular Expression, is a sequence of characters that forms a search pattern.\n",
        "\n",
        "RegEx can be used to check if a string contains the specified search pattern.\n",
        "\n",
        "\n",
        "RegEx Module\n",
        "Python has a built-in package called re, which can be used to work with Regular Expressions.\n",
        "\n",
        "<!-- Import the re module: -->\n",
        "\n",
        "import re\n"
      ],
      "metadata": {
        "id": "JhEmyuYYgNDp"
      }
    },
    {
      "cell_type": "code",
      "source": [
        "import re\n",
        "#Check if the string starts with \"The\" and ends with \"Spain\":\n",
        "txt =\"The rain in Spain\"\n",
        "x=re.search(\"^The.*Spain$\",txt)\n",
        "\n",
        "if x:\n",
        "  print(\"Yes! We have a match.\")\n",
        "else:\n",
        "  print(\"No match.\")\n",
        "\n",
        "\n",
        "# ^ → start-of-string anchor (match must begin at the string start).\n",
        "\n",
        "# The → literal characters T h e (case-sensitive).\n",
        "\n",
        "# .* → . matches any character except newline (by default); * means 0 or\n",
        "#  more of those — so this matches any characters of any length (greedy).\n",
        "\n",
        "# Spain → literal substring Spain.\n",
        "\n",
        "# $ → end-of-string anchor (match must end at the string end)."
      ],
      "metadata": {
        "colab": {
          "base_uri": "https://localhost:8080/"
        },
        "id": "RdjQXo0knKPu",
        "outputId": "f725d0cd-464b-4e24-e97e-a47d2a008b67"
      },
      "execution_count": 36,
      "outputs": [
        {
          "output_type": "stream",
          "name": "stdout",
          "text": [
            "Yes! We have a match.\n"
          ]
        }
      ]
    },
    {
      "cell_type": "markdown",
      "source": [
        "**What is PIP?**\n",
        "\n",
        "PIP is a package manager for Python packages, or modules if you like.\n",
        "\n",
        "A package contains all the files you need for a module.\n",
        "\n",
        "Modules are Python code libraries you can include in your project.\n",
        "\n",
        "\n",
        "pip --version\n",
        "pip install camelcase\n",
        "pip uninstall camelcase\n",
        "pip list"
      ],
      "metadata": {
        "id": "gAM1RXEiokuC"
      }
    },
    {
      "cell_type": "code",
      "source": [
        "# pip install camelcase - teminal stuffs\n",
        "# import camelcase\n",
        "# c=camelcase.CamelCase()\n",
        "\n",
        "# txt=\"hello world\"\n",
        "# print(c.hump(txt))"
      ],
      "metadata": {
        "id": "xWEN3eWvpKdg"
      },
      "execution_count": 39,
      "outputs": []
    },
    {
      "cell_type": "markdown",
      "source": [
        "**Python Try Except**\n",
        "\n",
        "The try block - lets you test a block of code for errors.\n",
        "\n",
        "The except block - lets you handle the error.\n",
        "\n",
        "The else block - lets you execute code when there is no error.\n",
        "\n",
        "The finally block - lets you execute code, regardless of the result of the try- and except blocks.\n",
        "\n",
        "\n",
        "\n",
        "\n",
        "<!-- Exception Handling\n",
        "\n",
        "When an error occurs, or exception as we call it, Python will normally stop and generate an error message.\n",
        "\n",
        "These exceptions can be handled using the try statement: -->"
      ],
      "metadata": {
        "id": "erbrQqEdqORt"
      }
    },
    {
      "cell_type": "code",
      "source": [
        "#The try block will generate an error, because op is not defined:\n",
        "\n",
        "try:\n",
        "  print(op)\n",
        "except:\n",
        "  print(\"An exception occurred\")\n"
      ],
      "metadata": {
        "colab": {
          "base_uri": "https://localhost:8080/"
        },
        "id": "YUj1aQOHqrcx",
        "outputId": "d70bb129-eb0b-4a9a-b498-64a449539ae4"
      },
      "execution_count": 43,
      "outputs": [
        {
          "output_type": "stream",
          "name": "stdout",
          "text": [
            "An exception occurred\n"
          ]
        }
      ]
    },
    {
      "cell_type": "code",
      "source": [
        "#The try block will generate a NameError, because xname is not defined:\n",
        "\n",
        "try:\n",
        "  print(xname)\n",
        "except NameError:\n",
        "  print(\"Variable x is not defined\")\n",
        "except:\n",
        "  print(\"Something else went wrong\")\n"
      ],
      "metadata": {
        "colab": {
          "base_uri": "https://localhost:8080/"
        },
        "id": "OxEXAUPNrMR4",
        "outputId": "58c1383f-fc2f-4061-e532-c7ee967f9b5e"
      },
      "execution_count": 44,
      "outputs": [
        {
          "output_type": "stream",
          "name": "stdout",
          "text": [
            "Variable x is not defined\n"
          ]
        }
      ]
    },
    {
      "cell_type": "code",
      "source": [
        "try:\n",
        "  print(\"Hello\")\n",
        "except:\n",
        "  print(\"Something went wrong\")\n",
        "else:\n",
        "  print(\"Nothing went wrong\")"
      ],
      "metadata": {
        "colab": {
          "base_uri": "https://localhost:8080/"
        },
        "id": "0uBOaPS1rTrP",
        "outputId": "467ca68b-bbfd-4783-dd73-74012a1e5f31"
      },
      "execution_count": 45,
      "outputs": [
        {
          "output_type": "stream",
          "name": "stdout",
          "text": [
            "Hello\n",
            "Nothing went wrong\n"
          ]
        }
      ]
    },
    {
      "cell_type": "code",
      "source": [
        "try:\n",
        "  print(xf)\n",
        "except:\n",
        "  print(\"Something went wrong\")\n",
        "finally:\n",
        "  print(\"The 'try except' is finished\")"
      ],
      "metadata": {
        "colab": {
          "base_uri": "https://localhost:8080/"
        },
        "id": "acMqx4SBrWbt",
        "outputId": "bbf82771-5ed3-4920-da09-f847341c331e"
      },
      "execution_count": 46,
      "outputs": [
        {
          "output_type": "stream",
          "name": "stdout",
          "text": [
            "Something went wrong\n",
            "The 'try except' is finished\n"
          ]
        }
      ]
    },
    {
      "cell_type": "code",
      "source": [
        "# Raise an exception\n",
        "# As a Python developer you can choose to throw an exception\n",
        "# if a condition occurs.\n",
        "\n",
        "# To throw (or raise) an exception, use the raise keyword.\n",
        "\n",
        "x = -1\n",
        "if x<0:\n",
        "  raise Exception(\"Sorry , no numbers below zero\")"
      ],
      "metadata": {
        "colab": {
          "base_uri": "https://localhost:8080/",
          "height": 176
        },
        "id": "1Tpr1SkpriuO",
        "outputId": "6cd6c9e8-4a0a-483b-ee99-7c80a01325e6"
      },
      "execution_count": 47,
      "outputs": [
        {
          "output_type": "error",
          "ename": "Exception",
          "evalue": "Sorry , no numbers below zero",
          "traceback": [
            "\u001b[0;31m---------------------------------------------------------------------------\u001b[0m",
            "\u001b[0;31mException\u001b[0m                                 Traceback (most recent call last)",
            "\u001b[0;32m/tmp/ipython-input-3946152040.py\u001b[0m in \u001b[0;36m<cell line: 0>\u001b[0;34m()\u001b[0m\n\u001b[1;32m      7\u001b[0m \u001b[0mx\u001b[0m \u001b[0;34m=\u001b[0m \u001b[0;34m-\u001b[0m\u001b[0;36m1\u001b[0m\u001b[0;34m\u001b[0m\u001b[0;34m\u001b[0m\u001b[0m\n\u001b[1;32m      8\u001b[0m \u001b[0;32mif\u001b[0m \u001b[0mx\u001b[0m\u001b[0;34m<\u001b[0m\u001b[0;36m0\u001b[0m\u001b[0;34m:\u001b[0m\u001b[0;34m\u001b[0m\u001b[0;34m\u001b[0m\u001b[0m\n\u001b[0;32m----> 9\u001b[0;31m   \u001b[0;32mraise\u001b[0m \u001b[0mException\u001b[0m\u001b[0;34m(\u001b[0m\u001b[0;34m\"Sorry , no numbers below zero\"\u001b[0m\u001b[0;34m)\u001b[0m\u001b[0;34m\u001b[0m\u001b[0;34m\u001b[0m\u001b[0m\n\u001b[0m",
            "\u001b[0;31mException\u001b[0m: Sorry , no numbers below zero"
          ]
        }
      ]
    },
    {
      "cell_type": "code",
      "source": [
        "x = \"hello\"\n",
        "\n",
        "if not type(x) is int:\n",
        "  raise TypeError(\"Only integers are allowed\")"
      ],
      "metadata": {
        "colab": {
          "base_uri": "https://localhost:8080/",
          "height": 176
        },
        "id": "sdxqvM8er9nn",
        "outputId": "d08a7265-148b-48a2-b9dc-7682d1aa96f8"
      },
      "execution_count": 48,
      "outputs": [
        {
          "output_type": "error",
          "ename": "TypeError",
          "evalue": "Only integers are allowed",
          "traceback": [
            "\u001b[0;31m---------------------------------------------------------------------------\u001b[0m",
            "\u001b[0;31mTypeError\u001b[0m                                 Traceback (most recent call last)",
            "\u001b[0;32m/tmp/ipython-input-2407302476.py\u001b[0m in \u001b[0;36m<cell line: 0>\u001b[0;34m()\u001b[0m\n\u001b[1;32m      2\u001b[0m \u001b[0;34m\u001b[0m\u001b[0m\n\u001b[1;32m      3\u001b[0m \u001b[0;32mif\u001b[0m \u001b[0;32mnot\u001b[0m \u001b[0mtype\u001b[0m\u001b[0;34m(\u001b[0m\u001b[0mx\u001b[0m\u001b[0;34m)\u001b[0m \u001b[0;32mis\u001b[0m \u001b[0mint\u001b[0m\u001b[0;34m:\u001b[0m\u001b[0;34m\u001b[0m\u001b[0;34m\u001b[0m\u001b[0m\n\u001b[0;32m----> 4\u001b[0;31m   \u001b[0;32mraise\u001b[0m \u001b[0mTypeError\u001b[0m\u001b[0;34m(\u001b[0m\u001b[0;34m\"Only integers are allowed\"\u001b[0m\u001b[0;34m)\u001b[0m\u001b[0;34m\u001b[0m\u001b[0;34m\u001b[0m\u001b[0m\n\u001b[0m",
            "\u001b[0;31mTypeError\u001b[0m: Only integers are allowed"
          ]
        }
      ]
    },
    {
      "cell_type": "code",
      "source": [
        "#String formatting\n",
        "\n",
        "price = 59\n",
        "txt = f\"The price is {price:.2f} dollars\"\n",
        "print(txt)"
      ],
      "metadata": {
        "colab": {
          "base_uri": "https://localhost:8080/"
        },
        "id": "sclevnGlsTxa",
        "outputId": "e964d881-b989-4cc7-fa35-218458727816"
      },
      "execution_count": 49,
      "outputs": [
        {
          "output_type": "stream",
          "name": "stdout",
          "text": [
            "The price is 59.00 dollars\n"
          ]
        }
      ]
    },
    {
      "cell_type": "code",
      "source": [
        "price = 59\n",
        "tax = 0.25\n",
        "txt = f\"The price is {price + (price * tax)} dollars\"\n",
        "print(txt)"
      ],
      "metadata": {
        "colab": {
          "base_uri": "https://localhost:8080/"
        },
        "id": "6xeRUmRVsw1K",
        "outputId": "b8ae3f20-7705-4b34-a96f-c110d8f7a54a"
      },
      "execution_count": 50,
      "outputs": [
        {
          "output_type": "stream",
          "name": "stdout",
          "text": [
            "The price is 73.75 dollars\n"
          ]
        }
      ]
    },
    {
      "cell_type": "code",
      "source": [
        "# You can perform if...else statements inside the placeholders:\n",
        "price = 49\n",
        "txt = f\"It is very {'Expensive' if price>50 else 'Cheap'}\"\n",
        "\n",
        "print(txt)"
      ],
      "metadata": {
        "colab": {
          "base_uri": "https://localhost:8080/"
        },
        "id": "PjxBMTKxs1Cu",
        "outputId": "10d87a2c-e20a-436e-a425-2398c2116c8b"
      },
      "execution_count": 51,
      "outputs": [
        {
          "output_type": "stream",
          "name": "stdout",
          "text": [
            "It is very Cheap\n"
          ]
        }
      ]
    },
    {
      "cell_type": "code",
      "source": [
        "# Add a placeholder where you want to display the price:\n",
        "price = 49\n",
        "txt = \"The price is {} dollars\"\n",
        "print(txt.format(price))\n",
        "\n",
        "# quantity = 3\n",
        "# itemno = 567\n",
        "# price = 49\n",
        "# myorder = \"I want {} pieces of item number {} for {:.2f} dollars.\"\n",
        "# print(myorder.format(quantity, itemno, price))\n"
      ],
      "metadata": {
        "colab": {
          "base_uri": "https://localhost:8080/"
        },
        "id": "R2D9EhsktDrE",
        "outputId": "bf5b7c65-4775-44a1-ccf6-14026b53e211"
      },
      "execution_count": 52,
      "outputs": [
        {
          "output_type": "stream",
          "name": "stdout",
          "text": [
            "The price is 49 dollars\n"
          ]
        }
      ]
    },
    {
      "cell_type": "code",
      "source": [
        "#Python Input\n",
        "print(\"Enter your name: \")\n",
        "name = input()\n",
        "print(f\"My name is {name}\")"
      ],
      "metadata": {
        "colab": {
          "base_uri": "https://localhost:8080/"
        },
        "id": "nObGf9Bbtf12",
        "outputId": "497fcf75-35f4-4438-a680-56cbd805ea00"
      },
      "execution_count": 54,
      "outputs": [
        {
          "output_type": "stream",
          "name": "stdout",
          "text": [
            "Enter your name: \n",
            "Harry\n",
            "My name is Harry\n"
          ]
        }
      ]
    },
    {
      "cell_type": "markdown",
      "source": [
        "**What is a Virtual Environment?**\n",
        "\n",
        "\n",
        "A virtual environment in Python is an isolated environment on your computer, where you can run and test your Python projects.\n",
        "\n",
        "It allows you to manage\n",
        "\n",
        "project-specific dependencies without interfering with other projects or the original Python installation."
      ],
      "metadata": {
        "id": "RdsYn9R4uL13"
      }
    },
    {
      "cell_type": "markdown",
      "source": [
        "Think of a virtual environment as a separate container for each Python project. Each container:\n",
        "\n",
        "...Has its own Python interpreter\n",
        "...Has its own set of installed packages\n",
        "...Is isolated from other virtual environments\n",
        "...Can have different versions of the same package\n",
        "...Using virtual environments is important because:\n",
        "\n",
        "It prevents package version conflicts between projects\n",
        "\n",
        "...Makes projects more portable and reproducible\n",
        "...Keeps your system Python installation clean\n",
        "...Allows testing with different Python versions"
      ],
      "metadata": {
        "id": "6jjcqFaPuZ86"
      }
    },
    {
      "cell_type": "markdown",
      "source": [
        "Creating a virtual environment\n",
        "\n",
        "windows/linux/macOS\n",
        "\n",
        "python -m venv myfirstproject"
      ],
      "metadata": {
        "id": "s6aykGnuuvbY"
      }
    },
    {
      "cell_type": "markdown",
      "source": [
        "python → runs Python\n",
        "\n",
        "-m → runs a module\n",
        "\n",
        "venv → the module that creates a virtual environment\n",
        "\n",
        "myProject → the name of the folder where the environment is created"
      ],
      "metadata": {
        "id": "km-ZnUyZvYiv"
      }
    },
    {
      "cell_type": "markdown",
      "source": [
        "To use the virtual environment, you have to activate it with this command:\n",
        "\n",
        "Windows->\n",
        "\n",
        "C:\\Users\\Your Name> myfirstproject\\Scripts\\activate\n",
        "\n",
        "Linux/macOS->\n",
        "\n",
        "$ source myfirstproject/bin/activate\n"
      ],
      "metadata": {
        "id": "Ww-aUYk5vqq7"
      }
    }
  ]
}