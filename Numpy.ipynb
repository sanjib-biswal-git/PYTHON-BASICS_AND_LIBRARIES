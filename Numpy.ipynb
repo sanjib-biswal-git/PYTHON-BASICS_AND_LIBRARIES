{
  "nbformat": 4,
  "nbformat_minor": 0,
  "metadata": {
    "colab": {
      "provenance": [],
      "authorship_tag": "ABX9TyPutQBKq3YccXnmn6BwP0sX",
      "include_colab_link": true
    },
    "kernelspec": {
      "name": "python3",
      "display_name": "Python 3"
    },
    "language_info": {
      "name": "python"
    }
  },
  "cells": [
    {
      "cell_type": "markdown",
      "metadata": {
        "id": "view-in-github",
        "colab_type": "text"
      },
      "source": [
        "<a href=\"https://colab.research.google.com/github/sanjib-biswal-git/PYTHON-BASICS_AND_LIBRARIES/blob/main/Numpy.ipynb\" target=\"_parent\"><img src=\"https://colab.research.google.com/assets/colab-badge.svg\" alt=\"Open In Colab\"/></a>"
      ]
    },
    {
      "cell_type": "markdown",
      "source": [
        "                 ** Numpy **\n",
        "\n",
        "\n",
        "What is NumPy?\n",
        "------------------\n",
        "\n",
        "NumPy (Numerical Python) is a Python library used for:\n",
        "\n",
        "Handling large, multi-dimensional arrays and matrices.\n",
        "\n",
        "Performing mathematical operations (linear algebra, statistics, Fourier transforms, etc.) efficiently.\n",
        "\n",
        "It is the foundation for Data Science, AI/ML, and scientific computing in Python.\n",
        "\n",
        "Built on C and Fortran under the hood → that’s why NumPy is much faster than plain Python lists."
      ],
      "metadata": {
        "id": "2hGrqfnw61bo"
      }
    },
    {
      "cell_type": "code",
      "source": [
        "import numpy as np\n",
        "arr=np.array([1,2,3,4,5])\n",
        "print(arr)\n",
        "print(type(arr))\n"
      ],
      "metadata": {
        "colab": {
          "base_uri": "https://localhost:8080/"
        },
        "id": "wJykzyNj7Z9F",
        "outputId": "69ac5ec4-10a7-4c09-a914-f97acc4a35cc"
      },
      "execution_count": 5,
      "outputs": [
        {
          "output_type": "stream",
          "name": "stdout",
          "text": [
            "[1 2 3 4 5]\n",
            "<class 'numpy.ndarray'>\n"
          ]
        }
      ]
    },
    {
      "cell_type": "markdown",
      "source": [
        "Numpy vs Python List\n",
        "--------------------------\n",
        "\n",
        "*Data types storage\n",
        "*Importing module\n",
        "*Numerical Operation\n",
        "*Modification Capabilities\n",
        "*consumes less memory\n",
        "*fast as compare to python list.\n",
        "*convenient to use.\n",
        "\n",
        "List: [1,2,3,4,5] - comma separated\n",
        "Array: [1 2 3 4 5]"
      ],
      "metadata": {
        "id": "zHPXZpcH9HQR"
      }
    },
    {
      "cell_type": "code",
      "source": [
        "# %timeit\n",
        "# nano - 10**-9\n",
        "# micro - 10**-6\n",
        "\n",
        "#list\n",
        "%timeit [j**4 for j in range(1,9)]\n"
      ],
      "metadata": {
        "colab": {
          "base_uri": "https://localhost:8080/"
        },
        "id": "MKLEHPgpELtI",
        "outputId": "37cee40f-3755-48a0-f530-f8510806d475"
      },
      "execution_count": 14,
      "outputs": [
        {
          "output_type": "stream",
          "name": "stdout",
          "text": [
            "782 ns ± 219 ns per loop (mean ± std. dev. of 7 runs, 1000000 loops each)\n"
          ]
        }
      ]
    },
    {
      "cell_type": "code",
      "source": [
        "\n",
        "#array\n",
        "import numpy as np\n",
        "%timeit np.arange(1,9)**4"
      ],
      "metadata": {
        "colab": {
          "base_uri": "https://localhost:8080/"
        },
        "id": "I3N-s9D1Eziq",
        "outputId": "e46e78c6-2e68-44cb-fc69-a43efa21494e"
      },
      "execution_count": 15,
      "outputs": [
        {
          "output_type": "stream",
          "name": "stdout",
          "text": [
            "2.01 µs ± 55.3 ns per loop (mean ± std. dev. of 7 runs, 100000 loops each)\n"
          ]
        }
      ]
    },
    {
      "cell_type": "code",
      "source": [
        "import numpy as np\n",
        "arr=np.array([1,2,3])\n",
        "print(arr)\n",
        "print(ndim(arr))"
      ],
      "metadata": {
        "colab": {
          "base_uri": "https://localhost:8080/"
        },
        "id": "nCsksKc7HvmK",
        "outputId": "8dec1db1-66bb-442b-db6a-9f88eb9efd53"
      },
      "execution_count": 18,
      "outputs": [
        {
          "output_type": "stream",
          "name": "stdout",
          "text": [
            "[1 2 3]\n",
            "<class 'numpy.ndarray'>\n"
          ]
        }
      ]
    },
    {
      "cell_type": "code",
      "source": [
        "#Taking the elements of the list as input then convert to numpy array.\n",
        "\n",
        "l=[]\n",
        "for i in range(1,5):\n",
        "  inp=int(input(\"Enter element: \"))\n",
        "  l.append(inp)\n",
        "\n",
        "print(np.array(l))"
      ],
      "metadata": {
        "colab": {
          "base_uri": "https://localhost:8080/"
        },
        "id": "rfc8KSJJKtMr",
        "outputId": "8a83676b-3210-4fd9-f754-9d8f78593373"
      },
      "execution_count": 25,
      "outputs": [
        {
          "output_type": "stream",
          "name": "stdout",
          "text": [
            "Enter element: 1\n",
            "Enter element: 2\n",
            "Enter element: 3\n",
            "Enter element: 4\n",
            "[1 2 3 4]\n"
          ]
        }
      ]
    },
    {
      "cell_type": "markdown",
      "source": [
        "Dimensions in Arrays:\n",
        "\n",
        "> 1-D Arrays []\n",
        "> 2-D Arrays  [[]]\n",
        "> 3-D Arrays  [[[]]]\n",
        "> Higher Dimensional  Arrays\n"
      ],
      "metadata": {
        "id": "cOw67-b4L1cD"
      }
    },
    {
      "cell_type": "code",
      "source": [
        "# 1-D array\n",
        "arr=np.array([1,2,3,4,5])\n",
        "print(arr)\n",
        "print(type(arr))\n",
        "print(arr.ndim)"
      ],
      "metadata": {
        "colab": {
          "base_uri": "https://localhost:8080/"
        },
        "id": "trTk9dudNMjo",
        "outputId": "f85f40a9-c5cc-42ce-babc-497239f91af3"
      },
      "execution_count": 26,
      "outputs": [
        {
          "output_type": "stream",
          "name": "stdout",
          "text": [
            "[1 2 3 4 5]\n",
            "<class 'numpy.ndarray'>\n",
            "1\n"
          ]
        }
      ]
    },
    {
      "cell_type": "code",
      "source": [
        "# 2-D Array\n",
        "arr =np.array([[1,2,3],[4,5,6]])\n",
        "print(arr)\n",
        "print(type(arr))\n",
        "print(arr.ndim)\n"
      ],
      "metadata": {
        "colab": {
          "base_uri": "https://localhost:8080/"
        },
        "id": "RwWKsSubNdhp",
        "outputId": "f0bb756a-4630-4a15-b5ab-d890eb76ed01"
      },
      "execution_count": 31,
      "outputs": [
        {
          "output_type": "stream",
          "name": "stdout",
          "text": [
            "[[1 2 3]\n",
            " [4 5 6]]\n",
            "<class 'numpy.ndarray'>\n",
            "2\n"
          ]
        }
      ]
    },
    {
      "cell_type": "code",
      "source": [
        "# 3-D Array\n",
        "arr=np.array([[[1,2,3],[4,5,6]]])\n",
        "print(arr)\n",
        "print(type(arr))\n",
        "print(arr.ndim)"
      ],
      "metadata": {
        "colab": {
          "base_uri": "https://localhost:8080/"
        },
        "id": "ZYBzc2IaOIdS",
        "outputId": "153d19b4-451f-49df-8121-ebded0628b72"
      },
      "execution_count": 32,
      "outputs": [
        {
          "output_type": "stream",
          "name": "stdout",
          "text": [
            "[[[1 2 3]\n",
            "  [4 5 6]]]\n",
            "<class 'numpy.ndarray'>\n",
            "3\n"
          ]
        }
      ]
    },
    {
      "cell_type": "code",
      "source": [
        "#To create n-dimension array without using n sq. braces\n",
        "\n",
        "# np.array([1,2,3],ndmin = n)\n",
        "\n",
        "arr = np.array([1,2,3], ndmin=10)\n",
        "print(arr)\n",
        "print(type(arr))\n",
        "print(arr.ndim)"
      ],
      "metadata": {
        "colab": {
          "base_uri": "https://localhost:8080/"
        },
        "id": "twj0upVnOrN7",
        "outputId": "9e888c9a-04a9-4b85-dcb5-144effe668e5"
      },
      "execution_count": 35,
      "outputs": [
        {
          "output_type": "stream",
          "name": "stdout",
          "text": [
            "[[[[[[[[[[1 2 3]]]]]]]]]]\n",
            "<class 'numpy.ndarray'>\n",
            "10\n"
          ]
        }
      ]
    }
  ]
}