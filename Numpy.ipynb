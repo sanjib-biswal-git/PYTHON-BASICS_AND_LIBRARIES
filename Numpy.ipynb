{
  "nbformat": 4,
  "nbformat_minor": 0,
  "metadata": {
    "colab": {
      "provenance": [],
      "authorship_tag": "ABX9TyNMJ5Qr/Dityx++34vdj46o",
      "include_colab_link": true
    },
    "kernelspec": {
      "name": "python3",
      "display_name": "Python 3"
    },
    "language_info": {
      "name": "python"
    }
  },
  "cells": [
    {
      "cell_type": "markdown",
      "metadata": {
        "id": "view-in-github",
        "colab_type": "text"
      },
      "source": [
        "<a href=\"https://colab.research.google.com/github/sanjib-biswal-git/PYTHON-BASICS_AND_LIBRARIES/blob/main/Numpy.ipynb\" target=\"_parent\"><img src=\"https://colab.research.google.com/assets/colab-badge.svg\" alt=\"Open In Colab\"/></a>"
      ]
    },
    {
      "cell_type": "markdown",
      "source": [
        "# NUMPY - INTRODUCTION"
      ],
      "metadata": {
        "id": "yGrLCT7r1A35"
      }
    },
    {
      "cell_type": "markdown",
      "source": [
        "What is NumPy?\n",
        "------------------\n",
        "\n",
        "NumPy (Numerical Python) is a Python library used for:\n",
        "\n",
        "Handling large, multi-dimensional arrays and matrices.\n",
        "\n",
        "Performing mathematical operations (linear algebra, statistics, Fourier transforms, etc.) efficiently.\n",
        "\n",
        "It is the foundation for Data Science, AI/ML, and scientific computing in Python.\n",
        "\n",
        "Built on C and Fortran under the hood → that’s why NumPy is much faster than plain Python lists."
      ],
      "metadata": {
        "id": "2hGrqfnw61bo"
      }
    },
    {
      "cell_type": "code",
      "source": [
        "import numpy as np\n",
        "arr=np.array([1,2,3,4,5])\n",
        "print(arr)\n",
        "print(type(arr))\n"
      ],
      "metadata": {
        "colab": {
          "base_uri": "https://localhost:8080/"
        },
        "id": "wJykzyNj7Z9F",
        "outputId": "69ac5ec4-10a7-4c09-a914-f97acc4a35cc"
      },
      "execution_count": null,
      "outputs": [
        {
          "output_type": "stream",
          "name": "stdout",
          "text": [
            "[1 2 3 4 5]\n",
            "<class 'numpy.ndarray'>\n"
          ]
        }
      ]
    },
    {
      "cell_type": "markdown",
      "source": [
        "# Numpy vs Python List\n"
      ],
      "metadata": {
        "id": "rc_yFEem01sT"
      }
    },
    {
      "cell_type": "markdown",
      "source": [
        "*Data types storage\n",
        "*Importing module\n",
        "*Numerical Operation\n",
        "*Modification Capabilities\n",
        "*consumes less memory\n",
        "*fast as compare to python list.\n",
        "*convenient to use.\n",
        "\n",
        "List: [1,2,3,4,5] - comma separated\n",
        "Array: [1 2 3 4 5]"
      ],
      "metadata": {
        "id": "zHPXZpcH9HQR"
      }
    },
    {
      "cell_type": "code",
      "source": [
        "# %timeit\n",
        "# nano - 10**-9\n",
        "# micro - 10**-6\n",
        "\n",
        "#list\n",
        "%timeit [j**4 for j in range(1,9)]\n"
      ],
      "metadata": {
        "colab": {
          "base_uri": "https://localhost:8080/"
        },
        "id": "MKLEHPgpELtI",
        "outputId": "37cee40f-3755-48a0-f530-f8510806d475"
      },
      "execution_count": null,
      "outputs": [
        {
          "output_type": "stream",
          "name": "stdout",
          "text": [
            "782 ns ± 219 ns per loop (mean ± std. dev. of 7 runs, 1000000 loops each)\n"
          ]
        }
      ]
    },
    {
      "cell_type": "code",
      "source": [
        "\n",
        "#array\n",
        "import numpy as np\n",
        "%timeit np.arange(1,9)**4"
      ],
      "metadata": {
        "colab": {
          "base_uri": "https://localhost:8080/"
        },
        "id": "I3N-s9D1Eziq",
        "outputId": "e46e78c6-2e68-44cb-fc69-a43efa21494e"
      },
      "execution_count": null,
      "outputs": [
        {
          "output_type": "stream",
          "name": "stdout",
          "text": [
            "2.01 µs ± 55.3 ns per loop (mean ± std. dev. of 7 runs, 100000 loops each)\n"
          ]
        }
      ]
    },
    {
      "cell_type": "code",
      "source": [
        "import numpy as np\n",
        "arr=np.array([1,2,3])\n",
        "print(arr)\n",
        "print(arr.ndim)"
      ],
      "metadata": {
        "colab": {
          "base_uri": "https://localhost:8080/"
        },
        "id": "nCsksKc7HvmK",
        "outputId": "cc83ebfe-4923-4bf4-fb1e-dcf201c6b400"
      },
      "execution_count": null,
      "outputs": [
        {
          "output_type": "stream",
          "name": "stdout",
          "text": [
            "[1 2 3]\n",
            "1\n"
          ]
        }
      ]
    },
    {
      "cell_type": "code",
      "source": [
        "#Taking the elements of the list as input then convert to numpy array.\n",
        "\n",
        "l=[]\n",
        "for i in range(1,5):\n",
        "  inp=int(input(\"Enter element: \"))\n",
        "  l.append(inp)\n",
        "\n",
        "print(np.array(l))"
      ],
      "metadata": {
        "colab": {
          "base_uri": "https://localhost:8080/"
        },
        "id": "rfc8KSJJKtMr",
        "outputId": "8a83676b-3210-4fd9-f754-9d8f78593373"
      },
      "execution_count": null,
      "outputs": [
        {
          "output_type": "stream",
          "name": "stdout",
          "text": [
            "Enter element: 1\n",
            "Enter element: 2\n",
            "Enter element: 3\n",
            "Enter element: 4\n",
            "[1 2 3 4]\n"
          ]
        }
      ]
    },
    {
      "cell_type": "markdown",
      "source": [
        "Dimensions in Arrays:\n",
        "\n",
        "> 1-D Arrays []\n",
        "> 2-D Arrays  [[]]\n",
        "> 3-D Arrays  [[[]]]\n",
        "> Higher Dimensional  Arrays\n"
      ],
      "metadata": {
        "id": "cOw67-b4L1cD"
      }
    },
    {
      "cell_type": "code",
      "source": [
        "# 1-D array\n",
        "arr=np.array([1,2,3,4,5])\n",
        "print(arr)\n",
        "print(type(arr))\n",
        "print(arr.ndim)"
      ],
      "metadata": {
        "colab": {
          "base_uri": "https://localhost:8080/"
        },
        "id": "trTk9dudNMjo",
        "outputId": "f85f40a9-c5cc-42ce-babc-497239f91af3"
      },
      "execution_count": null,
      "outputs": [
        {
          "output_type": "stream",
          "name": "stdout",
          "text": [
            "[1 2 3 4 5]\n",
            "<class 'numpy.ndarray'>\n",
            "1\n"
          ]
        }
      ]
    },
    {
      "cell_type": "code",
      "source": [
        "# 2-D Array\n",
        "arr =np.array([[1,2,3],[4,5,6]])\n",
        "print(arr)\n",
        "print(type(arr))\n",
        "print(arr.ndim)\n"
      ],
      "metadata": {
        "colab": {
          "base_uri": "https://localhost:8080/"
        },
        "id": "RwWKsSubNdhp",
        "outputId": "f0bb756a-4630-4a15-b5ab-d890eb76ed01"
      },
      "execution_count": null,
      "outputs": [
        {
          "output_type": "stream",
          "name": "stdout",
          "text": [
            "[[1 2 3]\n",
            " [4 5 6]]\n",
            "<class 'numpy.ndarray'>\n",
            "2\n"
          ]
        }
      ]
    },
    {
      "cell_type": "code",
      "source": [
        "# 3-D Array\n",
        "arr=np.array([[[1,2,3],[4,5,6]]])\n",
        "print(arr)\n",
        "print(type(arr))\n",
        "print(arr.ndim)"
      ],
      "metadata": {
        "colab": {
          "base_uri": "https://localhost:8080/"
        },
        "id": "ZYBzc2IaOIdS",
        "outputId": "153d19b4-451f-49df-8121-ebded0628b72"
      },
      "execution_count": null,
      "outputs": [
        {
          "output_type": "stream",
          "name": "stdout",
          "text": [
            "[[[1 2 3]\n",
            "  [4 5 6]]]\n",
            "<class 'numpy.ndarray'>\n",
            "3\n"
          ]
        }
      ]
    },
    {
      "cell_type": "code",
      "source": [
        "#To create n-dimension array without using n sq. braces\n",
        "\n",
        "# np.array([1,2,3],ndmin = n)\n",
        "\n",
        "arr = np.array([1,2,3], ndmin=10)\n",
        "print(arr)\n",
        "print(type(arr))\n",
        "print(arr.ndim)"
      ],
      "metadata": {
        "colab": {
          "base_uri": "https://localhost:8080/"
        },
        "id": "twj0upVnOrN7",
        "outputId": "9e888c9a-04a9-4b85-dcb5-144effe668e5"
      },
      "execution_count": null,
      "outputs": [
        {
          "output_type": "stream",
          "name": "stdout",
          "text": [
            "[[[[[[[[[[1 2 3]]]]]]]]]]\n",
            "<class 'numpy.ndarray'>\n",
            "10\n"
          ]
        }
      ]
    },
    {
      "cell_type": "markdown",
      "source": [
        "#Creating NumPy arrays using NumPy function\n",
        "#Spacial NumPy array\n",
        ">Array filled with 0's\n",
        ">Array filled with 1's\n",
        ">Create an empty array\n",
        ">An array with a range of elements\n",
        ">Array diagonal elements filled with 1's\n",
        ">Create an array with values that are spaced linearly in a specified interval."
      ],
      "metadata": {
        "id": "IZC8086bv1zr"
      }
    },
    {
      "cell_type": "code",
      "source": [
        "#Array filled with zeroes\n",
        "import numpy as np\n",
        "ar_zero = np.zeros(4)\n",
        "ar_zero1 = np.zeros((3,4))\n",
        "print(ar_zero)\n",
        "print(\"--------------\")\n",
        "print(ar_zero1)\n"
      ],
      "metadata": {
        "colab": {
          "base_uri": "https://localhost:8080/"
        },
        "id": "FVzXMWWFwzbM",
        "outputId": "c6c82597-aeb6-4041-fd8b-38d6eb6c542f"
      },
      "execution_count": null,
      "outputs": [
        {
          "output_type": "stream",
          "name": "stdout",
          "text": [
            "[0. 0. 0. 0.]\n",
            "--------------\n",
            "[[0. 0. 0. 0.]\n",
            " [0. 0. 0. 0.]\n",
            " [0. 0. 0. 0.]]\n"
          ]
        }
      ]
    },
    {
      "cell_type": "code",
      "source": [
        "#Array filled with ones\n",
        "ar_one = np.ones(4)\n",
        "ar_one1 = np.ones((3,4))\n",
        "print(ar_one)\n",
        "print()\n",
        "print(ar_one1)"
      ],
      "metadata": {
        "colab": {
          "base_uri": "https://localhost:8080/"
        },
        "id": "Qbq3yh_6x94k",
        "outputId": "308c8672-42c8-45f2-a8af-28caea2b6847"
      },
      "execution_count": null,
      "outputs": [
        {
          "output_type": "stream",
          "name": "stdout",
          "text": [
            "[1. 1. 1. 1.]\n",
            "\n",
            "[[1. 1. 1. 1.]\n",
            " [1. 1. 1. 1.]\n",
            " [1. 1. 1. 1.]]\n"
          ]
        }
      ]
    },
    {
      "cell_type": "code",
      "source": [
        "#Create an empty array\n",
        "ar_empty = np.empty(4);\n",
        "print(ar_empty)   #[1. 1. 1. 1.] is output beacuse the previously stored array comes inside the empty array."
      ],
      "metadata": {
        "colab": {
          "base_uri": "https://localhost:8080/"
        },
        "id": "R20t1ZIQyXDI",
        "outputId": "d9823f17-6e52-4226-ba57-d35c45e17775"
      },
      "execution_count": null,
      "outputs": [
        {
          "output_type": "stream",
          "name": "stdout",
          "text": [
            "[1. 1. 1. 1.]\n"
          ]
        }
      ]
    },
    {
      "cell_type": "code",
      "source": [
        "#An array with a range of elements.\n",
        "ar_range = np.arange(4);\n",
        "ar_range2 = np.arange(5,31,5);  # [ 5 10 15 20 25 30] #st,en+1,step-length\n",
        "print(ar_range)"
      ],
      "metadata": {
        "colab": {
          "base_uri": "https://localhost:8080/"
        },
        "id": "1NgQl1D0y2QY",
        "outputId": "b77e775b-1c99-4348-e346-4d153d3f9ac8"
      },
      "execution_count": null,
      "outputs": [
        {
          "output_type": "stream",
          "name": "stdout",
          "text": [
            "[0 1 2 3]\n"
          ]
        }
      ]
    },
    {
      "cell_type": "code",
      "source": [
        "#Array diagonal element filled with 1's\n",
        "\n",
        "ar_diag =np.eye(3) #3*3 2-D array will be created\n",
        "ar_diag =np.eye(3,k=1) #upper triangular\n",
        "ar_diag =np.eye(3,k=-1) #lower triangukar\n",
        "print(ar_diag)"
      ],
      "metadata": {
        "colab": {
          "base_uri": "https://localhost:8080/"
        },
        "id": "1kVBQ0k7zVKK",
        "outputId": "3c7cee6c-c7f7-40c0-fb86-dd7a7f37e09e"
      },
      "execution_count": null,
      "outputs": [
        {
          "output_type": "stream",
          "name": "stdout",
          "text": [
            "[[0. 0. 0.]\n",
            " [1. 0. 0.]\n",
            " [0. 1. 0.]]\n"
          ]
        }
      ]
    },
    {
      "cell_type": "code",
      "source": [
        "# Create an array with values that are spaced linearly in a specified interval.\n",
        "\n",
        "ar_lin = np.linspace(1,10,num=5) #st,en,no-of-element\n",
        "print(ar_lin)"
      ],
      "metadata": {
        "colab": {
          "base_uri": "https://localhost:8080/"
        },
        "id": "Wc4uWh8_0lxS",
        "outputId": "d8296541-a7c1-47db-e544-a2955965d4e2"
      },
      "execution_count": null,
      "outputs": [
        {
          "output_type": "stream",
          "name": "stdout",
          "text": [
            "[ 1.    3.25  5.5   7.75 10.  ]\n"
          ]
        }
      ]
    },
    {
      "cell_type": "code",
      "source": [
        "x=np.identity(3)\n",
        "print(x)"
      ],
      "metadata": {
        "id": "ns2g0uHoT3Y3",
        "outputId": "84cc1fea-6da8-4807-8f64-a5bc98415c7a",
        "colab": {
          "base_uri": "https://localhost:8080/"
        }
      },
      "execution_count": null,
      "outputs": [
        {
          "output_type": "stream",
          "name": "stdout",
          "text": [
            "[[1. 0. 0.]\n",
            " [0. 1. 0.]\n",
            " [0. 0. 1.]]\n"
          ]
        }
      ]
    },
    {
      "cell_type": "markdown",
      "source": [
        "#Creating numpy array with random numbers.\n",
        "\n",
        "rand() - random val b/w 0 and 1.\n",
        "\n",
        "randn() - random val close to 0 , may return +ve or -ve numbers as well.\n",
        "\n",
        "ranf() - fn for doing random sampling in numpy. It returns an array of specified shape and fills it with random floats in the half-open interval [0.0 , 1.0)\n",
        "\n",
        "randint() -random number b/w a given range."
      ],
      "metadata": {
        "id": "4xQDh3tLlxs9"
      }
    },
    {
      "cell_type": "code",
      "source": [
        "#rand()\n",
        "\n",
        "import numpy as np\n",
        "\n",
        "var = np.random.rand(4)\n",
        "var2 = np.random.rand(2,3)\n",
        "print(var)\n",
        "print(\"--------------\")\n",
        "print(var2)"
      ],
      "metadata": {
        "colab": {
          "base_uri": "https://localhost:8080/"
        },
        "id": "CsSzrJ1nnEng",
        "outputId": "20d9d9b8-eaa3-4e55-c5c3-dd1761f37fbe"
      },
      "execution_count": null,
      "outputs": [
        {
          "output_type": "stream",
          "name": "stdout",
          "text": [
            "[0.14585391 0.88007117 0.00805259 0.91833427]\n",
            "--------------\n",
            "[[0.51810686 0.34398772 0.6186955 ]\n",
            " [0.42589297 0.08087106 0.4304478 ]]\n"
          ]
        }
      ]
    },
    {
      "cell_type": "code",
      "source": [
        "#randn()\n",
        "\n",
        "var = np.random.randn(5);\n",
        "print(var)"
      ],
      "metadata": {
        "colab": {
          "base_uri": "https://localhost:8080/"
        },
        "id": "QGtY2kZeo9DD",
        "outputId": "71e94630-c697-4fb0-faff-3854b7f20b7b"
      },
      "execution_count": null,
      "outputs": [
        {
          "output_type": "stream",
          "name": "stdout",
          "text": [
            "[ 0.25678765  0.50900939  2.59359657 -2.81335764  1.08703406]\n"
          ]
        }
      ]
    },
    {
      "cell_type": "code",
      "source": [
        "#ranf()\n",
        "\n",
        "var = np.random.ranf(4);\n",
        "print(var)"
      ],
      "metadata": {
        "colab": {
          "base_uri": "https://localhost:8080/"
        },
        "id": "szMP237QpSDT",
        "outputId": "13e2b322-7ebf-4e3f-ec72-b839bf6ffa15"
      },
      "execution_count": null,
      "outputs": [
        {
          "output_type": "stream",
          "name": "stdout",
          "text": [
            "[0.22325359 0.08319693 0.68352317 0.51925019]\n"
          ]
        }
      ]
    },
    {
      "cell_type": "code",
      "source": [
        "#randint()\n",
        "var = np.random.randint(40,90,6);  # min,max,total_Values\n",
        "print(var)"
      ],
      "metadata": {
        "colab": {
          "base_uri": "https://localhost:8080/"
        },
        "id": "UwmWyWzZpSoA",
        "outputId": "c4b68cc3-1906-441b-f10c-39752315b28d"
      },
      "execution_count": null,
      "outputs": [
        {
          "output_type": "stream",
          "name": "stdout",
          "text": [
            "[86 44 84 69 61 53]\n"
          ]
        }
      ]
    },
    {
      "cell_type": "markdown",
      "source": [
        "Data Type of Numpy Array\n",
        "----------------------------\n",
        "\n",
        "bool_ -  Boolean (True / False)\n",
        "int_  - Default integer type\n",
        "Intc - Identical to C int\n",
        "Intp - Integer used for indexing\n",
        "int8 - Byte(-128 to 127)\n",
        "int16 - Integer (Gradually bigger ranges)\n",
        "int32 - Integer\n",
        "int64 - Integer\n",
        "uint8 - Unsigned integer(0 to 255)\n",
        "float_\n",
        "complex_"
      ],
      "metadata": {
        "id": "ZgBM6pG5r7vd"
      }
    },
    {
      "cell_type": "code",
      "source": [
        "import numpy as np\n",
        "\n",
        "var = np.array([1,2,3,4,5])\n",
        "print(\"Data Type: \",var.dtype)"
      ],
      "metadata": {
        "colab": {
          "base_uri": "https://localhost:8080/"
        },
        "id": "FOPvOShpuEPa",
        "outputId": "0899846f-a2a6-4c2e-b0f8-60a2539f0743"
      },
      "execution_count": null,
      "outputs": [
        {
          "output_type": "stream",
          "name": "stdout",
          "text": [
            "Data Type:  int64\n"
          ]
        }
      ]
    },
    {
      "cell_type": "code",
      "source": [
        "\n",
        "var = np.array([1.0,2,3,4,5])\n",
        "print(\"Data Type: \",var.dtype)"
      ],
      "metadata": {
        "colab": {
          "base_uri": "https://localhost:8080/"
        },
        "id": "xuJ3ogfgwxbS",
        "outputId": "76ed32d4-1e92-4bb6-8528-4adf912eee96"
      },
      "execution_count": null,
      "outputs": [
        {
          "output_type": "stream",
          "name": "stdout",
          "text": [
            "Data Type:  float64\n"
          ]
        }
      ]
    },
    {
      "cell_type": "code",
      "source": [
        "\n",
        "var = np.array([\"Sanjib\",\"B\",\"Y\"])\n",
        "print(\"Data Type: \",var.dtype)"
      ],
      "metadata": {
        "colab": {
          "base_uri": "https://localhost:8080/"
        },
        "id": "BvSiWBT_w2_h",
        "outputId": "530738b4-c771-4db0-9ce4-1e72ac5b3194"
      },
      "execution_count": null,
      "outputs": [
        {
          "output_type": "stream",
          "name": "stdout",
          "text": [
            "Data Type:  <U6\n"
          ]
        }
      ]
    },
    {
      "cell_type": "code",
      "source": [
        "\n",
        "var = np.array([1,2,3,4,5,\"A\",\"B\"])\n",
        "print(\"Data Type: \",var.dtype)"
      ],
      "metadata": {
        "colab": {
          "base_uri": "https://localhost:8080/"
        },
        "id": "tcuytiKoxHEe",
        "outputId": "a2d04851-f5a0-43cf-c4e8-6e68dc4b15fc"
      },
      "execution_count": null,
      "outputs": [
        {
          "output_type": "stream",
          "name": "stdout",
          "text": [
            "Data Type:  <U21\n"
          ]
        }
      ]
    },
    {
      "cell_type": "markdown",
      "source": [
        "#List of characters that are used to represent dtype in NumPy\n",
        "\n",
        "i - integer\n",
        "b - boolean\n",
        "u - unsigned integer\n",
        "f - float\n",
        "c - complex float\n",
        "m - timedelta\n",
        "M - datetime\n",
        "O - object\n",
        "S - string\n",
        "U - Unicode string\n",
        "V - the fixed chunk of memory for other types(void)"
      ],
      "metadata": {
        "id": "PojxoygWxnhP"
      }
    },
    {
      "cell_type": "code",
      "source": [
        "#Change dtype\n",
        "\n",
        "import numpy as np\n",
        "\n",
        "var = np.array([1,2,3,4,5],dtype =np.int8)   #or can use the above short characters\n",
        "\n",
        "# new = np.float32(var);  #another way\n",
        "# new = var.astype(float); #another way\n",
        "\n",
        "print(\"Data Type: \",var.dtype)   #int64 --> int8"
      ],
      "metadata": {
        "colab": {
          "base_uri": "https://localhost:8080/"
        },
        "id": "Nd31GlDoznFZ",
        "outputId": "752ffb35-c8c0-406d-de80-e817faab3aa2"
      },
      "execution_count": null,
      "outputs": [
        {
          "output_type": "stream",
          "name": "stdout",
          "text": [
            "Data Type:  int8\n"
          ]
        }
      ]
    },
    {
      "cell_type": "markdown",
      "source": [
        "Numpy Arithmetic Operators\n",
        "------------------------------\n",
        "> a+b        np.add(a,b)\n",
        "> a-b        np.subtract(a,b)\n",
        "> a*b        np.multiply(a,b)\n",
        "> a/b        np.divide(a,b)\n",
        "> a%b        np.mod(a,b)\n",
        "> a**b       np.power(a,b)\n",
        "> 1/a        np.reciprocal(a)"
      ],
      "metadata": {
        "id": "EAgxaU-R29d9"
      }
    },
    {
      "cell_type": "code",
      "source": [
        "#Arithmetic operations on 1-D Array\n",
        "\n",
        "import numpy as np\n",
        "\n",
        "var = np.array([1,2,3,4])\n",
        "var_add = var + 3;\n",
        "print(var_add)"
      ],
      "metadata": {
        "colab": {
          "base_uri": "https://localhost:8080/"
        },
        "id": "1QHiYJPP38QB",
        "outputId": "2a31a582-679d-4f28-9090-97585fb88ffe"
      },
      "execution_count": null,
      "outputs": [
        {
          "output_type": "stream",
          "name": "stdout",
          "text": [
            "[4 5 6 7]\n"
          ]
        }
      ]
    },
    {
      "cell_type": "code",
      "source": [
        "var1 = np.array([1,2,3,4])\n",
        "var2 = np.array([1,2,3,4])\n",
        "\n",
        "var_add = var1+var2\n",
        "#other ways\n",
        "# var_add = np.add(var1,3);\n",
        "# var_add = np.add(var1,var2);\n",
        "print(var_add)"
      ],
      "metadata": {
        "colab": {
          "base_uri": "https://localhost:8080/"
        },
        "id": "_azjqpHk47gN",
        "outputId": "291a97a5-faa5-4cd0-94f9-c1b33a880d74"
      },
      "execution_count": null,
      "outputs": [
        {
          "output_type": "stream",
          "name": "stdout",
          "text": [
            "[2 4 6 8]\n"
          ]
        }
      ]
    },
    {
      "cell_type": "code",
      "source": [
        "#Arithmetic operations on 2-D Array\n",
        "\n",
        "var2D_1 = np.array([[1,2,3,4],[1,2,3,4]])\n",
        "var2D_2 = np.array([[1,2,3,4],[1,2,3,4]])\n",
        "\n",
        "var_add_2D = var2D_1 + var2D_2;\n",
        "\n",
        "print(var_add_2D)\n"
      ],
      "metadata": {
        "colab": {
          "base_uri": "https://localhost:8080/"
        },
        "id": "6u4ViSlj7k3v",
        "outputId": "b02533da-65de-461c-f71c-cb106748940f"
      },
      "execution_count": null,
      "outputs": [
        {
          "output_type": "stream",
          "name": "stdout",
          "text": [
            "[[2 4 6 8]\n",
            " [2 4 6 8]]\n"
          ]
        }
      ]
    },
    {
      "cell_type": "markdown",
      "source": [
        "**Arithmetic Functions in Numpy**\n",
        "\n",
        "> np.min(x)\n",
        "> np.max(x)\n",
        "> np.argmin(x)  #index of min value\n",
        "> np.sqrt(x)\n",
        "> np.sin(x)\n",
        "> np.cos(x)\n",
        "> np.cumsum(x)   #cumulative sum , running sum"
      ],
      "metadata": {
        "id": "OPSINu2-970i"
      }
    },
    {
      "cell_type": "code",
      "source": [
        "import numpy as np\n",
        "\n",
        "var = np.array([1,2,3,4,5])\n",
        "\n",
        "print(np.max(var))\n",
        "print(np.min(var))\n",
        "print(np.argmin(var))   #index of min value\n",
        "print(np.argmax(var))   #index of max value\n",
        "print(np.sqrt(var))\n",
        "print(np.cumsum(var))  #running sum\n",
        "print(np.sin(var))\n",
        "print(np.cos(var))\n"
      ],
      "metadata": {
        "colab": {
          "base_uri": "https://localhost:8080/"
        },
        "id": "jWIH4_3l-yZj",
        "outputId": "d62e9313-8ee7-4b7a-f33e-b8e499cf0b3c"
      },
      "execution_count": null,
      "outputs": [
        {
          "output_type": "stream",
          "name": "stdout",
          "text": [
            "5\n",
            "1\n",
            "0\n",
            "4\n",
            "[1.         1.41421356 1.73205081 2.         2.23606798]\n",
            "[ 1  3  6 10 15]\n",
            "[ 0.84147098  0.90929743  0.14112001 -0.7568025  -0.95892427]\n",
            "[ 0.54030231 -0.41614684 -0.9899925  -0.65364362  0.28366219]\n"
          ]
        }
      ]
    },
    {
      "cell_type": "code",
      "source": [
        "#2-D Array Stuff\n",
        "# axis -0 (col k along)\n",
        "# axis -1 (row k along)\n",
        "var = np.array([[2,1,3],[9,5,6]])\n",
        "\n",
        "print(np.min(var,axis=0))\n",
        "print(np.min(var,axis=1))"
      ],
      "metadata": {
        "colab": {
          "base_uri": "https://localhost:8080/"
        },
        "id": "Tju6-5lwBfko",
        "outputId": "7a7a8ec0-5c9e-4774-e0f6-4e3ee345a861"
      },
      "execution_count": null,
      "outputs": [
        {
          "output_type": "stream",
          "name": "stdout",
          "text": [
            "[2 1 3]\n",
            "[1 5]\n"
          ]
        }
      ]
    },
    {
      "cell_type": "markdown",
      "source": [
        "**Shape and Reshaping in Numpy Arrays**\n",
        "\n"
      ],
      "metadata": {
        "id": "lFNnAsgZEx5W"
      }
    },
    {
      "cell_type": "code",
      "source": [
        "c=np.array([[1,2],[1,2]])\n",
        "print(c)\n",
        "print()\n",
        "print(c.shape)  #(row,col)"
      ],
      "metadata": {
        "colab": {
          "base_uri": "https://localhost:8080/"
        },
        "id": "vlYzskj9WO1a",
        "outputId": "c0443063-c823-4fd9-be95-abc325aec06d"
      },
      "execution_count": null,
      "outputs": [
        {
          "output_type": "stream",
          "name": "stdout",
          "text": [
            "[[1 2]\n",
            " [1 2]]\n",
            "\n",
            "(2, 2)\n"
          ]
        }
      ]
    },
    {
      "cell_type": "code",
      "source": [
        "var = np.array([1,2,3,4],ndmin=4)\n",
        "\n",
        "print(var)\n",
        "print(var.ndim)\n",
        "print(var.shape)  #(r,r,r,c)"
      ],
      "metadata": {
        "colab": {
          "base_uri": "https://localhost:8080/"
        },
        "id": "Z72VJoR-XesS",
        "outputId": "65a2174a-94e9-448c-85c8-c48a62b67345"
      },
      "execution_count": null,
      "outputs": [
        {
          "output_type": "stream",
          "name": "stdout",
          "text": [
            "[[[[1 2 3 4]]]]\n",
            "4\n",
            "(1, 1, 1, 4)\n"
          ]
        }
      ]
    },
    {
      "cell_type": "code",
      "source": [
        "#Reshaping in numpy --> 1-D to MultiDimensional or vice-versa\n",
        "\n",
        "\n",
        "#1-D ---> 2-D\n",
        "var = np.array([1,2,3,4,5,6])\n",
        "#reshape\n",
        "x=var.reshape(3,2)  #(r,c)  #sufffient elems needed #no blank array in numpy\n",
        "#3*2 = 6 no. of elements\n",
        "print(x)\n",
        "\n"
      ],
      "metadata": {
        "colab": {
          "base_uri": "https://localhost:8080/"
        },
        "id": "7YYf97GzXuUU",
        "outputId": "432a5373-a47e-48c7-ad8c-9ad19ec170a9"
      },
      "execution_count": null,
      "outputs": [
        {
          "output_type": "stream",
          "name": "stdout",
          "text": [
            "[[1 2]\n",
            " [3 4]\n",
            " [5 6]]\n"
          ]
        }
      ]
    },
    {
      "cell_type": "code",
      "source": [
        "#1-D ---> 3-D\n",
        "\n",
        "var = np.array([1,2,3,4,5,6,7,8,9,10,11,12])\n",
        "\n",
        "x = var.reshape(2,2,3)\n",
        "\n",
        "print(x)\n",
        "print(x.ndim)\n",
        "\n",
        "#from any dimension to one-dimension\n",
        "one = x.reshape(-1)\n",
        "print(one)\n",
        "print(one.ndim)"
      ],
      "metadata": {
        "colab": {
          "base_uri": "https://localhost:8080/"
        },
        "id": "0dtK4qk8ZcQT",
        "outputId": "7ed1f7ea-2481-487a-933a-550d759030a1"
      },
      "execution_count": null,
      "outputs": [
        {
          "output_type": "stream",
          "name": "stdout",
          "text": [
            "[[[ 1  2  3]\n",
            "  [ 4  5  6]]\n",
            "\n",
            " [[ 7  8  9]\n",
            "  [10 11 12]]]\n",
            "3\n",
            "[ 1  2  3  4  5  6  7  8  9 10 11 12]\n",
            "1\n"
          ]
        }
      ]
    },
    {
      "cell_type": "markdown",
      "source": [
        "**BroadCasting in Numpy Arrays**\n",
        "\n"
      ],
      "metadata": {
        "id": "r3IvtJWDbIdh"
      }
    },
    {
      "cell_type": "code",
      "source": [
        "#This is part of python not Numpy.\n",
        "x=input() #'2'\n",
        "y=input() #'3'\n",
        "print(x+y)  #23"
      ],
      "metadata": {
        "colab": {
          "base_uri": "https://localhost:8080/"
        },
        "id": "QvH8a3yT6Ftd",
        "outputId": "22c2f77b-4118-4374-8f58-6706085fb964"
      },
      "execution_count": null,
      "outputs": [
        {
          "output_type": "stream",
          "name": "stdout",
          "text": [
            "2\n",
            "3\n",
            "23\n"
          ]
        }
      ]
    },
    {
      "cell_type": "code",
      "source": [
        "x=int(input())\n",
        "print(x) #'Hello\"  ValueError: invalid literal for int() with base 10: 'Hello'\n",
        "\n",
        "print(2**4//2**3)"
      ],
      "metadata": {
        "colab": {
          "base_uri": "https://localhost:8080/"
        },
        "id": "qeOB1w1T69cF",
        "outputId": "7fb3b38b-203b-4196-9d64-22fba6230fba"
      },
      "execution_count": null,
      "outputs": [
        {
          "output_type": "stream",
          "name": "stdout",
          "text": [
            "3\n",
            "3\n",
            "2\n"
          ]
        }
      ]
    },
    {
      "cell_type": "code",
      "source": [
        "print(\"ABC\")\n",
        "print(2**4)"
      ],
      "metadata": {
        "colab": {
          "base_uri": "https://localhost:8080/"
        },
        "id": "Hj7qhIqq_Gin",
        "outputId": "2b444c20-ce35-44f2-c98a-4b23580cf75f"
      },
      "execution_count": null,
      "outputs": [
        {
          "output_type": "stream",
          "name": "stdout",
          "text": [
            "ABC\n",
            "16\n"
          ]
        }
      ]
    },
    {
      "cell_type": "code",
      "source": [
        "if 2<=4<=5:\n",
        "  print(\"LOL\")\n",
        "\n",
        "x=3\n",
        "print(type(x))"
      ],
      "metadata": {
        "colab": {
          "base_uri": "https://localhost:8080/"
        },
        "id": "FSpO3cFf_9UV",
        "outputId": "5515a3b2-9a8d-40ca-801d-c0851f5a87cd"
      },
      "execution_count": null,
      "outputs": [
        {
          "output_type": "stream",
          "name": "stdout",
          "text": [
            "LOL\n",
            "<class 'int'>\n"
          ]
        }
      ]
    },
    {
      "cell_type": "code",
      "source": [
        "x=7\n",
        "y=7\n",
        "print(id(x))\n",
        "print(id(y))  #id fn used to get the memory address"
      ],
      "metadata": {
        "colab": {
          "base_uri": "https://localhost:8080/"
        },
        "id": "kaXCFD0WCPb7",
        "outputId": "6deb5807-88af-4087-9b1f-73d3e07980fd"
      },
      "execution_count": null,
      "outputs": [
        {
          "output_type": "stream",
          "name": "stdout",
          "text": [
            "11642280\n",
            "11642280\n"
          ]
        }
      ]
    },
    {
      "cell_type": "code",
      "source": [
        "import numpy as np\n",
        "arr=np.array([1,2,3,4,5])\n",
        "print(arr.ndim)\n",
        "print(arr.shape) #tuple ans #1-D array of size 5\n",
        "print(arr.size)  #total no of elements"
      ],
      "metadata": {
        "colab": {
          "base_uri": "https://localhost:8080/"
        },
        "id": "k0rgfCvYIkj6",
        "outputId": "dc2819aa-f332-4335-f93d-19bcbcd384d8"
      },
      "execution_count": null,
      "outputs": [
        {
          "output_type": "stream",
          "name": "stdout",
          "text": [
            "1\n",
            "(5,)\n",
            "5\n"
          ]
        }
      ]
    },
    {
      "cell_type": "markdown",
      "source": [
        "# Indexing and Slicing"
      ],
      "metadata": {
        "id": "VPoOz_fjwc32"
      }
    },
    {
      "cell_type": "code",
      "source": [
        "import numpy as np\n",
        "arr = np.array([10,20,30,40,50])\n",
        "print(arr[0])\n",
        "print(arr[-1])\n",
        "print(arr[1:4])\n",
        "print(arr[::2]) # step-slicing"
      ],
      "metadata": {
        "id": "Nr8xpCrHw4AZ",
        "colab": {
          "base_uri": "https://localhost:8080/"
        },
        "outputId": "fdd898d0-43ba-4838-b3a5-6754f0fbba67"
      },
      "execution_count": null,
      "outputs": [
        {
          "output_type": "stream",
          "name": "stdout",
          "text": [
            "10\n",
            "50\n",
            "[20 30 40]\n",
            "[10 30 50]\n"
          ]
        }
      ]
    },
    {
      "cell_type": "markdown",
      "source": [
        "# Shape Manipulation"
      ],
      "metadata": {
        "id": "mGCrBJdhxgAx"
      }
    },
    {
      "cell_type": "code",
      "source": [
        "arr = np.arange(12)\n",
        "print(arr)\n",
        "\n",
        "reshaped = arr.reshape(3,4)\n",
        "print(\"Reshaped:\\n\", reshaped)\n",
        "\n",
        "flat = reshaped.flatten()\n",
        "print(\"Flatten:\", flat)\n",
        "\n",
        "transposed = reshaped.T\n",
        "print(\"Transpose:\\n\", transposed)\n"
      ],
      "metadata": {
        "colab": {
          "base_uri": "https://localhost:8080/"
        },
        "id": "kIH3AH3Sxlkc",
        "outputId": "ae0a5370-7ec4-44a1-814a-ec91b533b40e"
      },
      "execution_count": null,
      "outputs": [
        {
          "output_type": "stream",
          "name": "stdout",
          "text": [
            "[ 0  1  2  3  4  5  6  7  8  9 10 11]\n",
            "Reshaped:\n",
            " [[ 0  1  2  3]\n",
            " [ 4  5  6  7]\n",
            " [ 8  9 10 11]]\n",
            "Flatten: [ 0  1  2  3  4  5  6  7  8  9 10 11]\n",
            "Transpose:\n",
            " [[ 0  4  8]\n",
            " [ 1  5  9]\n",
            " [ 2  6 10]\n",
            " [ 3  7 11]]\n"
          ]
        }
      ]
    },
    {
      "cell_type": "markdown",
      "source": [
        "# Math Operations"
      ],
      "metadata": {
        "id": "EI3CFyCHx1jp"
      }
    },
    {
      "cell_type": "code",
      "source": [
        "arr = np.array([[1,2,3],[4,5,6]])\n",
        "print(\"Mean:\", arr.mean())\n",
        "print(\"Std:\", arr.std())\n",
        "print(\"Sum:\", arr.sum())\n",
        "\n",
        "\n",
        "a = np.array([[1,2],[3,4]])\n",
        "b = np.array([[5,6],[7,8]])\n",
        "\n",
        "print(\"Dot:\\n\", np.dot(a,b))\n",
        "print(\"Matrix mul:\\n\", np.matmul(a,b))\n"
      ],
      "metadata": {
        "colab": {
          "base_uri": "https://localhost:8080/"
        },
        "id": "nQPrhVxYx48h",
        "outputId": "f4ee7f3e-200a-4e01-8648-2737a77d15c0"
      },
      "execution_count": null,
      "outputs": [
        {
          "output_type": "stream",
          "name": "stdout",
          "text": [
            "Mean: 3.5\n",
            "Std: 1.707825127659933\n",
            "Sum: 21\n",
            "Dot:\n",
            " [[19 22]\n",
            " [43 50]]\n",
            "Matrix mul:\n",
            " [[19 22]\n",
            " [43 50]]\n"
          ]
        }
      ]
    },
    {
      "cell_type": "markdown",
      "source": [
        "# Random Module"
      ],
      "metadata": {
        "id": "o_T_SmJ4yNte"
      }
    },
    {
      "cell_type": "code",
      "source": [
        "# Random numbers\n",
        "print(\"rand:\", np.random.rand(2,3))\n",
        "print(\"randn:\", np.random.randn(2,3))     # normal distribution\n",
        "print(\"randint:\", np.random.randint(1,10,(2,3))) # random ints\n",
        "print(\"choice:\", np.random.choice([10,20,30,40], size=5))\n"
      ],
      "metadata": {
        "colab": {
          "base_uri": "https://localhost:8080/"
        },
        "id": "OGGKypUdyQ8E",
        "outputId": "9da867d3-82b9-4733-b5c7-a7a52532fcf6"
      },
      "execution_count": null,
      "outputs": [
        {
          "output_type": "stream",
          "name": "stdout",
          "text": [
            "rand: [[0.43876251 0.72227174 0.63610552]\n",
            " [0.69416708 0.42637912 0.79936165]]\n",
            "randn: [[ 1.44730303 -1.09181578 -0.65233336]\n",
            " [ 0.99177854 -0.83012688  0.23514915]]\n",
            "randint: [[3 5 5]\n",
            " [4 6 2]]\n",
            "choice: [20 20 20 20 40]\n"
          ]
        }
      ]
    }
  ]
}